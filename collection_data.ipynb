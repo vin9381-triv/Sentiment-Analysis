{
 "cells": [
  {
   "cell_type": "markdown",
   "metadata": {},
   "source": [
    "# **Step-1(Testing)**\n",
    "\n",
    "**Data Collection**"
   ]
  },
  {
   "cell_type": "markdown",
   "metadata": {},
   "source": [
    "**Importing Libraries**"
   ]
  },
  {
   "cell_type": "code",
   "execution_count": 1,
   "metadata": {},
   "outputs": [],
   "source": [
    "from pygooglenews import GoogleNews\n",
    "import datetime as dt\n",
    "import time\n",
    "import openpyxl\n",
    "import pandas as pd\n",
    "from bs4 import BeautifulSoup"
   ]
  },
  {
   "cell_type": "markdown",
   "metadata": {},
   "source": [
    "**Defining Keyword - Socio Economic**"
   ]
  },
  {
   "cell_type": "code",
   "execution_count": 14,
   "metadata": {},
   "outputs": [],
   "source": [
    "socio_economic_keywords = [ \"Unemployment\"\n",
    "]\n"
   ]
  },
  {
   "cell_type": "markdown",
   "metadata": {},
   "source": [
    "**Fetching News using GoogleNews**"
   ]
  },
  {
   "cell_type": "code",
   "execution_count": 15,
   "metadata": {},
   "outputs": [],
   "source": [
    "news = GoogleNews(country = 'in')\n",
    "start_date = start_date = dt.date(2023, 1, 1)\n",
    "end_date = end_date = dt.date(2023, 1, 30)\n",
    "\n",
    "all_results = []\n",
    "\n",
    "for keyword in socio_economic_keywords:\n",
    "  sdate = start_date\n",
    "  while sdate<= end_date:\n",
    "    edate = sdate + dt.timedelta(days=30)\n",
    "    i = sdate.strftime('%Y-%m-%d')\n",
    "    j = edate.strftime('%Y-%m-%d')\n",
    "    result = news.search(keyword, from_ = i , to_= j)\n",
    "    time.sleep(5)\n",
    "    sdate = edate + dt.timedelta(days=30)"
   ]
  },
  {
   "cell_type": "code",
   "execution_count": 16,
   "metadata": {},
   "outputs": [
    {
     "data": {
      "text/plain": [
       "dict_keys(['feed', 'entries'])"
      ]
     },
     "execution_count": 16,
     "metadata": {},
     "output_type": "execute_result"
    }
   ],
   "source": [
    "type(result)\n",
    "result.keys()"
   ]
  },
  {
   "cell_type": "code",
   "execution_count": 17,
   "metadata": {},
   "outputs": [
    {
     "name": "stdout",
     "output_type": "stream",
     "text": [
      "Economic slowdown likely to force workers to accept lower quality jobs - ILO\n",
      "Jobs growth slow, unemployment high, more people pushed to poverty: ILO - The Hindu\n",
      "Unemployed population may rise in 2023; Nearly 21 cr may become jobless: Report | Mint - Mint\n",
      "CMIE study: At 37.4%, Haryana has highest unemployment rate in India - The Indian Express\n",
      "India's unemployment rate rises to 8.30% in December, highest in 16 months: Report - The Hindu\n",
      "These states record highest and lowest unemployment rates in December - Hindustan Times\n",
      "U.S. job growth solid, unemployment rate falls to 3.5% - The Hindu\n",
      "Unemployment data: Punjab better than national average; in Haryana, every third person is jobless - The Indian Express\n",
      "Chhattisgarh CM announces unemployment allowance from next financial year - Hindustan Times\n",
      "Watch: 'It Will Take Years to Correct Unemployment, Inequality to Pre-Pandemic Levels' - The Wire\n",
      "Unemployment three times higher than figures suggest as economic ... - Centre for Cities\n",
      "CMIE unemployment figures baseless, beyond facts: Manohar Lal Khattar - The Indian Express\n",
      "December Unemployment Rate Decreases to 3.5 Percent; Rhode ... - Rhode Island -Department of Labor and Training\n",
      "Press Information Bureau - PIB\n",
      "Rahul Gandhi terms Haryana “champion” in unemployment - The Hindu\n",
      "Data vs Politics: Will unemployment set the course for 2024 polls? | Mint - Mint\n",
      "No end in sight for Sri Lanka's crisis as unemployment rate climbs ... - WION\n",
      "Despite India's economic growth, few jobs and meagre pay for urban youth - The Economic Times\n",
      "Despite being educated unemployment rate among Kerala youth huge: Shashi Tharoor - Times of India\n",
      "The Daily — Labour Force Survey, December 2022 - Statistique Canada\n",
      "Spain's unemployment rate inches up to 12.87% in Q4 2022 - Reuters\n",
      "Arkansas unemployment rate drops to 3.6% - Arkansas Online\n",
      "Rural unemployment in central India: Why Adivasi communities are ... - Down To Earth Magazine\n",
      "Federal Pandemic Unemployment Programs: How They Worked - Investopedia\n",
      "Sharad Pawar takes jibe at BJP over unemployment: ‘Young men not finding brides’ - Hindustan Times\n",
      "Unemployment further down in December - Statistics Netherlands\n",
      "Structural Unemployment: Causes, Examples and More - Entrepreneur\n",
      "Minimum wages and unemployment nexus? | Daily Sabah - Daily Sabah\n",
      "Unemployment hits all-time high at 6.91% in Nov - The Business Standard\n",
      "Rising unemployment spurs calls for more support for jobseekers - The Big Issue\n",
      "Detroit unemployment rate drops below 7% for the first time since ... - City of Detroit\n",
      "The explosion of unemployment - Newspaper - DAWN.COM - DAWN.com\n",
      "How Prevalent is Fraud in Federal Programs? We Take a Look ... - Government Accountability Office\n",
      "Department of Labor and Workforce Development - NJ.gov\n",
      "French unemployment levels reach 11-year low – EURACTIV.com - EURACTIV\n",
      "Over 30,000 people gather at Pakistani stadium for police written test | Mint - Mint\n",
      "Spain's unemployment rate hits lowest rate in 15 years - EURACTIV\n",
      "In Confidential Memo, Treasury Secretary Janet Yellen Celebrated ... - The Intercept\n",
      "Jobless claims drop to 190,000 as labor market remains tight - CNN\n",
      "Eurozone labour market still going strong with unemployment at 6.5% - ING Think\n",
      "Subscription To Unemployment Insurance Now Mandatory For UAE ... - Mondaq News Alerts\n",
      "Neshoba's unemployment rate increases during November - Philadelphia Neshoba Democrat\n",
      "Rising unemployment in India: A burden on the economy ... - The Sentinel Assam\n",
      "Reducing inflation without triggering high unemployment is possible, Fed study says. The key is to ignore the lessons of the 1960s - Fortune\n",
      "Disaster Unemployment Assistance has been Approved for Those ... - Cal OES News\n",
      "Labor force characteristics by race and ethnicity, 2021 : BLS Reports ... - Bureau of Labor Statistics\n",
      "Goa CM Urges Panchayats To Conduct Skilling Courses To Deal With Unemployment - Outlook India\n",
      "Bahrain’s unemployment rate decreased in December 2022 - ZAWYA\n",
      "Biden Praises Lowest Jobless Rate in 50 Years After Strong Report - Bloomberg\n",
      "AI and Cloud Could Make Getting Unemployment Insurance Easier ... - EnterpriseAI\n",
      "The Rise of AI Like Chatgpt and Other Chatbots Could Lead to Mass ... - hackernoon.com\n",
      "Solving the UK’s inactivity crisis - Centre for Cities\n",
      "South Korea Dec 2022 unemployment rate rises to 11-month high - Reuters\n",
      "Layoffs are up but jobless claims are down. What gives? - Marketplace\n",
      "Treasury yields rise after unemployment data points to higher Fed rates - CNBC\n",
      "Chittoor district in Andhra Pradesh ranks high in upskilling unemployed youth - The Hindu\n",
      "India's many job scams indicate the depth of its jobs crisis - Quartz\n",
      "U.S. unemployment rate falls in December, but rises for Black women, Hispanic men - CNBC\n",
      "Frictional Unemployment: Causes, Examples and More - Entrepreneur\n",
      "WA jobless workers living ‘surrealistic nightmare’ as recession looms - The Seattle Times\n",
      "Nigeria's unemployment rate projected to hit 37% - NESG - Premium Times\n",
      "UAE Unemployment Insurance Scheme: What happens when I change jobs? - Gulf News\n",
      "Why unemployment remains low even as layoffs tick up - Marketplace\n",
      "Mandatory UAE Unemployment Insurance Scheme: 10 conditions for claiming compensation - Gulf News\n",
      "Filing for unemployment in 2023? Here's how a change in the law ... - Richmond Register\n",
      "Colorado selects company to administer unemployment benefits for ... - Colorado Newsline\n",
      "Unemployment insurance in crisis, needs a fix - CalMatters\n",
      "» Poverty Solutions to help guide Michigan Unemployment ... - Poverty Solutions\n",
      "The inflation-unemployment relationship is not straightforward - Investors Chronicle\n",
      "Statement from President Joe Biden on Lowering Insulin Costs and ... - The White House\n",
      "Cringing tiger, visible drag on economy & ‘Wah, Unemployment-ji, wah!’ - ThePrint\n",
      "Examine the causes behind high rate of unemployment in India in ... - Insights IAS\n",
      "Governor DeSantis Announces Florida's Unemployment Rate Drops ... - Governor Ron DeSantis\n",
      "Unemployment rate hits 12-month low in J&K; entrepreneurship, easy lending major contributors - The - The Kashmir Monitor\n",
      "Congress president Mallikarjun Kharge slams BJP-led Centre for inflation, unemployment - The Hindu\n",
      "Unemployment rate stable in December - Times of Malta\n",
      "Tax Form 1099-G Available Online for Individuals Who Received ... - mo.gov\n",
      "Young Koreans picky about jobs remain unemployed - The Korea JoongAng Daily\n",
      "Colorado slowest in nation at paying unemployment benefits, federal data shows - 9News.com KUSA\n",
      "How ChatGPT could lead to 'mass unemployment' – The Crypto Mile - Yahoo Finance UK\n",
      "WV bill would reduce unemployment benefits, increase job search ... - Mountain State Spotlight\n",
      "Profit warnings at recruitment firms show unemployment is likely to rise - Sky News\n",
      "China's Young Elite Clamor for Government Jobs. Some Come to ... - The New York Times\n",
      "Unemployment agency demanded money back from 1.8M Michiganders before court order - MLive.com\n",
      "Strong Job Growth, Unemployment Rate Show a Provincial ... - Government of Saskatchewan\n",
      "UAE Unemployment Insurance Scheme: Deadline for fines on non-subscribers extended to October 1 - all you need to know - Gulf News\n",
      "More Broken Records: December Unemployment Rate Was Lowest ... - Governor John Bel Edwards\n",
      "New Mexico's unemployment rate has dropped to the lowest level in ... - Albuquerque Journal\n",
      "IRS completes automatic corrections of tax year 2020 accounts ... - IRS\n",
      "Arab world sees highest unemployment rate - The Jerusalem Post\n",
      "Four Reasons Why 2023 Is Starting on a Grim Note for India's Economy - The Wire\n",
      "Unemployment offices will close Monday in honor of MLK Day - Michigan Courts\n",
      "Amarillo tied for lowest unemployment rate in Texas for December - KAMR - MyHighPlains.com\n",
      "Hola Papi: 'I'm Ashamed of Being Unemployed' - The Cut\n",
      "Texas led country in new jobs in 2022 as state's unemployment rate ... - The Texas Tribune\n",
      "Unemployment Eligibility: How many hours can you work and still get unemployment? - Marca\n",
      "Georgia approves unemployment assistance for 7 counties affected by severe storms, tornadoes - WSB Atlanta\n"
     ]
    },
    {
     "data": {
      "text/plain": [
       "97"
      ]
     },
     "execution_count": 17,
     "metadata": {},
     "output_type": "execute_result"
    }
   ],
   "source": [
    "newsitem = result['entries']\n",
    "for item in newsitem:\n",
    "    print(item.title)\n",
    "len(result['entries'])"
   ]
  },
  {
   "cell_type": "code",
   "execution_count": 5,
   "metadata": {},
   "outputs": [
    {
     "name": "stdout",
     "output_type": "stream",
     "text": [
      "Data has been saved to C:\\Users\\Vineet Trivedi\\OneDrive\\Desktop\\College\\Capstone\\Code\\Data\\articles_india.csv\n"
     ]
    }
   ],
   "source": [
    "import csv\n",
    "\n",
    "\n",
    "newsitem = result['entries']\n",
    "titles = []\n",
    "links = []\n",
    "dates = []\n",
    "\n",
    "for item in newsitem:\n",
    "    title = item.get('title', '')\n",
    "    link = item.get('link', '')\n",
    "    date = item.get('published', '')\n",
    "    \n",
    "    titles.append(title)\n",
    "    links.append(link)\n",
    "    dates.append(date)\n",
    "\n",
    "\n",
    "csv_file_path = 'C:\\\\Users\\\\Vineet Trivedi\\\\OneDrive\\\\Desktop\\\\College\\\\Capstone\\\\Code\\\\Data\\\\articles_india.csv'\n",
    "\n",
    "rows = zip(titles, links, dates)\n",
    "with open(csv_file_path, mode='w', newline='', encoding='utf-8') as file:\n",
    "    writer = csv.writer(file)  \n",
    "    writer.writerow(['Title', 'Link', 'Date'])\n",
    "    writer.writerows(rows)\n",
    "\n",
    "print(\"Data has been saved to\", csv_file_path)\n"
   ]
  },
  {
   "cell_type": "markdown",
   "metadata": {},
   "source": [
    "# **Step-2 (Testing)**\n",
    "\n",
    "**Article Summarizing and Keyword Extraction**"
   ]
  },
  {
   "cell_type": "markdown",
   "metadata": {},
   "source": [
    "**Importing Libraries**"
   ]
  },
  {
   "cell_type": "code",
   "execution_count": 6,
   "metadata": {},
   "outputs": [],
   "source": [
    "from newspaper import Article\n",
    "from rake_nltk import Rake\n",
    "import nltk\n"
   ]
  },
  {
   "cell_type": "code",
   "execution_count": 7,
   "metadata": {},
   "outputs": [
    {
     "name": "stderr",
     "output_type": "stream",
     "text": [
      "[nltk_data] Downloading package stopwords to C:\\Users\\Vineet\n",
      "[nltk_data]     Trivedi\\AppData\\Roaming\\nltk_data...\n",
      "[nltk_data]   Package stopwords is already up-to-date!\n",
      "[nltk_data] Downloading package punkt to C:\\Users\\Vineet\n",
      "[nltk_data]     Trivedi\\AppData\\Roaming\\nltk_data...\n",
      "[nltk_data]   Package punkt is already up-to-date!\n"
     ]
    },
    {
     "data": {
      "text/plain": [
       "True"
      ]
     },
     "execution_count": 7,
     "metadata": {},
     "output_type": "execute_result"
    }
   ],
   "source": [
    "nltk.download('stopwords')\n",
    "nltk.download('punkt')"
   ]
  },
  {
   "cell_type": "markdown",
   "metadata": {},
   "source": [
    "**Testing Library functions**"
   ]
  },
  {
   "cell_type": "code",
   "execution_count": 8,
   "metadata": {},
   "outputs": [
    {
     "name": "stdout",
     "output_type": "stream",
     "text": [
      "Title: At 500 a year, rape cases fall by half in Karnataka; cops attribute it to Pocso\n",
      "Authors []\n"
     ]
    }
   ],
   "source": [
    "url = \"https://news.google.com/rss/articles/CBMimQFodHRwczovL3RpbWVzb2ZpbmRpYS5pbmRpYXRpbWVzLmNvbS9jaXR5L2JlbmdhbHVydS9hdC01MDAtYS15ZWFyLXJhcGUtY2FzZXMtZmFsbC1ieS1oYWxmLWluLWthcm5hdGFrYS1jb3BzLWF0dHJpYnV0ZS1pdC10by1wb2Nzby9hcnRpY2xlc2hvdy85Njg2NTc3Ny5jbXPSAZQBaHR0cHM6Ly9tLnRpbWVzb2ZpbmRpYS5jb20vY2l0eS9iZW5nYWx1cnUvYXQtNTAwLWEteWVhci1yYXBlLWNhc2VzLWZhbGwtYnktaGFsZi1pbi1rYXJuYXRha2EtY29wcy1hdHRyaWJ1dGUtaXQtdG8tcG9jc28vYW1wX2FydGljbGVzaG93Lzk2ODY1Nzc3LmNtcw?oc=5\"\n",
    "my_article = Article(url, language = 'en')\n",
    "my_article.download()\n",
    "my_article.parse()\n",
    "print('Title:',my_article.title)\n",
    "print('Authors',my_article.authors)"
   ]
  },
  {
   "cell_type": "code",
   "execution_count": 9,
   "metadata": {},
   "outputs": [
    {
     "name": "stdout",
     "output_type": "stream",
     "text": [
      "Summary: Implementation of Pocso Act is certainly one factor that has resulted in reduction of cases under the IPC, but it is not the only reason.\n",
      "In the past five years, out of the 2,551 cases, nearly a quarter of the cases (622) were reported in Bengaluru, with most cases registered in 2022 (148) and 2019 (143).\n",
      "There is also the issue of her right to not report rape.\n",
      "Our endeavour is the same with all cases against women, but some rape cases tend to drag on due to various processes,\" the officer said.Dona further added that in some cases women, especially those who were sexually assaulted when they were minors - say 16 or 17 years of age - tend to drop cases after they turn 18.\n",
      "\"It sometimes takes five years for rape cases to reach the first stage in courts and women don't want this to drag on and affect them.\n"
     ]
    },
    {
     "data": {
      "text/plain": [
       "str"
      ]
     },
     "execution_count": 9,
     "metadata": {},
     "output_type": "execute_result"
    }
   ],
   "source": [
    "my_article.nlp()\n",
    "summ = my_article.summary\n",
    "print('Summary:', summ)\n",
    "type(my_article.summary)"
   ]
  },
  {
   "cell_type": "markdown",
   "metadata": {},
   "source": [
    "**Keyword Extraction**"
   ]
  },
  {
   "cell_type": "code",
   "execution_count": 10,
   "metadata": {},
   "outputs": [
    {
     "name": "stdout",
     "output_type": "stream",
     "text": [
      "Keyword: sometimes takes five years, Score: 14.5\n",
      "Keyword: past five years, Score: 9.5\n",
      "Keyword: various processes ,\", Score: 9.0\n",
      "Keyword: certainly one factor, Score: 9.0\n",
      "Keyword: rape cases tend, Score: 6.111111111111111\n",
      "Keyword: 17 years, Score: 5.0\n",
      "Keyword: report rape, Score: 4.333333333333334\n",
      "Keyword: rape cases, Score: 4.111111111111111\n",
      "Keyword: turn 18, Score: 4.0\n",
      "Keyword: sexually assaulted, Score: 4.0\n",
      "Keyword: say 16, Score: 4.0\n",
      "Keyword: pocso act, Score: 4.0\n",
      "Keyword: officer said, Score: 4.0\n",
      "Keyword: first stage, Score: 4.0\n",
      "Keyword: 143 )., Score: 4.0\n",
      "Keyword: drop cases, Score: 3.7777777777777777\n",
      "Keyword: cases registered, Score: 3.7777777777777777\n",
      "Keyword: 551 cases, Score: 3.7777777777777777\n",
      "Keyword: cases women, Score: 3.1111111111111107\n",
      "Keyword: tend, Score: 2.0\n",
      "Keyword: cases, Score: 1.7777777777777777\n",
      "Keyword: cases, Score: 1.7777777777777777\n",
      "Keyword: cases, Score: 1.7777777777777777\n",
      "Keyword: women, Score: 1.3333333333333333\n",
      "Keyword: women, Score: 1.3333333333333333\n",
      "Keyword: want, Score: 1.0\n",
      "Keyword: right, Score: 1.0\n",
      "Keyword: resulted, Score: 1.0\n",
      "Keyword: reported, Score: 1.0\n",
      "Keyword: reduction, Score: 1.0\n",
      "Keyword: reason, Score: 1.0\n",
      "Keyword: reach, Score: 1.0\n",
      "Keyword: quarter, Score: 1.0\n",
      "Keyword: nearly, Score: 1.0\n",
      "Keyword: minors, Score: 1.0\n",
      "Keyword: issue, Score: 1.0\n",
      "Keyword: ipc, Score: 1.0\n",
      "Keyword: implementation, Score: 1.0\n",
      "Keyword: especially, Score: 1.0\n",
      "Keyword: endeavour, Score: 1.0\n",
      "Keyword: due, Score: 1.0\n",
      "Keyword: drag, Score: 1.0\n",
      "Keyword: drag, Score: 1.0\n",
      "Keyword: dona, Score: 1.0\n",
      "Keyword: courts, Score: 1.0\n",
      "Keyword: bengaluru, Score: 1.0\n",
      "Keyword: also, Score: 1.0\n",
      "Keyword: age, Score: 1.0\n",
      "Keyword: affect, Score: 1.0\n",
      "Keyword: added, Score: 1.0\n",
      "Keyword: 622, Score: 1.0\n",
      "Keyword: 2022, Score: 1.0\n",
      "Keyword: 2019, Score: 1.0\n",
      "Keyword: 2, Score: 1.0\n",
      "Keyword: 148, Score: 1.0\n"
     ]
    }
   ],
   "source": [
    "r = Rake()\n",
    "r.extract_keywords_from_text(summ)\n",
    "keywords_with_scores = r.get_ranked_phrases_with_scores()\n",
    "\n",
    "# Print the keywords and scores\n",
    "for score, keyword in keywords_with_scores:\n",
    "    print(f\"Keyword: {keyword}, Score: {score}\")\n",
    "\n"
   ]
  },
  {
   "cell_type": "markdown",
   "metadata": {},
   "source": [
    "# **Step-3(Testing)**\n",
    "\n",
    "**Fetching News based on extracted keywords** "
   ]
  },
  {
   "cell_type": "code",
   "execution_count": 12,
   "metadata": {},
   "outputs": [],
   "source": [
    "gn = GoogleNews(country = 'in')\n",
    "q = 'sometimes takes five years'\n",
    "s = gn.search(q )"
   ]
  },
  {
   "cell_type": "code",
   "execution_count": 13,
   "metadata": {},
   "outputs": [
    {
     "name": "stdout",
     "output_type": "stream",
     "text": [
      "The Mutual Fund Show: All You Need To Know About Nippon India Innovation Fund - BQ Prime\n",
      "U.S. Department of Education Takes Action Against Five Schools for ... - US Department of Education\n",
      "Recent 50% pullback isn't enough to hurt long-term Travel Technology Interactive (EPA:ALTTI) shareholders, they're still up 755% over 5 years - Simply Wall St\n",
      "Last men outstanding - The Cricket Monthly\n",
      "Immortals of Aveum pushes Unreal Engine 5 hard - and image ... - Eurogamer.net\n",
      "Harmonic (NASDAQ:HLIT) shareholders have earned a 13% CAGR over the last five years - Yahoo Finance\n",
      "Why America’s Election is Canada’s Business - Policy Magazine\n",
      "The global crisis of religious persecution – GIS Reports - Geopolitical Intelligence Services AG\n",
      "Former CEO takes in State Fair as a civilian for first time since 1969 - MinnPost\n",
      "The five-year shareholder returns and company earnings persist lower as Capitol Federal Financial (NASDAQ:CFFN) stock falls a further 6.8% in past week - Simply Wall St\n",
      "The 14% return this week takes Eltek's (NASDAQ:ELTK) shareholders five-year gains to 130% - Simply Wall St\n",
      "Learn How to Build an Impactful CSR Program for Your Business - Home Furnishings Association\n",
      "Empowering Joy: How Figure Skating Transformed Jayda's World - skatecanada.ca\n",
      "Retention and recruitment: Local school districts, universities seek teacher shortage solutions - Greeley Tribune\n",
      "Five years after Thunder Bay introduced new idling regulations, one advocate says not much has changed - CBC.ca\n",
      "UCF Rivalries: Old and New - UCF\n",
      "Positive earnings growth hasn't been enough to get Corbion (AMS:CRBN) shareholders a favorable return over the last three years - Simply Wall St\n",
      "In Second Year, Rhythm Exchange Keeps The Beat - Arts Council of Greater New Haven\n",
      "I Took 2 Travelers With a 70-year Age Gap on an International Trip ... - Travel + Leisure\n",
      "Female genital mutilation leads to over 40,000 excess deaths in ... - Down To Earth Magazine\n",
      "P Chidambaram writes: How we ‘work’ the Constitution - The Indian Express\n",
      "This Fidelity manager has crushed the S&P 500 since 1989—here's his advice for investors - CNBC\n",
      "Revealed: Canada's 5 Most Relaxing Airports - Simple Flying\n",
      "This church-turned-house in small-town Ontario has a thoroughly modern interior - Maclean's\n",
      "Aakanksha Bhargav | CEO, PM Relocation - The Weekend Leader\n",
      "TikTok star Kayleigh Trappe says she gets a 'buzz' from celebs ... - Sunday World\n",
      "Woolworths Group Limited (ASX:WOW) Pays A AU$0.58 Dividend In Just Four Days - Simply Wall St\n",
      "Bleak warning as Australia to ditch cash - news.com.au\n",
      "'Everyone will be served': Sojourner Truth Ministries provides over ... - Williamsport Sun-Gazette\n",
      "The 'Star Wars' timeline is confusing. Here's when 'The Mandalorian ... - WDJT\n",
      "The Top 5 Longreads of the Week - Longreads\n",
      "Taking more than 5 pills a day? 'Deprescribing' can prevent harm ... - The Conversation\n",
      "Is Mark Williams the Hornets’ center of the future? - SB Nation\n",
      "High blood pressure can affect kids but often goes undiagnosed - Science News Explores\n",
      "Those who invested in Generac Holdings (NYSE:GNRC) five years ago are up 107% - Simply Wall St\n",
      "Jos Buttler provides the pyrotechnics on night of scorching strokeplay - ESPNcricinfo\n",
      "Samsung Galaxy Z Fold 5 review: Crawling towards perfection - SamMobile - Samsung news\n",
      "David Canter accepts demotion at Bluespring after zero closed ... - RIABiz\n",
      "Russia's economy is overheating - The Bell\n",
      "A, B or C? Scoring Ita Buttrose’s five-year tenure as chair of the ABC - Sydney Morning Herald\n",
      "Central U.S. Heat Dome Challenges Temperature Records and ... - The New York Times\n",
      "3 generations of archers embrace tradition at Mi'kmaw Summer Games - CBC.ca\n",
      "Crack cocaine floods Brussels as alarm sounds over safety in EU capital - POLITICO Europe\n",
      "The Young Bucks wrestle FTR at AEW All In in London's Wembley ... - Sports Illustrated\n",
      "The deadly craze that is seeing British youngsters risk their lives on holiday: How 'balconing' - jumping from - Daily Mail\n",
      "Satellite built as low-cost way to reduce space junk reenters atmosphere years early - Phys.org\n",
      "How to make a Mediterranean 'lazy girl' lunch: sweet potato, halloumi - Insider\n",
      "Why Your Favorite Hobby Shouldn't Be Your Next Business Idea - Entrepreneur\n",
      "Five years after narrowly keeping his job, Max Homa soars atop ... - PGA TOUR\n",
      "Further weakness as Fnac Darty (EPA:FNAC) drops 5.6% this week, taking five-year losses to 55% - Simply Wall St\n",
      "FutureFuel (NYSE:FF) Could Be A Buy For Its Upcoming Dividend - Simply Wall St\n",
      "HUMBOLDT HISTORY: Remembering the Wonderful Arcata ... - Lost Coast Outpost\n",
      "The needles and the damage done: Inside our neighbourhood’s battle over unsafe injection, crime and murder - National Post\n",
      "127000 New York Workers Have Been Victims of Wage Theft - ProPublica\n",
      "Editorial: Justice and accountability in Florida would cut the need for ... - Orlando Sentinel\n",
      "Can I drink alcohol-free beer at work? (And other possibly inappropriate scenarios) - Sky News\n",
      "Big 12's days of Air Raid offenses give way to balance and, sometimes, ground-based attacks - NBC 5 Dallas-Fort Worth\n",
      "In push to reduce violence, use of Florida's red-flag law to remove ... - Palm Beach Post\n",
      "Men who abandoned me with three kids strengthened me – Polio survivor - Punch Newspapers\n",
      "Famed medium Theresa Caputo has new TV show coming, will ... - Detroit Free Press\n",
      "Vicky Pattison diagnosed with PMDD after desperate five-year fight ... - Heart\n",
      "The giant troll in Victor: A Danish artist brings one of his international ... - The Colorado Sun\n",
      "The Unexpected Benefits of an Unrequited Crush - The Atlantic\n",
      "How One Couple Paid Off $100,000, Acquired $1.3 Million In Real Estate And Retired In Their 30’s - Forbes\n",
      "EXCLUSIVE: 'Everyone thought I couldn't do it. But I did.' Former WWE star Paige lays bare brutal years-long s - Daily Mail\n",
      "When dams break - AZPM - AZPM\n",
      "How Often Can You File For Bankruptcy - Business Insider\n",
      "5 cool equipment finds inside Scottie Scheffler’s golf bag | Bag Spy - Golf.com\n",
      "Chugiak girls sweep top 5 spots at Big 8 cross country meet - Anchorage Daily News\n",
      "the region's premier license plate swap meet was a treasure - DCist\n",
      "IN FOCUS: 'It's overwhelming' – the reality of raising a child with ... - CNA\n",
      "Inside Revolution: Foundations for Success - Motorsport UK\n",
      "R&R Hall of Famer Marky Ramone appearing at San Antonio events ... - San Antonio Current\n",
      "In a rare win, a migrant worker sued his bosses in Singapore. And won - CNN\n",
      "UK Police Force Loses 3 Years of Body Camera Footage - Slashdot\n",
      "I once slept on moving truck to protect my goods – Erisco CEO - Punch Newspapers\n",
      "What are the chances Novak Djokovic and Carlos Alcaraz duel at ... - Tennis Magazine\n",
      "Examining The Writers' Strike As Labor Day Looms - Texas A&M University Today\n",
      "Class of 2027: Accomplished, 'Terrific' People, With More Pell Grants ... - UVA Today\n",
      "Two years after Taliban took Kabul, Afghan Bard graduates hope to ... - Times Union\n",
      "Bree Tomasel on Celebrity Treasure Island secrets, her private life ... - New Zealand Herald\n",
      "Teens thrive in competition on rodeo circuit - Palatka Daily News\n",
      "How West Australian women are taking control of their fertility and ... - The West Australian\n",
      "COLUMN | How to create healthy habits for your school year - The Auburn Plainsman\n",
      "'Outlander': Everything we know about the 10th and final book - Insider\n",
      "Migrants in Chicago face frustrating waits for work permits - Chicago Sun-Times\n",
      "Inching forward in Bakhmut counteroffensive, Ukraine's hardened ... - Kyiv Independent\n",
      "Working mom shares how she's been doing zero screen time with toddler - Insider\n",
      "The PhD student imprisoned for being a spy: 'I live with a huge ... - The Telegraph\n",
      "Manchin Moves Ball Forward on Permitting Reform - U.S. Senate ... - US Senate Committee on Energy and Natural Resources\n",
      "At 100 years old, I'm the 'world's oldest practicing doctor'—5 things I never do to live a long, happy life - CNBC\n",
      "The Five Stages of DEI Maturity - HBR.org Daily\n"
     ]
    }
   ],
   "source": [
    "newsitem2 = s['entries']\n",
    "for item in newsitem2:\n",
    "  print(item.title)"
   ]
  }
 ],
 "metadata": {
  "kernelspec": {
   "display_name": "project",
   "language": "python",
   "name": "python3"
  },
  "language_info": {
   "codemirror_mode": {
    "name": "ipython",
    "version": 3
   },
   "file_extension": ".py",
   "mimetype": "text/x-python",
   "name": "python",
   "nbconvert_exporter": "python",
   "pygments_lexer": "ipython3",
   "version": "3.11.2"
  },
  "orig_nbformat": 4
 },
 "nbformat": 4,
 "nbformat_minor": 2
}
