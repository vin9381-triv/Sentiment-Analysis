{
 "cells": [
  {
   "cell_type": "markdown",
   "metadata": {},
   "source": [
    "# **Step-1(Testing)**\n",
    "\n",
    "**Data Collection**"
   ]
  },
  {
   "cell_type": "markdown",
   "metadata": {},
   "source": [
    "**Importing Libraries**"
   ]
  },
  {
   "cell_type": "code",
   "execution_count": 10,
   "metadata": {},
   "outputs": [],
   "source": [
    "from pygooglenews import GoogleNews\n",
    "import datetime as dt\n",
    "import time\n",
    "import openpyxl\n",
    "import pandas as pd"
   ]
  },
  {
   "cell_type": "markdown",
   "metadata": {},
   "source": [
    "**Defining Keyword - Socio Economic**"
   ]
  },
  {
   "cell_type": "code",
   "execution_count": 11,
   "metadata": {},
   "outputs": [],
   "source": [
    "socio_economic_keywords = [\n",
    "    \"Poverty\" , \"Wealth Gap\",\"Income inequality\", \"Education access\"\n",
    "]\n"
   ]
  },
  {
   "cell_type": "markdown",
   "metadata": {},
   "source": [
    "**Fetching News using GoogleNews**"
   ]
  },
  {
   "cell_type": "code",
   "execution_count": 12,
   "metadata": {},
   "outputs": [],
   "source": [
    "# news = GoogleNews('en','IN')\n",
    "# start_date = start_date = dt.date(2021, 1, 1)\n",
    "# end_date = end_date = dt.date(2021, 3, 1)\n",
    "\n",
    "# all_results = []\n",
    "\n",
    "# for keyword in socio_economic_keywords:\n",
    "#   sdate = start_date\n",
    "#   while sdate<= end_date:\n",
    "#     edate = sdate + dt.timedelta(days=30)\n",
    "#     i = sdate.strftime('%Y-%m-%d')\n",
    "#     j = edate.strftime('%Y-%m-%d')\n",
    "#     result = news.search(keyword, from_ = i , to_= j)\n",
    "#     # print(type(result))\n",
    "#     # print(result.keys())\n",
    "#     articles = result.get('entries', [])\n",
    "#     # print(articles)\n",
    "#     all_results.extend(articles)\n",
    "#     time.sleep(5)\n",
    "#     sdate = edate + dt.timedelta(days=30)\n",
    "\n",
    "\n",
    "\n",
    "\n",
    "\n"
   ]
  },
  {
   "cell_type": "code",
   "execution_count": 14,
   "metadata": {},
   "outputs": [],
   "source": [
    "# import csv\n",
    "# csv_file_path = 'C:\\\\Users\\\\Vineet Trivedi\\\\OneDrive\\\\Desktop\\\\College\\\\Capstone\\\\Code\\\\Data\\\\news_articles_new.csv'\n",
    "\n",
    "# # Write the articles to the CSV file\n",
    "# with open(csv_file_path, mode='w', newline='', encoding='utf-8') as csv_file:\n",
    "#     fieldnames = ['title', 'published', 'link']\n",
    "#     writer = csv.DictWriter(csv_file, fieldnames=fieldnames)\n",
    "    \n",
    "#     # Write the header\n",
    "#     writer.writeheader()\n",
    "    \n",
    "#     # Write each article as a row\n",
    "#     for article in all_results:\n",
    "#         writer.writerow({\n",
    "#             'title': article.get('title', ''),\n",
    "#             'published': article.get('published', ''),\n",
    "#             'link': article.get('link', '')\n",
    "#         })\n",
    "\n",
    "# print(f\"Articles saved to {csv_file_path}\")"
   ]
  },
  {
   "cell_type": "markdown",
   "metadata": {},
   "source": [
    "# **Step-2 (Testing)**\n",
    "\n",
    "**Article Summarizing and Keyword Extraction**"
   ]
  },
  {
   "cell_type": "markdown",
   "metadata": {},
   "source": [
    "**Importing Libraries**"
   ]
  },
  {
   "cell_type": "code",
   "execution_count": null,
   "metadata": {},
   "outputs": [],
   "source": [
    "from newspaper import Article\n",
    "import nltk\n"
   ]
  },
  {
   "cell_type": "code",
   "execution_count": null,
   "metadata": {},
   "outputs": [
    {
     "name": "stderr",
     "output_type": "stream",
     "text": [
      "[nltk_data] Error loading punkt: <urlopen error [WinError 10060] A\n",
      "[nltk_data]     connection attempt failed because the connected party\n",
      "[nltk_data]     did not properly respond after a period of time, or\n",
      "[nltk_data]     established connection failed because connected host\n",
      "[nltk_data]     has failed to respond>\n"
     ]
    },
    {
     "data": {
      "text/plain": [
       "False"
      ]
     },
     "execution_count": 4,
     "metadata": {},
     "output_type": "execute_result"
    }
   ],
   "source": [
    "nltk.download('punkt')"
   ]
  },
  {
   "cell_type": "markdown",
   "metadata": {},
   "source": [
    "**Testing Library functions**"
   ]
  },
  {
   "cell_type": "code",
   "execution_count": null,
   "metadata": {},
   "outputs": [
    {
     "name": "stdout",
     "output_type": "stream",
     "text": [
      "Title: How China is Fighting Against Extreme Rural Poverty\n",
      "Authors ['Staff Reports']\n"
     ]
    }
   ],
   "source": [
    "url = 'https://news.google.com/rss/articles/CBMiSmh0dHBzOi8vd3d3LmJvcmdlbm1hZ2F6aW5lLmNvbS9jaGluYXMtZmlnaHQtYWdhaW5zdC1leHRyZW1lLXJ1cmFsLXBvdmVydHkv0gEA?oc=5'\n",
    "my_article = Article(url, language = 'en')\n",
    "my_article.download()\n",
    "my_article.parse()\n",
    "print('Title:',my_article.title)\n",
    "print('Authors',my_article.authors)"
   ]
  },
  {
   "cell_type": "code",
   "execution_count": null,
   "metadata": {},
   "outputs": [
    {
     "name": "stdout",
     "output_type": "stream",
     "text": [
      "Summary: Despite this, China continues to struggle with extreme rural poverty.\n",
      "Addressing Extreme Rural Poverty in ChinaChina’s President Xi Jinping vowed to end poverty in China by 2020—a deadline set a decade ahead of the U.N.’s Sustainable Development Goals target of ending global poverty.\n",
      "Why Poverty Sticks in Rural AreasMoving to the city has long been viewed as a solution to rural poverty in China.\n",
      "The Hukou system is one of the major contributors to the continuation of extreme rural poverty in China.\n",
      "Something Old, Something NewOver the years, China made several efforts to alleviate extreme rural poverty in China.\n"
     ]
    }
   ],
   "source": [
    "my_article.nlp()\n",
    "print('Summary:', my_article.summary)"
   ]
  },
  {
   "cell_type": "markdown",
   "metadata": {},
   "source": [
    "**Keyword Extraction**"
   ]
  },
  {
   "cell_type": "code",
   "execution_count": null,
   "metadata": {},
   "outputs": [
    {
     "name": "stdout",
     "output_type": "stream",
     "text": [
      "Keywords: ['yi', 'live', 'history', 'chinese', 'poverty', 'rural', 'population', 'local', 'makes', 'extreme', 'fighting', 'china']\n"
     ]
    }
   ],
   "source": [
    "r = my_article.keywords\n",
    "print('Keywords:', r)\n"
   ]
  },
  {
   "cell_type": "markdown",
   "metadata": {},
   "source": [
    "# **Step-3(Testing)**\n",
    "\n",
    "**Fetching News based on extracted keywords** "
   ]
  },
  {
   "cell_type": "code",
   "execution_count": 15,
   "metadata": {},
   "outputs": [],
   "source": [
    "gn = GoogleNews(lang = 'en', country = 'in')\n",
    "word_list = ['yi', 'local', 'fighting', 'china', 'extreme', 'population', 'live', 'chinese', 'poverty', 'makes', 'rural', 'history']\n",
    "\n",
    "# Join the words into a single string\n",
    "search_query = ' '.join(word_list)\n",
    "\n",
    "# Encode the query into bytes\n",
    "encoded_query = search_query.encode('utf-8')\n",
    "\n",
    "s = gn.search(encoded_query)"
   ]
  },
  {
   "cell_type": "code",
   "execution_count": 16,
   "metadata": {},
   "outputs": [
    {
     "name": "stdout",
     "output_type": "stream",
     "text": [
      "Decoding Rural Revitalisation, Xi Jinping’s New Priority - Observer Research Foundation\n",
      "How China is Fighting Against Extreme Rural Poverty - BORGEN - Borgen Project\n",
      "Poverty Alleviation: China's Experience and Contribution - Xinhua ... - Xinhua\n",
      "China's first population drop in 6 decades sounds alarm on ... - DAWN.com\n",
      "How Successful Was China's Poverty Alleviation Drive? - The Diplomat\n",
      "AAPI Month Brings New Research on Asian American Communities - Bloomberg\n",
      "Neo-Malthusianism and Coercive Population Control in China and ... - Cato Institute\n",
      "Xinhua Headlines-Xi Focus: Xi Jinping and China's anti-poverty war ... - Xinhua\n",
      "Chinese Statue of Yang Asha, Goddess of Beauty, Sparks Debate - The New York Times\n",
      "February 24, 2023 - It's now one year since Russia's invasion of Ukraine began - CNN International\n",
      "Another Annus Horribilis for the Fed by Mohamed A. El-Erian - Project Syndicate\n",
      "Bengal Lights for the Belt and Road Initiative: Specifics of Bangladesh Policy - Modern Diplomacy\n",
      "Elon Musk's First Move Is To Fire The Person Most Responsible For ... - Techdirt\n",
      "The Pentagon: U.S. completes withdrawal from Afghanistan - CGTN\n",
      "Taliban Bans TikTok, Popular Video Game In Afghanistan - Radio Free Europe / Radio Liberty\n",
      "'We Are Hungry': Afghan Schools Left Without Teachers As Instructors Struggle To Survive - Radio Free Europe / Radio Liberty\n",
      "Houthi missile arsenal holds a key to future Yemen peace - Reuters.com\n",
      "Afghan President Calls On Taliban To Join Peace Process - Radio Free Europe / Radio Liberty\n",
      "Nine Members Of Afghan Military Killed In Helicopter Crash - Radio Free Europe / Radio Liberty\n",
      "German Hostage Appeals For Help In Afghan Video - Radio Free Europe / Radio Liberty\n",
      "news - Hazards Magazine\n"
     ]
    }
   ],
   "source": [
    "newsitem2 = s['entries']\n",
    "for item in newsitem2:\n",
    "  print(item.title)"
   ]
  },
  {
   "cell_type": "code",
   "execution_count": null,
   "metadata": {},
   "outputs": [],
   "source": []
  }
 ],
 "metadata": {
  "kernelspec": {
   "display_name": "project",
   "language": "python",
   "name": "python3"
  },
  "language_info": {
   "codemirror_mode": {
    "name": "ipython",
    "version": 3
   },
   "file_extension": ".py",
   "mimetype": "text/x-python",
   "name": "python",
   "nbconvert_exporter": "python",
   "pygments_lexer": "ipython3",
   "version": "3.11.2"
  },
  "orig_nbformat": 4
 },
 "nbformat": 4,
 "nbformat_minor": 2
}
