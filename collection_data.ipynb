{
 "cells": [
  {
   "cell_type": "markdown",
   "metadata": {},
   "source": [
    "# **Step-1(Testing)**\n",
    "\n",
    "**Data Collection**"
   ]
  },
  {
   "cell_type": "markdown",
   "metadata": {},
   "source": [
    "**Importing Libraries**"
   ]
  },
  {
   "cell_type": "code",
   "execution_count": 79,
   "metadata": {},
   "outputs": [],
   "source": [
    "from pygooglenews import GoogleNews\n",
    "import datetime as dt\n",
    "import time\n",
    "import openpyxl\n",
    "import pandas as pd"
   ]
  },
  {
   "cell_type": "markdown",
   "metadata": {},
   "source": [
    "**Defining Keyword - Socio Economic**"
   ]
  },
  {
   "cell_type": "code",
   "execution_count": 80,
   "metadata": {},
   "outputs": [],
   "source": [
    "socio_economic_keywords = [\n",
    "    \"Poverty\" , \"Wealth Gap\",\"Income inequality\", \"Education access\",\"Rape\"\n",
    "]\n"
   ]
  },
  {
   "cell_type": "markdown",
   "metadata": {},
   "source": [
    "**Fetching News using GoogleNews**"
   ]
  },
  {
   "cell_type": "code",
   "execution_count": 95,
   "metadata": {},
   "outputs": [],
   "source": [
    "news = GoogleNews(country = 'in')\n",
    "start_date = start_date = dt.date(2021, 1, 1)\n",
    "end_date = end_date = dt.date(2021, 1, 30)\n",
    "\n",
    "all_results = []\n",
    "\n",
    "for keyword in socio_economic_keywords:\n",
    "  sdate = start_date\n",
    "  while sdate<= end_date:\n",
    "    edate = sdate + dt.timedelta(days=30)\n",
    "    i = sdate.strftime('%Y-%m-%d')\n",
    "    j = edate.strftime('%Y-%m-%d')\n",
    "    result = news.search(keyword, from_ = i , to_= j)\n",
    "    time.sleep(5)\n",
    "    sdate = edate + dt.timedelta(days=30)\n",
    "\n",
    "\n",
    "\n",
    "\n",
    "\n"
   ]
  },
  {
   "cell_type": "code",
   "execution_count": 96,
   "metadata": {},
   "outputs": [
    {
     "name": "stdout",
     "output_type": "stream",
     "text": [
      "Bombay HC acquits man of rape, says impossible for a single man to gag victim, remove her clothes without scuffle - India Today\n",
      "MP: 8 held for rape of 13-year-old - Hindustan Times\n",
      "13-year-old girl abducted, raped by 9 men in MP; 7 arrested - The Indian Express\n",
      "13-year-old girl abducted, raped by nine men in Madhya Pradesh; seven arrested - The New Indian Express\n",
      "UP: Temple priest, aides charged with rape-murder of woman - Hindustan Times\n",
      "Man rapes 4 of family, including a minor, in Rajasthan's Dausa - India Today\n",
      "Budaun gang-rape case: NCW takes cognizance, to meet victim’s kin - Hindustan Times\n",
      "Mumbai man jailed for 7 years for attempting to rape minor - India Today\n",
      "Badaun gang rape: Accused priest sent to 10-day judicial custody - Hindustan Times\n",
      "Jharkhand rape victim says 'I paid hefty price for asking compensation for my goat' - India Today\n",
      "Waqf board member booked for rape in Mumbai - India Today\n",
      "Vishnu seeks to become approver in actor rape case - The Hindu\n",
      "Kerala girl recounts horror of rape, abuse by 38 men over months, police book 44 - India Today\n",
      "Mumbai: Fashion designer accuses CA of rape on pretext of marriage - Mumbai Mirror\n",
      "Woman raped by two men inside temple in Nagapattinam - The Hindu\n",
      "Man arrested for rape of 6-year-old girl in MP’s Bhind district - Hindustan Times\n",
      "CPS accused of 'systemic illegality' in charging rape cases - The Guardian\n",
      "Woman withdraws rape complaint against Dhananjay Munde - The Indian Express\n",
      "Woman gang-raped in Madhya Pradesh, rod inserted into private parts - The Hindu\n",
      "Gender-biased rape laws must change - Deccan Herald\n",
      "Taapsee Pannu, Urmila Matondkar, Pooja Bhatt slam NCW member’s victim-blaming comments about Budaun gang-rape - Hindustan Times\n",
      "Massive protests at Ranchi involving rape and murder of girl - Telegraph India\n",
      "Raigad rape and murder case: Accused Adesh Patil sent to police custody till January 8 - The Hindu\n",
      "Woman raped inside train in Tambaram yard - The Hindu\n",
      "Chandigarh teen found seven months pregnant, 20-year-old held for rape - Hindustan Times\n",
      "Rape accused, father arrested in UP’s Ballia - Hindustan Times\n",
      "Ghaziabad court awards death to man for rape and murder of 2-yr-old girl - Hindustan Times\n",
      "Two minors who had ‘eloped’ traced to Vapi, boy booked for rape - The Indian Express\n",
      "LAW: WILL THE NEW LAW STOP RAPES? - Newspaper - DAWN ... - DAWN.com\n",
      "Police-CPS Joint National RASSO (Rape and Serious Sexual ... - The Crown Prosecution Service\n",
      "Pollachi sexual assault case | Of rape, lies and video leaks - The Hindu\n",
      "How a new definition of rape could impact Swiss law - SWI swissinfo.ch in English\n",
      "In ruling on rape, B.C. judge pleads for action to protect Indigenous girls from 'horrible crimes' - CBC.ca\n",
      "13-year-old girl gang-raped in Maharashtra's Nashik, 7 arrested - India Today\n",
      "Girl to be booked for filing false gang rape case - Hindustan Times\n",
      "SHO, outpost incharge booked for not filing FIR in Budaun ‘gang rape & murder’ case - ThePrint\n",
      "Dhananjay Munde Accused Of Rape Maharashtra Minister Refutes Allegations Saying 'Attempt To Blackmail' - ABP Live\n",
      "19-year old girl kills man who tried to rape her - The Hindu\n",
      "How rape victims go through a 'second trauma' - DW (English)\n",
      "'Choose - I kill you or rape you': abuse accusations surge in ... - Reuters\n",
      "Three rape cases registered in Chandigarh - The Tribune India\n",
      "Lawrence Jones: Former UKFast boss charged with rape - BBC\n",
      "'Matter must be probed’: Sharad Pawar on woman who accused NCP minister of rape - Hindustan Times\n",
      "Nine Rape Cases Which Show How Dangerous And Unsafe UP Is For Women - Indiatimes.com\n",
      "After Alleged Rape By Colleague, Police Constable In UP Attempts Taking Her Own Life - Indiatimes.com\n",
      "CPS denies major change in rape charging policy despite falling rates - The Guardian\n",
      "Bihar: Unidentified men allegedly rape, try to blind a 17-year-old girl - Hindustan Times\n",
      "Man attempts to rape minor in Jharkhand's Ramgarh; thrashed, arrested - India Today\n",
      "Uttarakhand HC stays DNA test of BJP MLA accused of rape till Jan 13 - Hindustan Times\n",
      "Rape Accused In Mumbai Gets Bail After He Offers To Marry Survivor Once She Turns 18 - Indiatimes.com\n",
      "19-Year-Old UP Girl Ends Life After Two Men Rape Her, Film The Act To Blackmail Her - Outlook India\n",
      "Migrant worker from Jharkhand held for rape, murder of 7-year-old girl - The Indian Express\n",
      "‘DO NOT GET RAPED’ Instead Of ‘DO NOT RAPE’: When Will India Stop Shaming Survivors? - Youth Ki Awaaz\n",
      "French film director Besson to be treated as ‘assisted witness’ in rape case - FRANCE 24 English\n",
      "We got only half justice, says Kathua gang-rape victim's father - The New Indian Express\n",
      "Pune: Woman files rape complaint against man she met on dating app - The Indian Express\n",
      "TV Actress Accuses Pilot Of Rape On Pretext Of Marriage - ABP Live\n",
      "Kerala High Court Orders Retrial In Rape, Death Case Of 2 Minor Sisters - NDTV\n",
      "Sharad Pawar: No action against Dhananjay Munde until rape charges proven - Mumbai Mirror\n",
      "Register FIR against woman who lodged false gang-rape complaint, orders Court - Mumbai Mirror\n",
      "‘It’s Shameful’: Women’s Groups Slam Yogi Govt over Badaun Rape-Murder Case, Demand Arrest of Accused Priest - NewsClick\n",
      "Issue of 'forcible cremation' of Hathras gang-rape victim could not be heard due to judge's 'absence' - The New Indian Express\n",
      "How ’emancipatory sex-ed’ can help prevent rape - Maclean's\n",
      "NYC rape suspect choked his ex and beat up his father, cops and court docs say - New York Post\n",
      "Derek Seekings: Police sergeant jailed for rape during break - BBC\n",
      "Bengaluru: Man arrested on charges of raping 71-year-old neighbour - The Indian Express\n",
      "Woman who filed a rape complaint against NCP youth president Mehboob Shaikh goes missing: Reports - OpIndia\n",
      "Grime artist who raped four women has jail sentence increased - The Guardian\n",
      "Man charged with raping neighbor in her University District house - The Seattle Times\n",
      "ICYMI: Why rape victims shouldn’t rush into marriage – Ijayekunle, anti-rape activist - Punch Newspapers\n",
      "US blogger Cynthia Ritchie withdraws petition seeking rape FIR ... - DAWN.com\n",
      "Mumbai court grants bail to rape accused after mother of victim requested his release for marriage with daughter: Details - OpIndia\n",
      "Justice call in Assam rape and murder case - Telegraph India\n",
      "Main Accused In Budaun Gang-Rape And Murder Case Arrested - NDTV\n",
      "9 suspects arrested after rape, murder of minor girl in Khairpur - DAWN.com\n",
      "Woman raped twice inside moving bus in Maharashtra's Washim - Mumbai Mirror\n",
      "Pune: Woman Returning From Work Kidnapped And Raped In Kharadi - Punekar News\n",
      "CPS and police collaboration to drive up performance on rape and ... - The Crown Prosecution Service\n",
      "Pune: Man Arrested For Kidnapping And Raping Woman Who Was ... - Punekar News\n",
      "Rape, Murder Of O-Level Student: Doctor confirms rape, finds injury marks - The Daily Star\n",
      "Delhi HC cites 8-hour delay in filing FIR, grants bail to rape accused - The Indian Express\n",
      "Derek Seekings: Surrey Police sergeant raped woman during break - BBC\n",
      "Uttar Pradesh: Father, Son Arrested For Raping, Attempting To Convert 13-Yr-Old Girl In Ballia - The Logical Indian\n",
      "Horrific Rape Case In UP; Nationwide Cow Science Exam + More Top News - Indiatimes.com\n",
      "Lawyer Who's Faced Multiple Rape Charges Is Arrested on New Rape Charge in Boston - NECN\n",
      "Woman found dead in Khar building: Mumbai Police to probe attempt to rape angle - Hindustan Times\n",
      "Shocking rape of Malaysian teen in police lock-up raises calls for ... - The Straits Times\n",
      "Christchurch massage client jailed for 'horrific' gunpoint rape - BBC\n",
      "Jharkhand Police arrests Dhanbad man for raping 17-year-old specially-abled girl - India Today\n",
      "Teenager who killed man in self-defence to be acquitted? - The New Indian Express\n",
      "How Dalit Women Are Fighting Back Against Rape, Assault - Refinery29\n",
      "Rape: Man jailed 22 years for raping 14-year-old daughter - Premium Times\n",
      "Covid: Rape trial delays leave woman feeling 'forgotten' - BBC\n",
      "Uttar Pradesh: Police Official Rapes Woman When Approached for Help in a Dowry Case - The Wire\n",
      "Journalist Rohini Singh Gets Rape Threats, Udaipur Police Take ... - SheThePeople\n",
      "Youth held for torturing wife, raping minor girl in Villivakkam - The Hindu\n",
      "New rape kit law takes effect with New Year in Minnesota - FOX 9 Minneapolis-St. Paul\n",
      "17-year-old rape victim critical after sleeping pill overdose - India Today\n",
      "Philippine police under microscope after ‘rape-slay’ case falls apart - South China Morning Post\n",
      "FIR registered in Bulandshahr Sub-Inspector rape, suicide case - The Sunday Guardian\n"
     ]
    }
   ],
   "source": [
    "newsitem = result['entries']\n",
    "for item in newsitem:\n",
    "    print(item.title)"
   ]
  },
  {
   "cell_type": "code",
   "execution_count": 97,
   "metadata": {},
   "outputs": [
    {
     "name": "stdout",
     "output_type": "stream",
     "text": [
      "Data has been saved to C:\\Users\\Vineet Trivedi\\OneDrive\\Desktop\\College\\Capstone\\Code\\Data\\articles_india.csv\n"
     ]
    }
   ],
   "source": [
    "import csv\n",
    "\n",
    "\n",
    "newsitem = result['entries']\n",
    "titles = []\n",
    "links = []\n",
    "dates = []\n",
    "\n",
    "for item in newsitem:\n",
    "    title = item.get('title', '')\n",
    "    link = item.get('link', '')\n",
    "    date = item.get('published', '')\n",
    "    \n",
    "    titles.append(title)\n",
    "    links.append(link)\n",
    "    dates.append(date)\n",
    "\n",
    "\n",
    "csv_file_path = 'C:\\\\Users\\\\Vineet Trivedi\\\\OneDrive\\\\Desktop\\\\College\\\\Capstone\\\\Code\\\\Data\\\\articles_india.csv'\n",
    "\n",
    "rows = zip(titles, links, dates)\n",
    "with open(csv_file_path, mode='w', newline='', encoding='utf-8') as file:\n",
    "    writer = csv.writer(file)  \n",
    "    writer.writerow(['Title', 'Link', 'Date'])\n",
    "    writer.writerows(rows)\n",
    "\n",
    "print(\"Data has been saved to\", csv_file_path)\n"
   ]
  },
  {
   "cell_type": "markdown",
   "metadata": {},
   "source": [
    "# **Step-2 (Testing)**\n",
    "\n",
    "**Article Summarizing and Keyword Extraction**"
   ]
  },
  {
   "cell_type": "markdown",
   "metadata": {},
   "source": [
    "**Importing Libraries**"
   ]
  },
  {
   "cell_type": "code",
   "execution_count": 98,
   "metadata": {},
   "outputs": [],
   "source": [
    "from newspaper import Article\n",
    "import nltk\n"
   ]
  },
  {
   "cell_type": "code",
   "execution_count": null,
   "metadata": {},
   "outputs": [
    {
     "name": "stderr",
     "output_type": "stream",
     "text": [
      "[nltk_data] Error loading punkt: <urlopen error [WinError 10060] A\n",
      "[nltk_data]     connection attempt failed because the connected party\n",
      "[nltk_data]     did not properly respond after a period of time, or\n",
      "[nltk_data]     established connection failed because connected host\n",
      "[nltk_data]     has failed to respond>\n"
     ]
    },
    {
     "data": {
      "text/plain": [
       "False"
      ]
     },
     "execution_count": 4,
     "metadata": {},
     "output_type": "execute_result"
    }
   ],
   "source": [
    "nltk.download('punkt')"
   ]
  },
  {
   "cell_type": "markdown",
   "metadata": {},
   "source": [
    "**Testing Library functions**"
   ]
  },
  {
   "cell_type": "code",
   "execution_count": 99,
   "metadata": {},
   "outputs": [
    {
     "name": "stdout",
     "output_type": "stream",
     "text": [
      "Title: Bombay HC acquits man of rape, says impossible for a single man to gag victim, remove her clothes without scuffle\n",
      "Authors []\n"
     ]
    }
   ],
   "source": [
    "url = 'https://news.google.com/rss/articles/CBMifGh0dHBzOi8vd3d3LmluZGlhdG9kYXkuaW4vaW5kaWEvc3RvcnkvYm9tYmF5LWhjLWFjcXVpdC1tYW4tcmFwZS1pbXBvc3NpYmxlLW1hbi1nYWctdmljdGltLWNsb3RoZXMtc2N1ZmZsZS0xNzYzOTExLTIwMjEtMDEtMjnSAYABaHR0cHM6Ly93d3cuaW5kaWF0b2RheS5pbi9hbXAvaW5kaWEvc3RvcnkvYm9tYmF5LWhjLWFjcXVpdC1tYW4tcmFwZS1pbXBvc3NpYmxlLW1hbi1nYWctdmljdGltLWNsb3RoZXMtc2N1ZmZsZS0xNzYzOTExLTIwMjEtMDEtMjk?oc=5'\n",
    "my_article = Article(url, language = 'en')\n",
    "my_article.download()\n",
    "my_article.parse()\n",
    "print('Title:',my_article.title)\n",
    "print('Authors',my_article.authors)"
   ]
  },
  {
   "cell_type": "code",
   "execution_count": 100,
   "metadata": {},
   "outputs": [
    {
     "name": "stdout",
     "output_type": "stream",
     "text": [
      "Summary: advertisementThe observation was made when Justice Ganediwala was hearing an appeal against the conviction of a 26-year-old man from Yavatmal.\n",
      "On July 26, 2013, the victim’s mother lodged a rape complaint against her neighbour Suraj Kasarkar.\n",
      "The mother of the victim claimed that her daughter was 15 years old when the crime took place.\n",
      "After this, the victim said that the accused raped her and ran away taking his clothes.\n",
      "Justice Ganediwala noted, \"Had it been a case of forcible intercourse, there would have been a scuffle between the parties.\n"
     ]
    }
   ],
   "source": [
    "my_article.nlp()\n",
    "print('Summary:', my_article.summary)"
   ]
  },
  {
   "cell_type": "markdown",
   "metadata": {},
   "source": [
    "**Keyword Extraction**"
   ]
  },
  {
   "cell_type": "code",
   "execution_count": 109,
   "metadata": {},
   "outputs": [
    {
     "name": "stdout",
     "output_type": "stream",
     "text": [
      "Keywords: ['scuffle', 'victim', 'does', 'clothes', 'remove', 'rape', 'impossible', 'accused', 'court', 'testimony', 'hc', 'gag', 'house', 'ganediwala', 'mother', 'man', 'single']\n"
     ]
    }
   ],
   "source": [
    "r = my_article.keywords\n",
    "print('Keywords:', r)\n"
   ]
  },
  {
   "cell_type": "markdown",
   "metadata": {},
   "source": [
    "# **Step-3(Testing)**\n",
    "\n",
    "**Fetching News based on extracted keywords** "
   ]
  },
  {
   "cell_type": "code",
   "execution_count": 115,
   "metadata": {},
   "outputs": [],
   "source": [
    "gn = GoogleNews(country = 'in')\n",
    "word_list = ['scuffle', 'victim','bombay','remove', 'rape','accused', 'court', 'testimony', 'hc', 'gag', 'house',  'mother', 'man', 'single']\n",
    "\n",
    "search_query = ' '.join(word_list)\n",
    "\n",
    "# Encode the query into bytes\n",
    "encoded_query = search_query.encode('utf-8')\n",
    "\n",
    "s = gn.search(encoded_query)"
   ]
  },
  {
   "cell_type": "code",
   "execution_count": 116,
   "metadata": {},
   "outputs": [
    {
     "name": "stdout",
     "output_type": "stream",
     "text": [
      "Bombay HC acquits man of rape, says impossible for a single man to gag victim, remove her clothes without scuffle - India Today\n",
      "All High Courts Weekly Round-Up [18 April 2022- 24 April 2022] - Live Law - Indian Legal News\n",
      "All High Courts Weekly Round-Up: May 23 - May 29, 2022 - Live Law - Indian Legal News\n",
      "Daily News - Content Media Solution\n",
      "Indian business : people : in the news : index - domain-B\n"
     ]
    }
   ],
   "source": [
    "newsitem2 = s['entries']\n",
    "for item in newsitem2:\n",
    "  print(item.title)"
   ]
  },
  {
   "cell_type": "code",
   "execution_count": null,
   "metadata": {},
   "outputs": [],
   "source": []
  }
 ],
 "metadata": {
  "kernelspec": {
   "display_name": "project",
   "language": "python",
   "name": "python3"
  },
  "language_info": {
   "codemirror_mode": {
    "name": "ipython",
    "version": 3
   },
   "file_extension": ".py",
   "mimetype": "text/x-python",
   "name": "python",
   "nbconvert_exporter": "python",
   "pygments_lexer": "ipython3",
   "version": "3.11.2"
  },
  "orig_nbformat": 4
 },
 "nbformat": 4,
 "nbformat_minor": 2
}
