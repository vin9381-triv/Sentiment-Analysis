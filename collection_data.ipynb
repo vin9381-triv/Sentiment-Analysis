{
 "cells": [
  {
   "cell_type": "markdown",
   "metadata": {},
   "source": [
    "# **Step-1(Testing)**\n",
    "\n",
    "**Data Collection**"
   ]
  },
  {
   "cell_type": "markdown",
   "metadata": {},
   "source": [
    "**Importing Libraries**"
   ]
  },
  {
   "cell_type": "code",
   "execution_count": 2,
   "metadata": {},
   "outputs": [],
   "source": [
    "from pygooglenews import GoogleNews\n",
    "import datetime as dt\n",
    "import time\n",
    "import openpyxl\n",
    "import pandas as pd"
   ]
  },
  {
   "cell_type": "markdown",
   "metadata": {},
   "source": [
    "**Defining Keyword - Socio Economic**"
   ]
  },
  {
   "cell_type": "code",
   "execution_count": 3,
   "metadata": {},
   "outputs": [],
   "source": [
    "socio_economic_keywords = [\n",
    "    \"Poverty\" , \"Wealth Gap\",\"Income inequality\", \"Education access\",\"Rape\"\n",
    "]\n"
   ]
  },
  {
   "cell_type": "markdown",
   "metadata": {},
   "source": [
    "**Fetching News using GoogleNews**"
   ]
  },
  {
   "cell_type": "code",
   "execution_count": 5,
   "metadata": {},
   "outputs": [],
   "source": [
    "news = GoogleNews(country = 'in')\n",
    "start_date = start_date = dt.date(2021, 1, 1)\n",
    "end_date = end_date = dt.date(2021, 1, 30)\n",
    "\n",
    "all_results = []\n",
    "\n",
    "for keyword in socio_economic_keywords:\n",
    "  sdate = start_date\n",
    "  while sdate<= end_date:\n",
    "    edate = sdate + dt.timedelta(days=30)\n",
    "    i = sdate.strftime('%Y-%m-%d')\n",
    "    j = edate.strftime('%Y-%m-%d')\n",
    "    result = news.search(keyword, from_ = i , to_= j)\n",
    "    time.sleep(5)\n",
    "    sdate = edate + dt.timedelta(days=30)\n",
    "\n",
    "\n",
    "\n",
    "\n",
    "\n"
   ]
  },
  {
   "cell_type": "code",
   "execution_count": 6,
   "metadata": {},
   "outputs": [
    {
     "name": "stdout",
     "output_type": "stream",
     "text": [
      "Bombay HC acquits man of rape, says impossible for a single man to gag victim, remove her clothes without scuffle - India Today\n",
      "MP: 8 held for rape of 13-year-old - Hindustan Times\n",
      "13-year-old girl abducted, raped by 9 men in MP; 7 arrested - The Indian Express\n",
      "13-year-old girl abducted, raped by nine men in Madhya Pradesh; seven arrested - The New Indian Express\n",
      "Class 4 girl survives rape, strangulation in UP, denied hospital bed for 4 days - India Today\n",
      "UP: Temple priest, aides charged with rape-murder of woman - Hindustan Times\n",
      "Budaun gang-rape case: NCW takes cognizance, to meet victim’s kin - Hindustan Times\n",
      "Mumbai man jailed for 7 years for attempting to rape minor - India Today\n",
      "Badaun gang rape: Accused priest sent to 10-day judicial custody - Hindustan Times\n",
      "Waqf board member booked for rape in Mumbai - India Today\n",
      "Kerala girl recounts horror of rape, abuse by 38 men over months, police book 44 - India Today\n",
      "Mumbai: Fashion designer accuses CA of rape on pretext of marriage - Mumbai Mirror\n",
      "Greater Noida: Man breaks into house, rapes 14-year-old at gunpoint - India Today\n",
      "Woman raped by two men inside temple in Nagapattinam - The Hindu\n",
      "Raigad rape and murder case: Accused Adesh Patil sent to police custody till January 8 - The Hindu\n",
      "Woman withdraws rape complaint against Dhananjay Munde - The Indian Express\n",
      "CPS accused of 'systemic illegality' in charging rape cases - The Guardian\n",
      "Woman gang-raped in Madhya Pradesh, rod inserted into private parts - The Hindu\n",
      "Massive protests at Ranchi involving rape and murder of girl - Telegraph India\n",
      "Taapsee Pannu, Urmila Matondkar, Pooja Bhatt slam NCW member’s victim-blaming comments about Budaun gang-rape - Hindustan Times\n",
      "Gender-biased rape laws must change - Deccan Herald\n",
      "Two minors who had ‘eloped’ traced to Vapi, boy booked for rape - The Indian Express\n",
      "Chandigarh teen found seven months pregnant, 20-year-old held for rape - Hindustan Times\n",
      "Police-CPS Joint National RASSO (Rape and Serious Sexual ... - The Crown Prosecution Service\n",
      "Pollachi sexual assault case | Of rape, lies and video leaks - The Hindu\n",
      "LAW: WILL THE NEW LAW STOP RAPES? - Newspaper - DAWN ... - DAWN.com\n",
      "Woman raped inside train in Tambaram yard - The Hindu\n",
      "How a new definition of rape could impact Swiss law - SWI swissinfo.ch in English\n",
      "In ruling on rape, B.C. judge pleads for action to protect Indigenous girls from 'horrible crimes' - CBC.ca\n",
      "13-year-old girl gang-raped in Maharashtra's Nashik, 7 arrested - India Today\n",
      "SHO, outpost incharge booked for not filing FIR in Budaun ‘gang rape & murder’ case - ThePrint\n",
      "19-year old girl kills man who tried to rape her - The Hindu\n",
      "'Choose - I kill you or rape you': abuse accusations surge in ... - Reuters\n",
      "Three rape cases registered in Chandigarh - The Tribune India\n",
      "Dhananjay Munde Accused Of Rape Maharashtra Minister Refutes Allegations Saying 'Attempt To Blackmail' - ABP Live\n",
      "Nine Rape Cases Which Show How Dangerous And Unsafe UP Is For Women - Indiatimes.com\n",
      "After Alleged Rape By Colleague, Police Constable In UP Attempts Taking Her Own Life - Indiatimes.com\n",
      "Man attempts to rape minor in Jharkhand's Ramgarh; thrashed, arrested - India Today\n",
      "CPS denies major change in rape charging policy despite falling rates - The Guardian\n",
      "Conor McGregor, a U.F.C. Fighter, Sued in Ireland over Rape ... - The New York Times\n",
      "Lawrence Jones: Former UKFast boss charged with rape - BBC\n",
      "We got only half justice, says Kathua gang-rape victim's father - The New Indian Express\n",
      "French film director Besson to be treated as ‘assisted witness’ in rape case - FRANCE 24 English\n",
      "Migrant worker from Jharkhand held for rape, murder of 7-year-old girl - The Indian Express\n",
      "Pune: Woman files rape complaint against man she met on dating app - The Indian Express\n",
      "TV Actress Accuses Pilot Of Rape On Pretext Of Marriage - ABP Live\n",
      "Kerala High Court Orders Retrial In Rape, Death Case Of 2 Minor Sisters - NDTV\n",
      "‘It’s Shameful’: Women’s Groups Slam Yogi Govt over Badaun Rape-Murder Case, Demand Arrest of Accused Priest - NewsClick\n",
      "Register FIR against woman who lodged false gang-rape complaint, orders Court - Mumbai Mirror\n",
      "Derek Seekings: Surrey Police sergeant raped woman during break - BBC\n",
      "NYC rape suspect choked his ex and beat up his father, cops and court docs say - New York Post\n",
      "Bengaluru: Man arrested on charges of raping 71-year-old neighbour - The Indian Express\n",
      "Man charged with raping neighbor in her University District house - The Seattle Times\n",
      "Grime artist who raped four women has jail sentence increased - The Guardian\n",
      "Derek Seekings: Police sergeant jailed for rape during break - BBC\n",
      "Juvenile Justice Board discharges boy of rape charge, citing he was less than 7 yrs old - The Indian Express\n",
      "US blogger Cynthia Ritchie withdraws petition seeking rape FIR ... - DAWN.com\n",
      "Lawyer Who's Faced Multiple Rape Charges Is Arrested on New Rape Charge in Boston - NECN\n",
      "Justice call in Assam rape and murder case - Telegraph India\n",
      "ICYMI: Why rape victims shouldn’t rush into marriage – Ijayekunle, anti-rape activist - Punch Newspapers\n",
      "Facing rape charges, Dhananjay Munde to continue as Maha minister for now - CNBCTV18\n",
      "9 suspects arrested after rape, murder of minor girl in Khairpur - DAWN.com\n",
      "Woman who filed a rape complaint against NCP youth president Mehboob Shaikh goes missing: Reports - OpIndia\n",
      "Pune: Woman Returning From Work Kidnapped And Raped In Kharadi - Punekar News\n",
      "How ’emancipatory sex-ed’ can help prevent rape - Maclean's\n",
      "Mumbai court grants bail to rape accused after mother of victim requested his release for marriage with daughter: Details - OpIndia\n",
      "Mumbai gym trainer arrested for rape, assault - Hindustan Times\n",
      "CPS and police collaboration to drive up performance on rape and ... - The Crown Prosecution Service\n",
      "Pune: Man Arrested For Kidnapping And Raping Woman Who Was ... - Punekar News\n",
      "Delhi HC cites 8-hour delay in filing FIR, grants bail to rape accused - The Indian Express\n",
      "Uttar Pradesh: Father, Son Arrested For Raping, Attempting To Convert 13-Yr-Old Girl In Ballia - The Logical Indian\n",
      "Christchurch massage client jailed for 'horrific' gunpoint rape - BBC\n",
      "Shocking rape of Malaysian teen in police lock-up raises calls for ... - The Straits Times\n",
      "Tik Tok being used to spread false information about rape studies - UND The Dakota Student\n",
      "Pakistani High Court Calls Two-Finger Virginity Test of Rape ... - The Swaddle\n",
      "Woman found dead in Khar building: Mumbai Police to probe attempt to rape angle - Hindustan Times\n",
      "Jharkhand Police arrests Dhanbad man for raping 17-year-old specially-abled girl - India Today\n",
      "How Dalit Women Are Fighting Back Against Rape, Assault - Refinery29\n",
      "‘DO NOT GET RAPED’ Instead Of ‘DO NOT RAPE’: When Will India Stop Shaming Survivors? - Youth Ki Awaaz\n",
      "Journalist Rohini Singh Gets Rape Threats, Udaipur Police Take ... - SheThePeople\n",
      "New rape kit law takes effect with New Year in Minnesota - FOX 9 Minneapolis-St. Paul\n",
      "Uttar Pradesh: Police Official Rapes Woman When Approached for Help in a Dowry Case - The Wire\n",
      "Rape: Man jailed 22 years for raping 14-year-old daughter - Premium Times\n",
      "Covid: Rape trial delays leave woman feeling 'forgotten' - BBC\n",
      "17-year-old rape victim critical after sleeping pill overdose in Bhopal - Telangana Today\n",
      "Victim-blaming allows more rapes to happen, more cases to go underreported, say experts - GMA News Online\n",
      "17-year-old rape victim critical after sleeping pill overdose - India Today\n",
      "FIR registered in Bulandshahr Sub-Inspector rape, suicide case - The Sunday Guardian\n",
      "Anganwadi worker's gang rape: Priest called his mother to temple ... - Pragativadi\n",
      "65% of Death Sentences in 2020 Involved Sexual Violence Cases: Report - The Wire\n",
      "Bahrain: Two Asians jailed for kidnap, rape of two women - Gulf News\n",
      "'Raped twice': Pakistan virginity tests block justice for victims - FRANCE 24 English\n",
      "7-yr-old girl missing in Morbi was raped, murdered, say police - The Indian Express\n",
      "Teenage Boy Allegedly Forced To Change Sex In Delhi, Repeatedly Raped By 6 Men For Many Months - Indiatimes.com\n",
      "Rape victims need help from specialized nurses, but no one in NC ... - Carolina Public Press\n",
      "DNA of suspect arrested in rape, murder case of minor in Khairpur matches, say police - The Express Tribune\n",
      "Philippine police under microscope after ‘rape-slay’ case falls apart - South China Morning Post\n",
      "Sharad Pawar: No action against Dhananjay Munde until rape charges proven - Mumbai Mirror\n",
      "There was a rape scene in Bridgerton and no one seems to have ... - The Tab\n",
      "Rape, Murder Of O-Level Student: Doctor confirms rape, finds injury marks - The Daily Star\n"
     ]
    }
   ],
   "source": [
    "newsitem = result['entries']\n",
    "for item in newsitem:\n",
    "    print(item.title)"
   ]
  },
  {
   "cell_type": "code",
   "execution_count": 5,
   "metadata": {},
   "outputs": [
    {
     "name": "stdout",
     "output_type": "stream",
     "text": [
      "Data has been saved to C:\\Users\\Vineet Trivedi\\OneDrive\\Desktop\\College\\Capstone\\Code\\Data\\articles_india.csv\n"
     ]
    }
   ],
   "source": [
    "import csv\n",
    "\n",
    "\n",
    "newsitem = result['entries']\n",
    "titles = []\n",
    "links = []\n",
    "dates = []\n",
    "\n",
    "for item in newsitem:\n",
    "    title = item.get('title', '')\n",
    "    link = item.get('link', '')\n",
    "    date = item.get('published', '')\n",
    "    \n",
    "    titles.append(title)\n",
    "    links.append(link)\n",
    "    dates.append(date)\n",
    "\n",
    "\n",
    "csv_file_path = 'C:\\\\Users\\\\Vineet Trivedi\\\\OneDrive\\\\Desktop\\\\College\\\\Capstone\\\\Code\\\\Data\\\\articles_india.csv'\n",
    "\n",
    "rows = zip(titles, links, dates)\n",
    "with open(csv_file_path, mode='w', newline='', encoding='utf-8') as file:\n",
    "    writer = csv.writer(file)  \n",
    "    writer.writerow(['Title', 'Link', 'Date'])\n",
    "    writer.writerows(rows)\n",
    "\n",
    "print(\"Data has been saved to\", csv_file_path)"
   ]
  },
  {
   "cell_type": "markdown",
   "metadata": {},
   "source": [
    "# **Step-2 (Testing)**\n",
    "\n",
    "**Article Summarizing and Keyword Extraction**"
   ]
  },
  {
   "cell_type": "markdown",
   "metadata": {},
   "source": [
    "**Importing Libraries**"
   ]
  },
  {
   "cell_type": "code",
   "execution_count": 6,
   "metadata": {},
   "outputs": [],
   "source": [
    "from newspaper import Article\n",
    "from rake_nltk import Rake\n",
    "import nltk\n"
   ]
  },
  {
   "cell_type": "code",
   "execution_count": 7,
   "metadata": {},
   "outputs": [
    {
     "name": "stderr",
     "output_type": "stream",
     "text": [
      "[nltk_data] Downloading package stopwords to C:\\Users\\Vineet\n",
      "[nltk_data]     Trivedi\\AppData\\Roaming\\nltk_data...\n",
      "[nltk_data]   Package stopwords is already up-to-date!\n",
      "[nltk_data] Downloading package punkt to C:\\Users\\Vineet\n",
      "[nltk_data]     Trivedi\\AppData\\Roaming\\nltk_data...\n",
      "[nltk_data]   Package punkt is already up-to-date!\n"
     ]
    },
    {
     "data": {
      "text/plain": [
       "True"
      ]
     },
     "execution_count": 7,
     "metadata": {},
     "output_type": "execute_result"
    }
   ],
   "source": [
    "nltk.download('stopwords')\n",
    "nltk.download('punkt')"
   ]
  },
  {
   "cell_type": "markdown",
   "metadata": {},
   "source": [
    "**Testing Library functions**"
   ]
  },
  {
   "cell_type": "code",
   "execution_count": 8,
   "metadata": {},
   "outputs": [
    {
     "name": "stdout",
     "output_type": "stream",
     "text": [
      "Title: 13-year-old girl abducted, raped by 9 men in MP; 7 arrested\n",
      "Authors ['Var Template_Content', 'Sso_Login_Box', 'Xwelcome Backorenter The Email Address Or Mobile Number Associated With Your Account To Sign In. Show Passwordsign Innew To The Indian Express Signupxcreate Your Account It Is Quick', 'Easy.Or Show Passwordnextvalidate Otpregisteralready Have An Account', 'Signin', 'Sso_Social_Box', 'Sign In Withgmailfacebookapple', 'Var Follow_Widget_Data', 'Af_Article_Count', 'Ie_Mobile_Check']\n"
     ]
    }
   ],
   "source": [
    "url = 'https://news.google.com/rss/articles/CBMiamh0dHBzOi8vaW5kaWFuZXhwcmVzcy5jb20vYXJ0aWNsZS9pbmRpYS8xMy15ZWFyLW9sZC1naXJsLWFiZHVjdGVkLXJhcGVkLWJ5LTktbWVuLWluLW1wLTctYXJyZXN0ZWQtNzE1MDE4My_SAW9odHRwczovL2luZGlhbmV4cHJlc3MuY29tL2FydGljbGUvaW5kaWEvMTMteWVhci1vbGQtZ2lybC1hYmR1Y3RlZC1yYXBlZC1ieS05LW1lbi1pbi1tcC03LWFycmVzdGVkLTcxNTAxODMvbGl0ZS8?oc=5'\n",
    "my_article = Article(url, language = 'en')\n",
    "my_article.download()\n",
    "my_article.parse()\n",
    "print('Title:',my_article.title)\n",
    "print('Authors',my_article.authors)"
   ]
  },
  {
   "cell_type": "code",
   "execution_count": 9,
   "metadata": {},
   "outputs": [
    {
     "name": "stdout",
     "output_type": "stream",
     "text": [
      "Summary: The girl was lured and abducted from a market place by a person known to her on January 4.\n",
      "(Representational)A 13-year-old girl has been allegedly raped by nine men on separate occasions after being abducted twice in Madhya Pradesh’s Umaria city earlier this month, a police official said on Sunday.\n",
      "The girl’s mother lodged a police complaint on January 14 following which seven of the accused were arrested on Friday.\n",
      "The girl was lured and abducted from a market place by a person known to her on January 4.\n",
      "She was taken to a secluded spot where the person and six others allegedly raped her and later released on January 5, the police official said.\n"
     ]
    },
    {
     "data": {
      "text/plain": [
       "str"
      ]
     },
     "execution_count": 9,
     "metadata": {},
     "output_type": "execute_result"
    }
   ],
   "source": [
    "my_article.nlp()\n",
    "summ = my_article.summary\n",
    "print('Summary:', summ)\n",
    "type(my_article.summary)"
   ]
  },
  {
   "cell_type": "markdown",
   "metadata": {},
   "source": [
    "**Keyword Extraction**"
   ]
  },
  {
   "cell_type": "code",
   "execution_count": 10,
   "metadata": {},
   "outputs": [
    {
     "name": "stdout",
     "output_type": "stream",
     "text": [
      "Keyword: six others allegedly raped, Score: 14.0\n",
      "Keyword: umaria city earlier, Score: 9.0\n",
      "Keyword: police official said, Score: 8.666666666666666\n",
      "Keyword: police official said, Score: 8.666666666666666\n",
      "Keyword: madhya pradesh ’, Score: 8.5\n",
      "Keyword: january 14 following, Score: 8.25\n",
      "Keyword: allegedly raped, Score: 6.0\n",
      "Keyword: police complaint, Score: 4.666666666666666\n",
      "Keyword: january 5, Score: 4.25\n",
      "Keyword: january 4, Score: 4.25\n",
      "Keyword: january 4, Score: 4.25\n",
      "Keyword: separate occasions, Score: 4.0\n",
      "Keyword: secluded spot, Score: 4.0\n",
      "Keyword: nine men, Score: 4.0\n",
      "Keyword: mother lodged, Score: 4.0\n",
      "Keyword: market place, Score: 4.0\n",
      "Keyword: market place, Score: 4.0\n",
      "Keyword: later released, Score: 4.0\n",
      "Keyword: girl ’, Score: 4.0\n",
      "Keyword: person known, Score: 3.666666666666667\n",
      "Keyword: person known, Score: 3.666666666666667\n",
      "Keyword: old girl, Score: 3.5\n",
      "Keyword: abducted twice, Score: 3.333333333333333\n",
      "Keyword: person, Score: 1.6666666666666667\n",
      "Keyword: girl, Score: 1.5\n",
      "Keyword: girl, Score: 1.5\n",
      "Keyword: abducted, Score: 1.3333333333333333\n",
      "Keyword: abducted, Score: 1.3333333333333333\n",
      "Keyword: year, Score: 1.0\n",
      "Keyword: taken, Score: 1.0\n",
      "Keyword: sunday, Score: 1.0\n",
      "Keyword: seven, Score: 1.0\n",
      "Keyword: representational, Score: 1.0\n",
      "Keyword: month, Score: 1.0\n",
      "Keyword: lured, Score: 1.0\n",
      "Keyword: lured, Score: 1.0\n",
      "Keyword: friday, Score: 1.0\n",
      "Keyword: arrested, Score: 1.0\n",
      "Keyword: accused, Score: 1.0\n",
      "Keyword: 13, Score: 1.0\n"
     ]
    }
   ],
   "source": [
    "r = Rake()\n",
    "r.extract_keywords_from_text(summ)\n",
    "keywords_with_scores = r.get_ranked_phrases_with_scores()\n",
    "\n",
    "# Print the keywords and scores\n",
    "for score, keyword in keywords_with_scores:\n",
    "    print(f\"Keyword: {keyword}, Score: {score}\")\n",
    "\n"
   ]
  },
  {
   "cell_type": "markdown",
   "metadata": {},
   "source": [
    "# **Step-3(Testing)**\n",
    "\n",
    "**Fetching News based on extracted keywords** "
   ]
  },
  {
   "cell_type": "code",
   "execution_count": 30,
   "metadata": {},
   "outputs": [],
   "source": [
    "gn = GoogleNews(country = 'in')\n",
    "q = 'six others allegedly raped , abducted twice'\n",
    "s = gn.search(q )"
   ]
  },
  {
   "cell_type": "code",
   "execution_count": 31,
   "metadata": {},
   "outputs": [
    {
     "name": "stdout",
     "output_type": "stream",
     "text": [
      "Scores of women and girls were sexually assaulted after peace deal in Ethiopia's Tigray, study shows - ABC News\n",
      "Rajasthan rape horrors continue; Bhilwara minor girl gang-raped, killed; her body burnt in furnace - Recipes\n",
      "Married woman allegedly gang-raped by six men in Rajasthan's Bharatpur for two months; case registered - ETV Bharat\n",
      "'We are citizens of Myanmar; they must accept it' - The Daily Star\n",
      "New details emerge in mass shooting at popular Southern California bar that left 3 dead, 6 injured - Yahoo Canada Sports\n",
      "3 Int’l Groups: ‘Rights abuses’ figure high in reports to UN - The Daily Star\n",
      "Manipur’s silent suffering and the broken promises of ‘peace’ - Frontline\n",
      "The Most Notorious Criminals in Each State’s History - 24/7 Wall St.\n",
      "The whole-life prisoners currently behind bars serving the same sentence as Lucy Letby - Sky News\n",
      "Iran Will Keep Taking Hostages If the Money Keeps Flowing - The Atlantic\n",
      "Refugee Camps: Killings, narco crimes on rise - The Daily Star\n",
      "Man accused of holding woman in cinder block ‘dungeon’ in Oregon tries to escape from jail - Fox 12 Oregon\n",
      "Verdict in case against Odhikar officials Sept 7 - The Daily Star\n",
      "Six Arrested For Raping Two Minor Cousins In UP's Fatehpur - Outlook India\n",
      "6 American mayors who were convicted of crimes - WJHL-TV News Channel 11\n",
      "Two Met officers arrested after woman allegedly kidnapped and raped - BBC\n",
      "Weekend court roll – toilet sex attackers and a 'dirty beast' caged - The Press & Journal\n",
      "In Manipur Horror, 2 Women Paraded Naked On Camera, Allegedly Gang-Raped - NDTV\n",
      "Six persons arrested for rape and murder of two girls in Lakhimpur Kheri - The Hindu\n",
      "13-year-old girl allegedly abducted twice, raped by 9 men multiple times, says MP Police - ThePrint\n",
      "Jan Broberg Wasn't the First Girl that Robert 'B' Berchtold Targeted ... - Showbiz Cheat Sheet\n",
      "Child Abuse (non-sexual) - The Crown Prosecution Service\n",
      "Abducted in Plain Sight: Terrifying Tale of Child Rape, Abduction - PEOPLE\n",
      "Ekiti: Police parade suspected killer of FUOYE student, six other alleged criminals - Daily Post Nigeria\n",
      "Jaycee Dugard Found After 18 Years, Kidnap Suspect Allegedly Fathered Her Kids - ABC News\n",
      "Six months after girls abducted, Nigerians protest near president's ... - Reuters\n",
      "25 horror movies that were based on true stories - Yardbarker\n",
      "Abu Sayyaf militants behead kidnapped Philippine soldier: army - Reuters\n",
      "Bottle-Feeding Past Age 1 Leads to Childhood Obesity, Study Says - Fox News\n"
     ]
    }
   ],
   "source": [
    "newsitem2 = s['entries']\n",
    "for item in newsitem2:\n",
    "  print(item.title)"
   ]
  },
  {
   "cell_type": "code",
   "execution_count": null,
   "metadata": {},
   "outputs": [],
   "source": []
  }
 ],
 "metadata": {
  "kernelspec": {
   "display_name": "project",
   "language": "python",
   "name": "python3"
  },
  "language_info": {
   "codemirror_mode": {
    "name": "ipython",
    "version": 3
   },
   "file_extension": ".py",
   "mimetype": "text/x-python",
   "name": "python",
   "nbconvert_exporter": "python",
   "pygments_lexer": "ipython3",
   "version": "3.11.2"
  },
  "orig_nbformat": 4
 },
 "nbformat": 4,
 "nbformat_minor": 2
}
