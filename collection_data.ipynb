{
 "cells": [
  {
   "cell_type": "markdown",
   "metadata": {},
   "source": [
    "# **Data Collection - Part-1**"
   ]
  },
  {
   "cell_type": "markdown",
   "metadata": {},
   "source": [
    "**Importing Libraries**"
   ]
  },
  {
   "cell_type": "code",
   "execution_count": 5,
   "metadata": {},
   "outputs": [],
   "source": [
    "from pygooglenews import GoogleNews\n",
    "import datetime as dt\n",
    "import time\n",
    "import openpyxl\n",
    "import pandas as pd"
   ]
  },
  {
   "cell_type": "markdown",
   "metadata": {},
   "source": [
    "**Defining Keyword - Socio Economic**"
   ]
  },
  {
   "cell_type": "code",
   "execution_count": 6,
   "metadata": {},
   "outputs": [],
   "source": [
    "socio_economic_keywords = [\n",
    "    \"Poverty\" , \"Wealth Gap\",\"Income inequality\", \"Education access\"\n",
    "]\n"
   ]
  },
  {
   "cell_type": "markdown",
   "metadata": {},
   "source": [
    "**Fetching News using GoogleNews**"
   ]
  },
  {
   "cell_type": "code",
   "execution_count": 7,
   "metadata": {},
   "outputs": [],
   "source": [
    "news = GoogleNews('en','IN')\n",
    "start_date = start_date = dt.date(2021, 1, 1)\n",
    "end_date = end_date = dt.date(2021, 3, 1)\n",
    "\n",
    "all_results = []\n",
    "\n",
    "for keyword in socio_economic_keywords:\n",
    "  sdate = start_date\n",
    "  while sdate<= end_date:\n",
    "    edate = sdate + dt.timedelta(days=30)\n",
    "    i = sdate.strftime('%Y-%m-%d')\n",
    "    j = edate.strftime('%Y-%m-%d')\n",
    "    result = news.search(keyword, from_ = i , to_= j)\n",
    "    # print(type(result))\n",
    "    # print(result.keys())\n",
    "    articles = result.get('entries', [])\n",
    "    # print(articles)\n",
    "    all_results.extend(articles)\n",
    "    time.sleep(5)\n",
    "    sdate = edate + dt.timedelta(days=30)\n",
    "\n",
    "\n",
    "\n",
    "\n",
    "\n"
   ]
  },
  {
   "cell_type": "code",
   "execution_count": 8,
   "metadata": {},
   "outputs": [
    {
     "name": "stdout",
     "output_type": "stream",
     "text": [
      "Articles saved to C:\\Users\\Vineet Trivedi\\OneDrive\\Desktop\\College\\Capstone\\Code\\Data\\news_articles_new.csv\n"
     ]
    }
   ],
   "source": [
    "import csv\n",
    "csv_file_path = 'C:\\\\Users\\\\Vineet Trivedi\\\\OneDrive\\\\Desktop\\\\College\\\\Capstone\\\\Code\\\\Data\\\\news_articles_new.csv'\n",
    "\n",
    "# Write the articles to the CSV file\n",
    "with open(csv_file_path, mode='w', newline='', encoding='utf-8') as csv_file:\n",
    "    fieldnames = ['title', 'published', 'link']\n",
    "    writer = csv.DictWriter(csv_file, fieldnames=fieldnames)\n",
    "    \n",
    "    # Write the header\n",
    "    writer.writeheader()\n",
    "    \n",
    "    # Write each article as a row\n",
    "    for article in all_results:\n",
    "        writer.writerow({\n",
    "            'title': article.get('title', ''),\n",
    "            'published': article.get('published', ''),\n",
    "            'link': article.get('link', '')\n",
    "        })\n",
    "\n",
    "print(f\"Articles saved to {csv_file_path}\")"
   ]
  }
 ],
 "metadata": {
  "kernelspec": {
   "display_name": "project",
   "language": "python",
   "name": "python3"
  },
  "language_info": {
   "codemirror_mode": {
    "name": "ipython",
    "version": 3
   },
   "file_extension": ".py",
   "mimetype": "text/x-python",
   "name": "python",
   "nbconvert_exporter": "python",
   "pygments_lexer": "ipython3",
   "version": "3.11.2"
  },
  "orig_nbformat": 4
 },
 "nbformat": 4,
 "nbformat_minor": 2
}
