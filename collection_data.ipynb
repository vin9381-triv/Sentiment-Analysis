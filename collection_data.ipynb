{
 "cells": [
  {
   "cell_type": "markdown",
   "metadata": {},
   "source": [
    "# **Step-1(Testing)**\n",
    "\n",
    "**Data Collection**"
   ]
  },
  {
   "cell_type": "markdown",
   "metadata": {},
   "source": [
    "**Importing Libraries**"
   ]
  },
  {
   "cell_type": "code",
   "execution_count": 10,
   "metadata": {},
   "outputs": [],
   "source": [
    "from pygooglenews import GoogleNews\n",
    "import datetime as dt\n",
    "import time\n",
    "import openpyxl\n",
    "import pandas as pd\n",
    "from bs4 import BeautifulSoup"
   ]
  },
  {
   "cell_type": "markdown",
   "metadata": {},
   "source": [
    "**Defining Keyword - Socio Economic**"
   ]
  },
  {
   "cell_type": "code",
   "execution_count": 8,
   "metadata": {},
   "outputs": [],
   "source": [
    "socio_economic_keywords = [\n",
    "    \"Poverty\" , \"Wealth Gap\",\"Income inequality\", \"Education access\",\"Rape\"\n",
    "]\n"
   ]
  },
  {
   "cell_type": "markdown",
   "metadata": {},
   "source": [
    "**Fetching News using GoogleNews**"
   ]
  },
  {
   "cell_type": "code",
   "execution_count": 9,
   "metadata": {},
   "outputs": [],
   "source": [
    "news = GoogleNews(country = 'in')\n",
    "start_date = start_date = dt.date(2023, 1, 1)\n",
    "end_date = end_date = dt.date(2023, 1, 30)\n",
    "\n",
    "all_results = []\n",
    "\n",
    "for keyword in socio_economic_keywords:\n",
    "  sdate = start_date\n",
    "  while sdate<= end_date:\n",
    "    edate = sdate + dt.timedelta(days=30)\n",
    "    i = sdate.strftime('%Y-%m-%d')\n",
    "    j = edate.strftime('%Y-%m-%d')\n",
    "    result = news.search(keyword, from_ = i , to_= j)\n",
    "    time.sleep(5)\n",
    "    sdate = edate + dt.timedelta(days=30)\n",
    "\n",
    "\n",
    "\n",
    "\n",
    "\n"
   ]
  },
  {
   "cell_type": "code",
   "execution_count": 15,
   "metadata": {},
   "outputs": [
    {
     "data": {
      "text/plain": [
       "dict_keys(['feed', 'entries'])"
      ]
     },
     "execution_count": 15,
     "metadata": {},
     "output_type": "execute_result"
    }
   ],
   "source": [
    "type(result)\n",
    "result.keys()"
   ]
  },
  {
   "cell_type": "code",
   "execution_count": 4,
   "metadata": {},
   "outputs": [
    {
     "name": "stdout",
     "output_type": "stream",
     "text": [
      "At 500 a year, rape cases fall by half in Karnataka; cops attribute it to Pocso - Times of India\n",
      "Acquitted in gang rape case, man sues MP govt seeking ₹10,000 crore compensation for 'suffering and mental agony' - The Hindu\n",
      "Supreme Court to hear petitions relating to criminalisation of marital rape from March 14 - The Hindu\n",
      "Delhi HC issues guidelines for rape victims whose pregnancy exceeds 24 weeks - The Hindu\n",
      "Unnao rape case: HC modifies order, shortens Kuldeep Singh Sengar's interim bail period - The Economic Times\n",
      "Benjamin Mendy found not guilty of six counts of rape - BBC\n",
      "Asaram Bapu convicted of rape by Gandhinagar court - India Today\n",
      "Case against juvenile in Kathua gang-rape case - The Hindu\n",
      "16-year-old rape survivor shoots rapist’s mother in Delhi, held - Hindustan Times\n",
      "Two arrested for rape of 17-year-old student at Thakurli - Hindustan Times\n",
      "TTE accused of gang rape in U.P. suspended - The Hindu\n",
      "Two brothers handed life term for raping 11-year-old at home for 8 months in Ghaziabad - IndiaTimes\n",
      "Mumbai cops pool in funds for 5-year-old rape survivor's education - IndiaTimes\n",
      "20-year-old college student gang-raped in Kancheepuram, five arrested - The Hindu\n",
      "Law to recognise children born as a result of rape as victims for the ... - GOV.UK\n",
      "2 youths held for raping woman after offering autorickshaw lift in Panvel - IndiaTimes\n",
      "Senior Bihar IAS officer, ex-RJD MLA booked for rape charges - The Hindu\n",
      "Sheriff opens rape investigation after CPI-Scripps News reporting - The Center for Public Integrity\n",
      "UP woman, 29, claims rape by TTE in AC 1st coach of moving train - Times of India\n",
      "Twists and turns in rape case against Karnataka's Lingayat seer Shivamurthy - India Today\n",
      "Why India's law still allows men to rape their wives - The Week\n",
      "Romania: information for victims of rape and sexual assault - GOV.UK\n",
      "Unnao rape case: Delhi HC grants interim bail to Kuldeep Sengar - The Hindu\n",
      "Haryana minister Sandeep Singh gives up sports portfolio after rape bid charge - Times of India\n",
      "Chhattisgarh: Senior BJP leader Narayan Chandel's son booked for rape - Times of India\n",
      "Better protection for rape victims from invasive record requests - GOV.UK\n",
      "BJP Leader Shahnawaz Hussain Faces Rape Case After Supreme Court Setback - NDTV\n",
      "SC to Hear Petitions Challenging Marital Rape Exception in March - The Wire\n",
      "Noida: 6 months after rape, accused switches on stolen phone, held - Times of India\n",
      "Glasgow court convicts trans woman of raping two women before her transition - The Guardian\n",
      "Met Police officer David Carrick admits to being serial rapist - BBC\n",
      "Rape survivor secretly recorded her abuser's confession - BBC\n",
      "‘When I saw the gun I froze’: David Carrick victim recalls rape ordeal - The Guardian\n",
      "Case against Sandeep Singh| Jr coach says another woman coach targeting her character: ‘such girls should be raped’ - The Indian Express\n",
      "Rape in moving car: Accused sent to 2-day police remand - Hindustan Times\n",
      "Woman files suit accusing Mike Tyson of rape in early ’90s - The Indian Express\n",
      "Man booked for rape of 22-year-old in Indore - IndiaTimes\n",
      "Gang rape survivor made to wait for 12 hours in police van for medical examination in Odisha - The Hindu\n",
      "2 acquitted in Bhiwandi rape case - IndiaTimes\n",
      "Rapist who threatened to kill victim’s date has sentence reviewed - The Guardian\n",
      "2019 case: Four get life term for minor’s rape in Rohtak - Hindustan Times\n",
      "Who Is Godman Jalebi Baba, Convicted For Raping Up To 120 Women And Sentenced To 14 Years In Jail? - Outlook India\n",
      "Child rape cases: Two get 20-year jail in Chennai - IndiaTimes\n",
      "Chhattisgarh BJP MLA Narayan Chandel's son Palash booked for 'rape' - Times of India\n",
      "Kerala man rapes, impregnates minor daughter; sentenced to 3 life terms - India Today\n",
      "MP Rahul Shewale seeks to restrain woman who complained of rape from posting on social media - India Today\n",
      "Kathua rape case: Lal Singh joining 'Bharat Jodo Yatra' stirs up ... - The Kashmir Walla\n",
      "Pune: Bid to set rape survivor ablaze slur on suspect - Times of India\n",
      "Brother of rape survivor found dead in Meerut, kin claim killed for going to cops - IndiaTimes\n",
      "WWE's Vince McMahon settles lawsuit by ex-ref alleging 1986 rape - ESPN - ESPN\n",
      "Japan: information for victims of rape and sexual assault - GOV.UK\n",
      "Hampshire police officer rape case jury discharged - BBC\n",
      "Eleanor Williams: Barrow woman guilty of false rape claims - BBC\n",
      "Suspended special sub-inspector of police arrested on rape charge - The Hindu\n",
      "New twist in Sri Lankan cricketer's Sydney rape case - Daily Mail\n",
      "BJP taluka panchayat member in Navsari arrested in rape case - The Indian Express\n",
      "Two ‘rape’ 40-year-old woman in Jharkhand's Jamtara nursing home, arrested - IndiaTimes\n",
      "Man rapes 8-year-old daughter in wife's absence, arrested in Ahmedabad - Times of India\n",
      "Wales rugby: Former women's boss says colleague made rape jibe - BBC\n",
      "Slovenia: information for victims of rape and sexual assault - GOV.UK\n",
      "Railyway man held for 'rape attempt' in AC coach in UP's Sambhal - Times of India\n",
      "Nepal court grants bail for rape accused cricketer Sandeep Lamichhane - Hindustan Times\n",
      "PhD scholar rapes physiotherapist, held - IndiaTimes\n",
      "Trans woman guilty of raping two women remanded in female prison in Scotland - The Guardian\n",
      "Ex-terrorist gets 8-year jail for minor’s rape - Times of India\n",
      "Andrew Tate says he enjoyed raping his victim in a voice note - India Today - India Today\n",
      "Pushkar firing: Sons 'avenged' father killed 31 yrs ago for writing on rape, blackmail of 100s of girls - Times Now\n",
      "Rape survivor wins case against ‘cruel and inhumane’ state of Bolivia - The Guardian\n",
      "Horrific rape case in Rajasthan: Minor girl repeatedly sexually assaulted by several people; 7 accused arreste - Times Now\n",
      "Bihar: Tribal woman raped, killed, finger at foresters - Telegraph India\n",
      "Rajasthan: Congress MLA’s son arrested in rape case - Hindustan Times\n",
      "Former J&K militant gets 8 years imprisonment in rape case - Hindustan Times\n",
      "Hyderabad gym trainer to face rape charge - Times of India\n",
      "Girl accuses coaching teacher of spiking drink, rape in UP's Vrindavan - India Today\n",
      "Former Barcelona player Dani Alves sent to Spanish prison for ... - Anadolu Agency | English\n",
      "Pantheerankavu gang rape case: four youths in police custody - The Hindu\n",
      "Influencer Andrew Tate arrested in UK on suspicion of rape, assault, in 2015 - South China Morning Post\n",
      "Ron Jeremy found ‘not competent’ to stand trial for multiple rape charges - The Guardian\n",
      "4 arrested in connection to alleged rape of LSU student hit, killed by ... - CNN\n",
      "Principal accused of raping teen in Mumbai on the run - IndiaTimes\n",
      "‘Will move Supreme Court if needed in Arnamai Bora rape case’ - Times of India\n",
      "Man arrested for rape of minor girl; 2 others held for recording act in Ghaziabad - Hindustan Times\n",
      "Three sentenced to 20 years' rigorous imprisonment in gang rape case in Haryana’s Panipat - IndiaTimes\n",
      "Premature release of Bilkis Bano rape convicts: SC says remission is prerogative of govt - The Economic Times\n",
      "Police investigating rape claims in England believe victim-blaming myths, study finds - The Guardian\n",
      "Eight Women Say the Same Man Raped or Assaulted Them. Now They’re Out for Justice - Rolling Stone\n",
      "Actor Brooke Shields alleges rape in new documentary - Hindustan Times\n",
      "Rajasthan Congress MLA's son held for Dausa hotel gang rape - Times of India\n",
      "Bromley Council: Shaun Slator's rape comment sparks investigation - BBC\n",
      "Man rapes 20-month-old, held 2nd time in Mumbai - IndiaTimes\n",
      "No let up in rape cases in Capital in last two years - The New Indian Express\n",
      "Rape case FIR order against IAS, former MLA - Telegraph India\n",
      "One of two suspects in July gang-rape held after he turns on victim’s phone - Hindustan Times\n",
      "Supreme Court Issues Notice In Another Plea Challenging Marital Rape Exception - Live Law - Indian Legal News\n",
      "CID takes up probe in ‘Santro’ Ravi rape case, no clarity on probe in false case filed against woman - The Indian Express\n",
      "Two held in separate cases of rape, unnatural sex in Mumbai suburbs - IndiaTimes\n",
      "Step Out in Solidarity fundraising challenge is back for 2023 - Rape Crisis\n",
      "Polish health minister ‘appalled’ girl, 14, struggled to get abortion after rape - The Guardian\n"
     ]
    }
   ],
   "source": [
    "newsitem = result['entries']\n",
    "for item in newsitem:\n",
    "    print(item.title)"
   ]
  },
  {
   "cell_type": "code",
   "execution_count": 5,
   "metadata": {},
   "outputs": [
    {
     "name": "stdout",
     "output_type": "stream",
     "text": [
      "Data has been saved to C:\\Users\\Vineet Trivedi\\OneDrive\\Desktop\\College\\Capstone\\Code\\Data\\articles_india.csv\n"
     ]
    }
   ],
   "source": [
    "import csv\n",
    "\n",
    "\n",
    "newsitem = result['entries']\n",
    "titles = []\n",
    "links = []\n",
    "dates = []\n",
    "\n",
    "for item in newsitem:\n",
    "    title = item.get('title', '')\n",
    "    link = item.get('link', '')\n",
    "    date = item.get('published', '')\n",
    "    \n",
    "    titles.append(title)\n",
    "    links.append(link)\n",
    "    dates.append(date)\n",
    "\n",
    "\n",
    "csv_file_path = 'C:\\\\Users\\\\Vineet Trivedi\\\\OneDrive\\\\Desktop\\\\College\\\\Capstone\\\\Code\\\\Data\\\\articles_india.csv'\n",
    "\n",
    "rows = zip(titles, links, dates)\n",
    "with open(csv_file_path, mode='w', newline='', encoding='utf-8') as file:\n",
    "    writer = csv.writer(file)  \n",
    "    writer.writerow(['Title', 'Link', 'Date'])\n",
    "    writer.writerows(rows)\n",
    "\n",
    "print(\"Data has been saved to\", csv_file_path)\n"
   ]
  },
  {
   "cell_type": "markdown",
   "metadata": {},
   "source": [
    "# **Step-2 (Testing)**\n",
    "\n",
    "**Article Summarizing and Keyword Extraction**"
   ]
  },
  {
   "cell_type": "markdown",
   "metadata": {},
   "source": [
    "**Importing Libraries**"
   ]
  },
  {
   "cell_type": "code",
   "execution_count": 6,
   "metadata": {},
   "outputs": [],
   "source": [
    "from newspaper import Article\n",
    "from rake_nltk import Rake\n",
    "import nltk\n"
   ]
  },
  {
   "cell_type": "code",
   "execution_count": 7,
   "metadata": {},
   "outputs": [
    {
     "name": "stderr",
     "output_type": "stream",
     "text": [
      "[nltk_data] Downloading package stopwords to C:\\Users\\Vineet\n",
      "[nltk_data]     Trivedi\\AppData\\Roaming\\nltk_data...\n",
      "[nltk_data]   Package stopwords is already up-to-date!\n",
      "[nltk_data] Downloading package punkt to C:\\Users\\Vineet\n",
      "[nltk_data]     Trivedi\\AppData\\Roaming\\nltk_data...\n",
      "[nltk_data]   Package punkt is already up-to-date!\n"
     ]
    },
    {
     "data": {
      "text/plain": [
       "True"
      ]
     },
     "execution_count": 7,
     "metadata": {},
     "output_type": "execute_result"
    }
   ],
   "source": [
    "nltk.download('stopwords')\n",
    "nltk.download('punkt')"
   ]
  },
  {
   "cell_type": "markdown",
   "metadata": {},
   "source": [
    "**Testing Library functions**"
   ]
  },
  {
   "cell_type": "code",
   "execution_count": 8,
   "metadata": {},
   "outputs": [
    {
     "name": "stdout",
     "output_type": "stream",
     "text": [
      "Title: At 500 a year, rape cases fall by half in Karnataka; cops attribute it to Pocso\n",
      "Authors []\n"
     ]
    }
   ],
   "source": [
    "url = \"https://news.google.com/rss/articles/CBMimQFodHRwczovL3RpbWVzb2ZpbmRpYS5pbmRpYXRpbWVzLmNvbS9jaXR5L2JlbmdhbHVydS9hdC01MDAtYS15ZWFyLXJhcGUtY2FzZXMtZmFsbC1ieS1oYWxmLWluLWthcm5hdGFrYS1jb3BzLWF0dHJpYnV0ZS1pdC10by1wb2Nzby9hcnRpY2xlc2hvdy85Njg2NTc3Ny5jbXPSAZQBaHR0cHM6Ly9tLnRpbWVzb2ZpbmRpYS5jb20vY2l0eS9iZW5nYWx1cnUvYXQtNTAwLWEteWVhci1yYXBlLWNhc2VzLWZhbGwtYnktaGFsZi1pbi1rYXJuYXRha2EtY29wcy1hdHRyaWJ1dGUtaXQtdG8tcG9jc28vYW1wX2FydGljbGVzaG93Lzk2ODY1Nzc3LmNtcw?oc=5\"\n",
    "my_article = Article(url, language = 'en')\n",
    "my_article.download()\n",
    "my_article.parse()\n",
    "print('Title:',my_article.title)\n",
    "print('Authors',my_article.authors)"
   ]
  },
  {
   "cell_type": "code",
   "execution_count": 9,
   "metadata": {},
   "outputs": [
    {
     "name": "stdout",
     "output_type": "stream",
     "text": [
      "Summary: Implementation of Pocso Act is certainly one factor that has resulted in reduction of cases under the IPC, but it is not the only reason.\n",
      "In the past five years, out of the 2,551 cases, nearly a quarter of the cases (622) were reported in Bengaluru, with most cases registered in 2022 (148) and 2019 (143).\n",
      "There is also the issue of her right to not report rape.\n",
      "Our endeavour is the same with all cases against women, but some rape cases tend to drag on due to various processes,\" the officer said.Dona further added that in some cases women, especially those who were sexually assaulted when they were minors - say 16 or 17 years of age - tend to drop cases after they turn 18.\n",
      "\"It sometimes takes five years for rape cases to reach the first stage in courts and women don't want this to drag on and affect them.\n"
     ]
    },
    {
     "data": {
      "text/plain": [
       "str"
      ]
     },
     "execution_count": 9,
     "metadata": {},
     "output_type": "execute_result"
    }
   ],
   "source": [
    "my_article.nlp()\n",
    "summ = my_article.summary\n",
    "print('Summary:', summ)\n",
    "type(my_article.summary)"
   ]
  },
  {
   "cell_type": "markdown",
   "metadata": {},
   "source": [
    "**Keyword Extraction**"
   ]
  },
  {
   "cell_type": "code",
   "execution_count": 10,
   "metadata": {},
   "outputs": [
    {
     "name": "stdout",
     "output_type": "stream",
     "text": [
      "Keyword: sometimes takes five years, Score: 14.5\n",
      "Keyword: past five years, Score: 9.5\n",
      "Keyword: various processes ,\", Score: 9.0\n",
      "Keyword: certainly one factor, Score: 9.0\n",
      "Keyword: rape cases tend, Score: 6.111111111111111\n",
      "Keyword: 17 years, Score: 5.0\n",
      "Keyword: report rape, Score: 4.333333333333334\n",
      "Keyword: rape cases, Score: 4.111111111111111\n",
      "Keyword: turn 18, Score: 4.0\n",
      "Keyword: sexually assaulted, Score: 4.0\n",
      "Keyword: say 16, Score: 4.0\n",
      "Keyword: pocso act, Score: 4.0\n",
      "Keyword: officer said, Score: 4.0\n",
      "Keyword: first stage, Score: 4.0\n",
      "Keyword: 143 )., Score: 4.0\n",
      "Keyword: drop cases, Score: 3.7777777777777777\n",
      "Keyword: cases registered, Score: 3.7777777777777777\n",
      "Keyword: 551 cases, Score: 3.7777777777777777\n",
      "Keyword: cases women, Score: 3.1111111111111107\n",
      "Keyword: tend, Score: 2.0\n",
      "Keyword: cases, Score: 1.7777777777777777\n",
      "Keyword: cases, Score: 1.7777777777777777\n",
      "Keyword: cases, Score: 1.7777777777777777\n",
      "Keyword: women, Score: 1.3333333333333333\n",
      "Keyword: women, Score: 1.3333333333333333\n",
      "Keyword: want, Score: 1.0\n",
      "Keyword: right, Score: 1.0\n",
      "Keyword: resulted, Score: 1.0\n",
      "Keyword: reported, Score: 1.0\n",
      "Keyword: reduction, Score: 1.0\n",
      "Keyword: reason, Score: 1.0\n",
      "Keyword: reach, Score: 1.0\n",
      "Keyword: quarter, Score: 1.0\n",
      "Keyword: nearly, Score: 1.0\n",
      "Keyword: minors, Score: 1.0\n",
      "Keyword: issue, Score: 1.0\n",
      "Keyword: ipc, Score: 1.0\n",
      "Keyword: implementation, Score: 1.0\n",
      "Keyword: especially, Score: 1.0\n",
      "Keyword: endeavour, Score: 1.0\n",
      "Keyword: due, Score: 1.0\n",
      "Keyword: drag, Score: 1.0\n",
      "Keyword: drag, Score: 1.0\n",
      "Keyword: dona, Score: 1.0\n",
      "Keyword: courts, Score: 1.0\n",
      "Keyword: bengaluru, Score: 1.0\n",
      "Keyword: also, Score: 1.0\n",
      "Keyword: age, Score: 1.0\n",
      "Keyword: affect, Score: 1.0\n",
      "Keyword: added, Score: 1.0\n",
      "Keyword: 622, Score: 1.0\n",
      "Keyword: 2022, Score: 1.0\n",
      "Keyword: 2019, Score: 1.0\n",
      "Keyword: 2, Score: 1.0\n",
      "Keyword: 148, Score: 1.0\n"
     ]
    }
   ],
   "source": [
    "r = Rake()\n",
    "r.extract_keywords_from_text(summ)\n",
    "keywords_with_scores = r.get_ranked_phrases_with_scores()\n",
    "\n",
    "# Print the keywords and scores\n",
    "for score, keyword in keywords_with_scores:\n",
    "    print(f\"Keyword: {keyword}, Score: {score}\")\n",
    "\n"
   ]
  },
  {
   "cell_type": "markdown",
   "metadata": {},
   "source": [
    "# **Step-3(Testing)**\n",
    "\n",
    "**Fetching News based on extracted keywords** "
   ]
  },
  {
   "cell_type": "code",
   "execution_count": 12,
   "metadata": {},
   "outputs": [],
   "source": [
    "gn = GoogleNews(country = 'in')\n",
    "q = 'sometimes takes five years'\n",
    "s = gn.search(q )"
   ]
  },
  {
   "cell_type": "code",
   "execution_count": 13,
   "metadata": {},
   "outputs": [
    {
     "name": "stdout",
     "output_type": "stream",
     "text": [
      "The Mutual Fund Show: All You Need To Know About Nippon India Innovation Fund - BQ Prime\n",
      "U.S. Department of Education Takes Action Against Five Schools for ... - US Department of Education\n",
      "Recent 50% pullback isn't enough to hurt long-term Travel Technology Interactive (EPA:ALTTI) shareholders, they're still up 755% over 5 years - Simply Wall St\n",
      "Last men outstanding - The Cricket Monthly\n",
      "Immortals of Aveum pushes Unreal Engine 5 hard - and image ... - Eurogamer.net\n",
      "Harmonic (NASDAQ:HLIT) shareholders have earned a 13% CAGR over the last five years - Yahoo Finance\n",
      "Why America’s Election is Canada’s Business - Policy Magazine\n",
      "The global crisis of religious persecution – GIS Reports - Geopolitical Intelligence Services AG\n",
      "Former CEO takes in State Fair as a civilian for first time since 1969 - MinnPost\n",
      "The five-year shareholder returns and company earnings persist lower as Capitol Federal Financial (NASDAQ:CFFN) stock falls a further 6.8% in past week - Simply Wall St\n",
      "The 14% return this week takes Eltek's (NASDAQ:ELTK) shareholders five-year gains to 130% - Simply Wall St\n",
      "Learn How to Build an Impactful CSR Program for Your Business - Home Furnishings Association\n",
      "Empowering Joy: How Figure Skating Transformed Jayda's World - skatecanada.ca\n",
      "Retention and recruitment: Local school districts, universities seek teacher shortage solutions - Greeley Tribune\n",
      "Five years after Thunder Bay introduced new idling regulations, one advocate says not much has changed - CBC.ca\n",
      "UCF Rivalries: Old and New - UCF\n",
      "Positive earnings growth hasn't been enough to get Corbion (AMS:CRBN) shareholders a favorable return over the last three years - Simply Wall St\n",
      "In Second Year, Rhythm Exchange Keeps The Beat - Arts Council of Greater New Haven\n",
      "I Took 2 Travelers With a 70-year Age Gap on an International Trip ... - Travel + Leisure\n",
      "Female genital mutilation leads to over 40,000 excess deaths in ... - Down To Earth Magazine\n",
      "P Chidambaram writes: How we ‘work’ the Constitution - The Indian Express\n",
      "This Fidelity manager has crushed the S&P 500 since 1989—here's his advice for investors - CNBC\n",
      "Revealed: Canada's 5 Most Relaxing Airports - Simple Flying\n",
      "This church-turned-house in small-town Ontario has a thoroughly modern interior - Maclean's\n",
      "Aakanksha Bhargav | CEO, PM Relocation - The Weekend Leader\n",
      "TikTok star Kayleigh Trappe says she gets a 'buzz' from celebs ... - Sunday World\n",
      "Woolworths Group Limited (ASX:WOW) Pays A AU$0.58 Dividend In Just Four Days - Simply Wall St\n",
      "Bleak warning as Australia to ditch cash - news.com.au\n",
      "'Everyone will be served': Sojourner Truth Ministries provides over ... - Williamsport Sun-Gazette\n",
      "The 'Star Wars' timeline is confusing. Here's when 'The Mandalorian ... - WDJT\n",
      "The Top 5 Longreads of the Week - Longreads\n",
      "Taking more than 5 pills a day? 'Deprescribing' can prevent harm ... - The Conversation\n",
      "Is Mark Williams the Hornets’ center of the future? - SB Nation\n",
      "High blood pressure can affect kids but often goes undiagnosed - Science News Explores\n",
      "Those who invested in Generac Holdings (NYSE:GNRC) five years ago are up 107% - Simply Wall St\n",
      "Jos Buttler provides the pyrotechnics on night of scorching strokeplay - ESPNcricinfo\n",
      "Samsung Galaxy Z Fold 5 review: Crawling towards perfection - SamMobile - Samsung news\n",
      "David Canter accepts demotion at Bluespring after zero closed ... - RIABiz\n",
      "Russia's economy is overheating - The Bell\n",
      "A, B or C? Scoring Ita Buttrose’s five-year tenure as chair of the ABC - Sydney Morning Herald\n",
      "Central U.S. Heat Dome Challenges Temperature Records and ... - The New York Times\n",
      "3 generations of archers embrace tradition at Mi'kmaw Summer Games - CBC.ca\n",
      "Crack cocaine floods Brussels as alarm sounds over safety in EU capital - POLITICO Europe\n",
      "The Young Bucks wrestle FTR at AEW All In in London's Wembley ... - Sports Illustrated\n",
      "The deadly craze that is seeing British youngsters risk their lives on holiday: How 'balconing' - jumping from - Daily Mail\n",
      "Satellite built as low-cost way to reduce space junk reenters atmosphere years early - Phys.org\n",
      "How to make a Mediterranean 'lazy girl' lunch: sweet potato, halloumi - Insider\n",
      "Why Your Favorite Hobby Shouldn't Be Your Next Business Idea - Entrepreneur\n",
      "Five years after narrowly keeping his job, Max Homa soars atop ... - PGA TOUR\n",
      "Further weakness as Fnac Darty (EPA:FNAC) drops 5.6% this week, taking five-year losses to 55% - Simply Wall St\n",
      "FutureFuel (NYSE:FF) Could Be A Buy For Its Upcoming Dividend - Simply Wall St\n",
      "HUMBOLDT HISTORY: Remembering the Wonderful Arcata ... - Lost Coast Outpost\n",
      "The needles and the damage done: Inside our neighbourhood’s battle over unsafe injection, crime and murder - National Post\n",
      "127000 New York Workers Have Been Victims of Wage Theft - ProPublica\n",
      "Editorial: Justice and accountability in Florida would cut the need for ... - Orlando Sentinel\n",
      "Can I drink alcohol-free beer at work? (And other possibly inappropriate scenarios) - Sky News\n",
      "Big 12's days of Air Raid offenses give way to balance and, sometimes, ground-based attacks - NBC 5 Dallas-Fort Worth\n",
      "In push to reduce violence, use of Florida's red-flag law to remove ... - Palm Beach Post\n",
      "Men who abandoned me with three kids strengthened me – Polio survivor - Punch Newspapers\n",
      "Famed medium Theresa Caputo has new TV show coming, will ... - Detroit Free Press\n",
      "Vicky Pattison diagnosed with PMDD after desperate five-year fight ... - Heart\n",
      "The giant troll in Victor: A Danish artist brings one of his international ... - The Colorado Sun\n",
      "The Unexpected Benefits of an Unrequited Crush - The Atlantic\n",
      "How One Couple Paid Off $100,000, Acquired $1.3 Million In Real Estate And Retired In Their 30’s - Forbes\n",
      "EXCLUSIVE: 'Everyone thought I couldn't do it. But I did.' Former WWE star Paige lays bare brutal years-long s - Daily Mail\n",
      "When dams break - AZPM - AZPM\n",
      "How Often Can You File For Bankruptcy - Business Insider\n",
      "5 cool equipment finds inside Scottie Scheffler’s golf bag | Bag Spy - Golf.com\n",
      "Chugiak girls sweep top 5 spots at Big 8 cross country meet - Anchorage Daily News\n",
      "the region's premier license plate swap meet was a treasure - DCist\n",
      "IN FOCUS: 'It's overwhelming' – the reality of raising a child with ... - CNA\n",
      "Inside Revolution: Foundations for Success - Motorsport UK\n",
      "R&R Hall of Famer Marky Ramone appearing at San Antonio events ... - San Antonio Current\n",
      "In a rare win, a migrant worker sued his bosses in Singapore. And won - CNN\n",
      "UK Police Force Loses 3 Years of Body Camera Footage - Slashdot\n",
      "I once slept on moving truck to protect my goods – Erisco CEO - Punch Newspapers\n",
      "What are the chances Novak Djokovic and Carlos Alcaraz duel at ... - Tennis Magazine\n",
      "Examining The Writers' Strike As Labor Day Looms - Texas A&M University Today\n",
      "Class of 2027: Accomplished, 'Terrific' People, With More Pell Grants ... - UVA Today\n",
      "Two years after Taliban took Kabul, Afghan Bard graduates hope to ... - Times Union\n",
      "Bree Tomasel on Celebrity Treasure Island secrets, her private life ... - New Zealand Herald\n",
      "Teens thrive in competition on rodeo circuit - Palatka Daily News\n",
      "How West Australian women are taking control of their fertility and ... - The West Australian\n",
      "COLUMN | How to create healthy habits for your school year - The Auburn Plainsman\n",
      "'Outlander': Everything we know about the 10th and final book - Insider\n",
      "Migrants in Chicago face frustrating waits for work permits - Chicago Sun-Times\n",
      "Inching forward in Bakhmut counteroffensive, Ukraine's hardened ... - Kyiv Independent\n",
      "Working mom shares how she's been doing zero screen time with toddler - Insider\n",
      "The PhD student imprisoned for being a spy: 'I live with a huge ... - The Telegraph\n",
      "Manchin Moves Ball Forward on Permitting Reform - U.S. Senate ... - US Senate Committee on Energy and Natural Resources\n",
      "At 100 years old, I'm the 'world's oldest practicing doctor'—5 things I never do to live a long, happy life - CNBC\n",
      "The Five Stages of DEI Maturity - HBR.org Daily\n"
     ]
    }
   ],
   "source": [
    "newsitem2 = s['entries']\n",
    "for item in newsitem2:\n",
    "  print(item.title)"
   ]
  },
  {
   "cell_type": "code",
   "execution_count": null,
   "metadata": {},
   "outputs": [],
   "source": []
  }
 ],
 "metadata": {
  "kernelspec": {
   "display_name": "project",
   "language": "python",
   "name": "python3"
  },
  "language_info": {
   "codemirror_mode": {
    "name": "ipython",
    "version": 3
   },
   "file_extension": ".py",
   "mimetype": "text/x-python",
   "name": "python",
   "nbconvert_exporter": "python",
   "pygments_lexer": "ipython3",
   "version": "3.11.2"
  },
  "orig_nbformat": 4
 },
 "nbformat": 4,
 "nbformat_minor": 2
}
