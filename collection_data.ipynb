{
 "cells": [
  {
   "cell_type": "markdown",
   "metadata": {},
   "source": [
    "# **Step-1(Testing)**\n",
    "\n",
    "**Data Collection**"
   ]
  },
  {
   "cell_type": "markdown",
   "metadata": {},
   "source": [
    "**Importing Libraries**"
   ]
  },
  {
   "cell_type": "code",
   "execution_count": 1,
   "metadata": {},
   "outputs": [],
   "source": [
    "from pygooglenews import GoogleNews\n",
    "import datetime as dt\n",
    "import time\n",
    "import openpyxl\n",
    "import pandas as pd"
   ]
  },
  {
   "cell_type": "markdown",
   "metadata": {},
   "source": [
    "**Defining Keyword - Socio Economic**"
   ]
  },
  {
   "cell_type": "code",
   "execution_count": 2,
   "metadata": {},
   "outputs": [],
   "source": [
    "socio_economic_keywords = [\n",
    "    \"Poverty\" , \"Wealth Gap\",\"Income inequality\", \"Education access\",\"Rape\"\n",
    "]\n"
   ]
  },
  {
   "cell_type": "markdown",
   "metadata": {},
   "source": [
    "**Fetching News using GoogleNews**"
   ]
  },
  {
   "cell_type": "code",
   "execution_count": 3,
   "metadata": {},
   "outputs": [],
   "source": [
    "news = GoogleNews(country = 'in')\n",
    "start_date = start_date = dt.date(2021, 1, 1)\n",
    "end_date = end_date = dt.date(2021, 1, 30)\n",
    "\n",
    "all_results = []\n",
    "\n",
    "for keyword in socio_economic_keywords:\n",
    "  sdate = start_date\n",
    "  while sdate<= end_date:\n",
    "    edate = sdate + dt.timedelta(days=30)\n",
    "    i = sdate.strftime('%Y-%m-%d')\n",
    "    j = edate.strftime('%Y-%m-%d')\n",
    "    result = news.search(keyword, from_ = i , to_= j)\n",
    "    time.sleep(5)\n",
    "    sdate = edate + dt.timedelta(days=30)\n",
    "\n",
    "\n",
    "\n",
    "\n",
    "\n"
   ]
  },
  {
   "cell_type": "code",
   "execution_count": 4,
   "metadata": {},
   "outputs": [
    {
     "name": "stdout",
     "output_type": "stream",
     "text": [
      "Bombay HC acquits man of rape, says impossible for a single man to gag victim, remove her clothes without scuffle - India Today\n",
      "MP: 8 held for rape of 13-year-old - Hindustan Times\n",
      "13-year-old girl abducted, raped by 9 men in MP; 7 arrested - The Indian Express\n",
      "13-year-old girl abducted, raped by nine men in Madhya Pradesh; seven arrested - The New Indian Express\n",
      "UP: Temple priest, aides charged with rape-murder of woman - Hindustan Times\n",
      "Man rapes 4 of family, including a minor, in Rajasthan's Dausa - India Today\n",
      "Budaun gang-rape case: NCW takes cognizance, to meet victim’s kin - Hindustan Times\n",
      "Mumbai man jailed for 7 years for attempting to rape minor - India Today\n",
      "Badaun gang rape: Accused priest sent to 10-day judicial custody - Hindustan Times\n",
      "Jharkhand rape victim says 'I paid hefty price for asking compensation for my goat' - India Today\n",
      "Waqf board member booked for rape in Mumbai - India Today\n",
      "Vishnu seeks to become approver in actor rape case - The Hindu\n",
      "Kerala girl recounts horror of rape, abuse by 38 men over months, police book 44 - India Today\n",
      "Mumbai: Fashion designer accuses CA of rape on pretext of marriage - Mumbai Mirror\n",
      "Woman raped by two men inside temple in Nagapattinam - The Hindu\n",
      "Man arrested for rape of 6-year-old girl in MP’s Bhind district - Hindustan Times\n",
      "CPS accused of 'systemic illegality' in charging rape cases - The Guardian\n",
      "Woman withdraws rape complaint against Dhananjay Munde - The Indian Express\n",
      "Woman gang-raped in Madhya Pradesh, rod inserted into private parts - The Hindu\n",
      "Gender-biased rape laws must change - Deccan Herald\n",
      "Taapsee Pannu, Urmila Matondkar, Pooja Bhatt slam NCW member’s victim-blaming comments about Budaun gang-rape - Hindustan Times\n",
      "Massive protests at Ranchi involving rape and murder of girl - Telegraph India\n",
      "Raigad rape and murder case: Accused Adesh Patil sent to police custody till January 8 - The Hindu\n",
      "Woman raped inside train in Tambaram yard - The Hindu\n",
      "Chandigarh teen found seven months pregnant, 20-year-old held for rape - Hindustan Times\n",
      "Rape accused, father arrested in UP’s Ballia - Hindustan Times\n",
      "Ghaziabad court awards death to man for rape and murder of 2-yr-old girl - Hindustan Times\n",
      "Two minors who had ‘eloped’ traced to Vapi, boy booked for rape - The Indian Express\n",
      "LAW: WILL THE NEW LAW STOP RAPES? - Newspaper - DAWN ... - DAWN.com\n",
      "Police-CPS Joint National RASSO (Rape and Serious Sexual ... - The Crown Prosecution Service\n",
      "Pollachi sexual assault case | Of rape, lies and video leaks - The Hindu\n",
      "How a new definition of rape could impact Swiss law - SWI swissinfo.ch in English\n",
      "In ruling on rape, B.C. judge pleads for action to protect Indigenous girls from 'horrible crimes' - CBC.ca\n",
      "13-year-old girl gang-raped in Maharashtra's Nashik, 7 arrested - India Today\n",
      "Girl to be booked for filing false gang rape case - Hindustan Times\n",
      "SHO, outpost incharge booked for not filing FIR in Budaun ‘gang rape & murder’ case - ThePrint\n",
      "Dhananjay Munde Accused Of Rape Maharashtra Minister Refutes Allegations Saying 'Attempt To Blackmail' - ABP Live\n",
      "19-year old girl kills man who tried to rape her - The Hindu\n",
      "How rape victims go through a 'second trauma' - DW (English)\n",
      "'Choose - I kill you or rape you': abuse accusations surge in ... - Reuters\n",
      "Three rape cases registered in Chandigarh - The Tribune India\n",
      "Lawrence Jones: Former UKFast boss charged with rape - BBC\n",
      "'Matter must be probed’: Sharad Pawar on woman who accused NCP minister of rape - Hindustan Times\n",
      "Nine Rape Cases Which Show How Dangerous And Unsafe UP Is For Women - Indiatimes.com\n",
      "After Alleged Rape By Colleague, Police Constable In UP Attempts Taking Her Own Life - Indiatimes.com\n",
      "CPS denies major change in rape charging policy despite falling rates - The Guardian\n",
      "Bihar: Unidentified men allegedly rape, try to blind a 17-year-old girl - Hindustan Times\n",
      "Man attempts to rape minor in Jharkhand's Ramgarh; thrashed, arrested - India Today\n",
      "Uttarakhand HC stays DNA test of BJP MLA accused of rape till Jan 13 - Hindustan Times\n",
      "Rape Accused In Mumbai Gets Bail After He Offers To Marry Survivor Once She Turns 18 - Indiatimes.com\n",
      "19-Year-Old UP Girl Ends Life After Two Men Rape Her, Film The Act To Blackmail Her - Outlook India\n",
      "Migrant worker from Jharkhand held for rape, murder of 7-year-old girl - The Indian Express\n",
      "‘DO NOT GET RAPED’ Instead Of ‘DO NOT RAPE’: When Will India Stop Shaming Survivors? - Youth Ki Awaaz\n",
      "French film director Besson to be treated as ‘assisted witness’ in rape case - FRANCE 24 English\n",
      "We got only half justice, says Kathua gang-rape victim's father - The New Indian Express\n",
      "Pune: Woman files rape complaint against man she met on dating app - The Indian Express\n",
      "TV Actress Accuses Pilot Of Rape On Pretext Of Marriage - ABP Live\n",
      "Kerala High Court Orders Retrial In Rape, Death Case Of 2 Minor Sisters - NDTV\n",
      "Sharad Pawar: No action against Dhananjay Munde until rape charges proven - Mumbai Mirror\n",
      "Register FIR against woman who lodged false gang-rape complaint, orders Court - Mumbai Mirror\n",
      "‘It’s Shameful’: Women’s Groups Slam Yogi Govt over Badaun Rape-Murder Case, Demand Arrest of Accused Priest - NewsClick\n",
      "Issue of 'forcible cremation' of Hathras gang-rape victim could not be heard due to judge's 'absence' - The New Indian Express\n",
      "How ’emancipatory sex-ed’ can help prevent rape - Maclean's\n",
      "NYC rape suspect choked his ex and beat up his father, cops and court docs say - New York Post\n",
      "Derek Seekings: Police sergeant jailed for rape during break - BBC\n",
      "Bengaluru: Man arrested on charges of raping 71-year-old neighbour - The Indian Express\n",
      "Woman who filed a rape complaint against NCP youth president Mehboob Shaikh goes missing: Reports - OpIndia\n",
      "Grime artist who raped four women has jail sentence increased - The Guardian\n",
      "Man charged with raping neighbor in her University District house - The Seattle Times\n",
      "ICYMI: Why rape victims shouldn’t rush into marriage – Ijayekunle, anti-rape activist - Punch Newspapers\n",
      "US blogger Cynthia Ritchie withdraws petition seeking rape FIR ... - DAWN.com\n",
      "Mumbai court grants bail to rape accused after mother of victim requested his release for marriage with daughter: Details - OpIndia\n",
      "Justice call in Assam rape and murder case - Telegraph India\n",
      "Main Accused In Budaun Gang-Rape And Murder Case Arrested - NDTV\n",
      "9 suspects arrested after rape, murder of minor girl in Khairpur - DAWN.com\n",
      "Woman raped twice inside moving bus in Maharashtra's Washim - Mumbai Mirror\n",
      "Pune: Woman Returning From Work Kidnapped And Raped In Kharadi - Punekar News\n",
      "CPS and police collaboration to drive up performance on rape and ... - The Crown Prosecution Service\n",
      "Pune: Man Arrested For Kidnapping And Raping Woman Who Was ... - Punekar News\n",
      "Rape, Murder Of O-Level Student: Doctor confirms rape, finds injury marks - The Daily Star\n",
      "Delhi HC cites 8-hour delay in filing FIR, grants bail to rape accused - The Indian Express\n",
      "Derek Seekings: Surrey Police sergeant raped woman during break - BBC\n",
      "Uttar Pradesh: Father, Son Arrested For Raping, Attempting To Convert 13-Yr-Old Girl In Ballia - The Logical Indian\n",
      "Horrific Rape Case In UP; Nationwide Cow Science Exam + More Top News - Indiatimes.com\n",
      "Lawyer Who's Faced Multiple Rape Charges Is Arrested on New Rape Charge in Boston - NECN\n",
      "Woman found dead in Khar building: Mumbai Police to probe attempt to rape angle - Hindustan Times\n",
      "Shocking rape of Malaysian teen in police lock-up raises calls for ... - The Straits Times\n",
      "Christchurch massage client jailed for 'horrific' gunpoint rape - BBC\n",
      "Jharkhand Police arrests Dhanbad man for raping 17-year-old specially-abled girl - India Today\n",
      "Teenager who killed man in self-defence to be acquitted? - The New Indian Express\n",
      "How Dalit Women Are Fighting Back Against Rape, Assault - Refinery29\n",
      "Rape: Man jailed 22 years for raping 14-year-old daughter - Premium Times\n",
      "Covid: Rape trial delays leave woman feeling 'forgotten' - BBC\n",
      "Uttar Pradesh: Police Official Rapes Woman When Approached for Help in a Dowry Case - The Wire\n",
      "Journalist Rohini Singh Gets Rape Threats, Udaipur Police Take ... - SheThePeople\n",
      "Youth held for torturing wife, raping minor girl in Villivakkam - The Hindu\n",
      "New rape kit law takes effect with New Year in Minnesota - FOX 9 Minneapolis-St. Paul\n",
      "17-year-old rape victim critical after sleeping pill overdose - India Today\n",
      "Philippine police under microscope after ‘rape-slay’ case falls apart - South China Morning Post\n",
      "FIR registered in Bulandshahr Sub-Inspector rape, suicide case - The Sunday Guardian\n"
     ]
    }
   ],
   "source": [
    "newsitem = result['entries']\n",
    "for item in newsitem:\n",
    "    print(item.title)"
   ]
  },
  {
   "cell_type": "code",
   "execution_count": 5,
   "metadata": {},
   "outputs": [
    {
     "name": "stdout",
     "output_type": "stream",
     "text": [
      "Data has been saved to C:\\Users\\Vineet Trivedi\\OneDrive\\Desktop\\College\\Capstone\\Code\\Data\\articles_india.csv\n"
     ]
    }
   ],
   "source": [
    "import csv\n",
    "\n",
    "\n",
    "newsitem = result['entries']\n",
    "titles = []\n",
    "links = []\n",
    "dates = []\n",
    "\n",
    "for item in newsitem:\n",
    "    title = item.get('title', '')\n",
    "    link = item.get('link', '')\n",
    "    date = item.get('published', '')\n",
    "    \n",
    "    titles.append(title)\n",
    "    links.append(link)\n",
    "    dates.append(date)\n",
    "\n",
    "\n",
    "csv_file_path = 'C:\\\\Users\\\\Vineet Trivedi\\\\OneDrive\\\\Desktop\\\\College\\\\Capstone\\\\Code\\\\Data\\\\articles_india.csv'\n",
    "\n",
    "rows = zip(titles, links, dates)\n",
    "with open(csv_file_path, mode='w', newline='', encoding='utf-8') as file:\n",
    "    writer = csv.writer(file)  \n",
    "    writer.writerow(['Title', 'Link', 'Date'])\n",
    "    writer.writerows(rows)\n",
    "\n",
    "print(\"Data has been saved to\", csv_file_path)\n"
   ]
  },
  {
   "cell_type": "markdown",
   "metadata": {},
   "source": [
    "# **Step-2 (Testing)**\n",
    "\n",
    "**Article Summarizing and Keyword Extraction**"
   ]
  },
  {
   "cell_type": "markdown",
   "metadata": {},
   "source": [
    "**Importing Libraries**"
   ]
  },
  {
   "cell_type": "code",
   "execution_count": 43,
   "metadata": {},
   "outputs": [],
   "source": [
    "from newspaper import Article\n",
    "from rake_nltk import Rake\n",
    "import nltk\n"
   ]
  },
  {
   "cell_type": "code",
   "execution_count": 47,
   "metadata": {},
   "outputs": [
    {
     "name": "stderr",
     "output_type": "stream",
     "text": [
      "[nltk_data] Downloading package stopwords to C:\\Users\\Vineet\n",
      "[nltk_data]     Trivedi\\AppData\\Roaming\\nltk_data...\n",
      "[nltk_data]   Unzipping corpora\\stopwords.zip.\n",
      "[nltk_data] Downloading package punkt to C:\\Users\\Vineet\n",
      "[nltk_data]     Trivedi\\AppData\\Roaming\\nltk_data...\n",
      "[nltk_data]   Package punkt is already up-to-date!\n"
     ]
    },
    {
     "data": {
      "text/plain": [
       "True"
      ]
     },
     "execution_count": 47,
     "metadata": {},
     "output_type": "execute_result"
    }
   ],
   "source": [
    "nltk.download('stopwords')\n",
    "nltk.download('punkt')"
   ]
  },
  {
   "cell_type": "markdown",
   "metadata": {},
   "source": [
    "**Testing Library functions**"
   ]
  },
  {
   "cell_type": "code",
   "execution_count": 39,
   "metadata": {},
   "outputs": [
    {
     "name": "stdout",
     "output_type": "stream",
     "text": [
      "Title: 13-year-old girl abducted, raped by 9 men in MP; 7 arrested\n",
      "Authors ['Var Template_Content', 'Sso_Login_Box', 'Xwelcome Backorenter The Email Address Or Mobile Number Associated With Your Account To Sign In. Show Passwordsign Innew To The Indian Express Signupxcreate Your Account It Is Quick', 'Easy.Or Show Passwordnextvalidate Otpregisteralready Have An Account', 'Signin', 'Sso_Social_Box', 'Sign In Withgmailfacebookapple', 'Var Follow_Widget_Data', 'Af_Article_Count', 'Ie_Mobile_Check']\n"
     ]
    }
   ],
   "source": [
    "url = 'https://news.google.com/rss/articles/CBMiamh0dHBzOi8vaW5kaWFuZXhwcmVzcy5jb20vYXJ0aWNsZS9pbmRpYS8xMy15ZWFyLW9sZC1naXJsLWFiZHVjdGVkLXJhcGVkLWJ5LTktbWVuLWluLW1wLTctYXJyZXN0ZWQtNzE1MDE4My_SAW9odHRwczovL2luZGlhbmV4cHJlc3MuY29tL2FydGljbGUvaW5kaWEvMTMteWVhci1vbGQtZ2lybC1hYmR1Y3RlZC1yYXBlZC1ieS05LW1lbi1pbi1tcC03LWFycmVzdGVkLTcxNTAxODMvbGl0ZS8?oc=5'\n",
    "my_article = Article(url, language = 'en')\n",
    "my_article.download()\n",
    "my_article.parse()\n",
    "print('Title:',my_article.title)\n",
    "print('Authors',my_article.authors)"
   ]
  },
  {
   "cell_type": "code",
   "execution_count": 45,
   "metadata": {},
   "outputs": [
    {
     "name": "stdout",
     "output_type": "stream",
     "text": [
      "Summary: The girl was lured and abducted from a market place by a person known to her on January 4.\n",
      "(Representational)A 13-year-old girl has been allegedly raped by nine men on separate occasions after being abducted twice in Madhya Pradesh’s Umaria city earlier this month, a police official said on Sunday.\n",
      "The girl’s mother lodged a police complaint on January 14 following which seven of the accused were arrested on Friday.\n",
      "The girl was lured and abducted from a market place by a person known to her on January 4.\n",
      "She was taken to a secluded spot where the person and six others allegedly raped her and later released on January 5, the police official said.\n"
     ]
    },
    {
     "data": {
      "text/plain": [
       "str"
      ]
     },
     "execution_count": 45,
     "metadata": {},
     "output_type": "execute_result"
    }
   ],
   "source": [
    "my_article.nlp()\n",
    "summ = my_article.summary\n",
    "print('Summary:', summ)\n",
    "type(my_article.summary)"
   ]
  },
  {
   "cell_type": "markdown",
   "metadata": {},
   "source": [
    "**Keyword Extraction**"
   ]
  },
  {
   "cell_type": "code",
   "execution_count": 49,
   "metadata": {},
   "outputs": [
    {
     "name": "stdout",
     "output_type": "stream",
     "text": [
      "Keyword: six others allegedly raped, Score: 14.0\n",
      "Keyword: umaria city earlier, Score: 9.0\n",
      "Keyword: police official said, Score: 8.666666666666666\n",
      "Keyword: police official said, Score: 8.666666666666666\n",
      "Keyword: madhya pradesh ’, Score: 8.5\n",
      "Keyword: january 14 following, Score: 8.25\n",
      "Keyword: allegedly raped, Score: 6.0\n",
      "Keyword: police complaint, Score: 4.666666666666666\n",
      "Keyword: january 5, Score: 4.25\n",
      "Keyword: january 4, Score: 4.25\n",
      "Keyword: january 4, Score: 4.25\n",
      "Keyword: separate occasions, Score: 4.0\n",
      "Keyword: secluded spot, Score: 4.0\n",
      "Keyword: nine men, Score: 4.0\n",
      "Keyword: mother lodged, Score: 4.0\n",
      "Keyword: market place, Score: 4.0\n",
      "Keyword: market place, Score: 4.0\n",
      "Keyword: later released, Score: 4.0\n",
      "Keyword: girl ’, Score: 4.0\n",
      "Keyword: person known, Score: 3.666666666666667\n",
      "Keyword: person known, Score: 3.666666666666667\n",
      "Keyword: old girl, Score: 3.5\n",
      "Keyword: abducted twice, Score: 3.333333333333333\n",
      "Keyword: person, Score: 1.6666666666666667\n",
      "Keyword: girl, Score: 1.5\n",
      "Keyword: girl, Score: 1.5\n",
      "Keyword: abducted, Score: 1.3333333333333333\n",
      "Keyword: abducted, Score: 1.3333333333333333\n",
      "Keyword: year, Score: 1.0\n",
      "Keyword: taken, Score: 1.0\n",
      "Keyword: sunday, Score: 1.0\n",
      "Keyword: seven, Score: 1.0\n",
      "Keyword: representational, Score: 1.0\n",
      "Keyword: month, Score: 1.0\n",
      "Keyword: lured, Score: 1.0\n",
      "Keyword: lured, Score: 1.0\n",
      "Keyword: friday, Score: 1.0\n",
      "Keyword: arrested, Score: 1.0\n",
      "Keyword: accused, Score: 1.0\n",
      "Keyword: 13, Score: 1.0\n"
     ]
    }
   ],
   "source": [
    "r = Rake()\n",
    "r.extract_keywords_from_text(summ)\n",
    "keywords_with_scores = r.get_ranked_phrases_with_scores()\n",
    "\n",
    "# Print the keywords and scores\n",
    "for score, keyword in keywords_with_scores:\n",
    "    print(f\"Keyword: {keyword}, Score: {score}\")\n",
    "\n"
   ]
  },
  {
   "cell_type": "markdown",
   "metadata": {},
   "source": [
    "# **Step-3(Testing)**\n",
    "\n",
    "**Fetching News based on extracted keywords** "
   ]
  },
  {
   "cell_type": "code",
   "execution_count": 52,
   "metadata": {},
   "outputs": [],
   "source": [
    "gn = GoogleNews(country = 'in')\n",
    "q = 'six others allegedly raped'\n",
    "s = gn.search(q )"
   ]
  },
  {
   "cell_type": "code",
   "execution_count": 53,
   "metadata": {},
   "outputs": [
    {
     "name": "stdout",
     "output_type": "stream",
     "text": [
      "Teenage girl gang-raped at her home in Hyderabad; 6 held - Rediff.com\n",
      "Dalit teen gang-raped in Telangana, six arrested - Hindustan Times\n",
      "Six arrested for gangrape of minor girl - The Hindu\n",
      "SC sets aside bail to Rajasthan Congress MLA's son in gang rape of minor girl from SC/ST community - Deccan Herald\n",
      "Delhi rape: Suspect, a Delhi govt official, in court today, wife sent to jail - Hindustan Times\n",
      "Adam Provan: Suitability questioned years before rape convictions - BBC\n",
      "Magaluf: Men suspected of gang-raping British teen were not all friends - BBC\n",
      "PE teacher sexually assaults four girls at civic school in Mumbai; held - IndiaTimes\n",
      "Rajasthan girl gang-raped, burnt in furnace - IndiaTimes\n",
      "85-yr-old 'raped' in Kullu village - The Tribune India\n",
      "Delhi News Highlights: ‘Matter of pride for all,’ says CM Kejriwal as Chandrayaan-3 lands on Moon - The Indian Express\n",
      "NYC doctor allegedly drugged, assaulted women, prosecutors say - ABC News\n",
      "7th man in wife-sharing case had consensual sex with victim prior to ... - The Straits Times\n",
      "Six people arrested for assaulting Dalit girl in Uttar Pradesh’s Jaunpur - The Hindu\n",
      "DH Evening Brief: Three Kukis killed in Manipur's Naga-dominated Ukhrul; UP Cong chief says Rahul to contest LS polls from Amethi - Deccan Herald\n",
      "Three people shot dead by gunman in California biker bar shooting - Yahoo News UK\n",
      "Major update for alleged Tinder rapist - news.com.au\n",
      "Rakhi Sawants Shocking Allegations Against Adil Durrani: He Had Sex With Women & Men, Tried To Kill Me - Free Press Journal\n",
      "Former priest Lawrence Hecker, alleged serial abuser, admits molestation in interview - NOLA.com\n",
      "Top news of the day: August 21, 2023 - The Hindu\n",
      "Latest News Updates: Country firecracker hurled on Chennai college campus, student held - Times of India\n",
      "Atrocity Alert No. 361: Sudan, Ukraine and North Korea - Sudan - ReliefWeb\n",
      "It’s not a crime to be ambitious, successful and beautiful: Indrani Mukerjea - Telegraph India\n",
      "Manipur’s silent suffering and the broken promises of ‘peace’ - Frontline\n",
      "High-profile rape accused seeks to keep name suppressed - Shepparton News\n",
      "Embraer jet model that crashed, reportedly carrying Prigozhin, had ... - Arab News\n",
      "The whole-life prisoners currently behind bars serving the same sentence as Lucy Letby - Sky News\n",
      "Malka Leifer sentenced to 15 years for sexual abuse of two students - The Times of Israel\n",
      "Inspirational headteacher cheated exam results and told students answers - Irish Mirror\n",
      "Gallatin's Bledsoe Academy reported by New Hampshire officials for ... - Tennessee Lookout\n",
      "Melissa Rockensies husband William BACKS Queens teacher after she was charged with raping 14 year-old male stu - Daily Mail\n",
      "The Loop: Trump's former lawyer Rudy Giuliani hands himself in, and North Korea attempts second rocket launch — as it happened - ABC News\n",
      "RBI Bulletin Highlights: Headline inflation is expected to average well above 6% in July-September - Moneycontrol\n",
      "From Jan 6 to Stormy Daniels: What is Donald Trump being charged ... - The Telegraph\n",
      "Breaking News Live Updates: Centre will provide funds for poor in Himachal Pradesh, says Anurag Thakur - News9 LIVE\n",
      "UNICAL sex scandal - The Nation Newspaper\n",
      "Countdown co-host Rachel Riley accuses Manchester United of 'green-lighting abuse' and 'turning an alleged abu - Daily Mail\n",
      "Killer couple who shot Liam Smith dead then doused him with acid in revenge for ‘rape’ are jailed... - The Sun\n",
      "Girl claims gang-raped by 2, then 3 others on same day in Delhi - IndiaTimes\n",
      "Breaking News, August 21 I HIGHLIGHTS - India TV News\n",
      "Spain: 6 German tourists arrested over gang rape in Mallorca - DW (English)\n",
      "Chandigarh shocker: Five schoolboys held for raping Class 7 girl - Hindustan Times\n",
      "Benjamin Mendy found not guilty of six counts of rape - BBC\n",
      "Class 6 girl gang-raped by 3 men inside classroom in WB; all arrested: Police - Hindustan Times\n",
      "Six people gang-rape 19-year-old girl in Anambra community - Premium Times\n",
      "Benjamin Mendy said he slept with 10,000 women, court hears - BBC\n",
      "Moradabad: Imam arrested for raping, forcibly converting a woman - ThePrint\n",
      "2 Girls Allegedly Gang-Raped In UP, Six Arrested: Cops - NDTV\n",
      "After Michigan athlete accused of rape, a mom appeals to Jim ... - USA TODAY\n",
      "Mumbai shocker: 16-year-old gang-raped by six people, including friend, in Lower Parel; all accused arrested - Times Now\n",
      "News of the Day: ISRO releases images of moon captured from 70 km altitude, Centre restarts onion procurement at Rs 2,410/quintal; EC to designate Sachin Tendulkar as 'national icon' and more - Telegraph India\n",
      "Arrests after man suffers stab wounds in Weston-super-Mare street attack - Bristol Live\n",
      "Six people arrested over murder of teen, 17, alleged to have raped ... - IOL\n",
      "Guj court convicts self-styled godman Asaram Bapu in rape case filed in 2013; sentence order on Jan 31 - The Economic Times\n",
      "11-year-old charged in sexual assault of 6-year-old on Aldine ISD bus - Houston Public Media\n",
      "'Numerous Lapses In Investigation' : Supreme Court Frees Man Awarded Death Penalty In Case For Rape &... - Live Law - Indian Legal News\n",
      "Rape case: Father of 4 sons finds prey in 6-year-old girl in Ludhiana - IndiaTimes\n",
      "[False Promise To Marry] One Person Can't Be Prosecuted For Rape Merely Because Mutual Relationship... - Live Law - Indian Legal News\n",
      "Woman allegedly raped as a teenager calls for change after ‘horrendous’ trial - The Guardian\n",
      "Indian-origin student in UK jailed for bringing home drunk woman, raping her - IndiaTimes\n",
      "Video Shows Bathroom Interaction Between Conor McGregor, Alleged Rape Victim - TMZ\n",
      "Teenager, six others rape female friend in Adamawa - Daily Post Nigeria\n",
      "Mumbai Police book Actor Sahil Khan and six others for allegedly maligning the image of a business rival Manish Gandhi and his family - OpIndia\n",
      "Andrew Tate raped victim twice, court documents say: report - Insider\n",
      "Phoenix police seek 7th victim of man accused of raping 6 other ... - The Arizona Republic\n",
      "Eleanor Williams jailed for eight and a half years after rape and trafficking lies - The Guardian\n",
      "Gang-rape victim who went to UP police station to file complaint allegedly raped by policeman - The Hindu\n",
      "Jharkhand: Six Men Allegedly Rape Minor Girl In Deoghar; 2 Held, SIT Formed - Jagran English\n",
      "Rape victims were attacked by seven men near Hindley Street, court told - ABC News\n",
      "Wells Fargo exec was raped by colleague, punished by bank, lawsuit says - New York Post\n",
      "Eight Women Say the Same Man Raped or Assaulted Them. Now They’re Out for Justice - Rolling Stone\n",
      "‘I’m angry as hell’: Aldine ISD mother says her 6 year old was sexually assaulted on school bus for months before being notified - Houston Public Media\n",
      "6 arrested for raping, murdering Lakhimpur Kheri’s Dalit sisters - Hindustan Times\n",
      "Minor married girl raped by 400 people in 6 months in Maharashtra’s Beed, 3 arrested - India Today\n",
      "Six People Rape Teenage Girl in MP; 3 Held, Their 'Illegal' Buildings Demolished - The Quint\n",
      "Andrew Tate detained in Romania over rape and human trafficking case - BBC\n",
      "New details emerge after man charged in South Lake Union rape - KIRO Seattle\n",
      "Benjamin Mendy: Woman tells court she was raped by footballer's friend - BBC\n",
      "Johnson City sued over handling of alleged rapes - WJHL-TV News Channel 11\n",
      "Police investigate alleged rape of two children - FBC News\n",
      "13-year-old girl allegedly abducted twice, raped by 9 men multiple times, says MP Police - ThePrint\n",
      "Off-duty Met officer showed ID before raping woman at roadside, court told - The Guardian\n",
      "Andrew Tate’s indictment for alleged rape and human trafficking, explained - Vox.com\n",
      "All the witnesses who testified in Donald Trump's rape trial - POLITICO - POLITICO\n",
      "'I Love Raping You': What Andrew Tate Told Woman Who Accused ... - VICE\n",
      "14 Arrested For Alleged Kidnapping, Gang-Rape Of 14-Year-Old In Pune - NDTV\n",
      "Which countries carry the death penalty for rape? - Thomson Reuters Foundation\n",
      "Man kills 6 of family to avenge ‘rape’ of his daughter - The Hindu\n",
      "Woman allegedly raped by Mendy says she was 'frightened' to say stop, jury hears - Manchester Evening News\n",
      "Bengaluru: 16-year-old girl raped by 4 men after being drugged; 2 women among 6 held under POCSO Act - Times Now\n",
      "Uttar Pradesh: Two men allegedly rape 13-year-old girl, four others film incident - Scroll.in\n",
      "Jury told of ‘red herrings’ in rape trial - news.com.au\n",
      "Police officer suspended over alleged rape at police college as ... - The Scotsman\n",
      "Six arrested for ‘raping’ 15-year-old - Mumbai Mirror\n",
      "Metropolitan police officer faces six further charges of rape - The Guardian\n",
      "Gang rape of Dalit woman: 4 days later, search still underway for accused - The Indian Express\n",
      "6 Horrendous Rape Cases In 2018 So Far Show That Minors Are Biggest Victims Of Sexual Assaults - Indiatimes.com\n",
      "19-year-old allegedly raped by 6 men in Bihar, father forced to watch - Hindustan Times\n",
      "23 men allegedly rape Delhi woman in Rajasthan’s Bikaner - Hindustan Times\n"
     ]
    }
   ],
   "source": [
    "newsitem2 = s['entries']\n",
    "for item in newsitem2:\n",
    "  print(item.title)"
   ]
  },
  {
   "cell_type": "code",
   "execution_count": null,
   "metadata": {},
   "outputs": [],
   "source": []
  }
 ],
 "metadata": {
  "kernelspec": {
   "display_name": "project",
   "language": "python",
   "name": "python3"
  },
  "language_info": {
   "codemirror_mode": {
    "name": "ipython",
    "version": 3
   },
   "file_extension": ".py",
   "mimetype": "text/x-python",
   "name": "python",
   "nbconvert_exporter": "python",
   "pygments_lexer": "ipython3",
   "version": "3.11.2"
  },
  "orig_nbformat": 4
 },
 "nbformat": 4,
 "nbformat_minor": 2
}
