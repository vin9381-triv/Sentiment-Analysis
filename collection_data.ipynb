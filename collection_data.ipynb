{
 "cells": [
  {
   "cell_type": "markdown",
   "metadata": {},
   "source": [
    "# **Data Collection - Part-1**"
   ]
  },
  {
   "cell_type": "markdown",
   "metadata": {},
   "source": [
    "**Importing Libraries**"
   ]
  },
  {
   "cell_type": "code",
   "execution_count": 2,
   "metadata": {},
   "outputs": [],
   "source": [
    "from pygooglenews import GoogleNews\n",
    "import datetime as dt\n",
    "import time\n",
    "import openpyxl\n",
    "import pandas as pd"
   ]
  },
  {
   "cell_type": "markdown",
   "metadata": {},
   "source": [
    "**Defining Keyword - Socio Economic**"
   ]
  },
  {
   "cell_type": "code",
   "execution_count": 3,
   "metadata": {},
   "outputs": [],
   "source": [
    "socio_economic_keywords = [\n",
    "    \"Poverty\" , \"Wealth Gap\",\"Income inequality\", \"Education access\"\n",
    "]\n"
   ]
  },
  {
   "cell_type": "markdown",
   "metadata": {},
   "source": [
    "**Fetching News using GoogleNews**"
   ]
  },
  {
   "cell_type": "code",
   "execution_count": 4,
   "metadata": {},
   "outputs": [],
   "source": [
    "news = GoogleNews(lang='en', country='IN')\n",
    "sdate = start_date = dt.date(2023, 1, 1)\n",
    "edate = end_date = dt.date(2023, 2, 1)\n",
    "for keyword in socio_economic_keywords:\n",
    "  i = sdate.strftime('%Y-%m-%d')\n",
    "  j = edate.strftime('%Y-%m-%d')\n",
    "\n",
    "  s = news.search(keyword, from_ = i , to_= j)"
   ]
  },
  {
   "cell_type": "markdown",
   "metadata": {},
   "source": [
    "**Creating DataFrame**"
   ]
  },
  {
   "cell_type": "code",
   "execution_count": 6,
   "metadata": {},
   "outputs": [
    {
     "name": "stdout",
     "output_type": "stream",
     "text": [
      "Entries DataFrame:\n",
      "                                                title  \\\n",
      "0   The world is failing 130 million girls denied ...   \n",
      "1   UN chief calls for worldwide commitment to tra...   \n",
      "2   Joint Statement on International Day of Educat...   \n",
      "3   Let girls and women in Afghanistan learn! - UN...   \n",
      "4   11 months of war in Ukraine have disrupted edu...   \n",
      "..                                                ...   \n",
      "95  PATH 4 project roll-out for universal design, ...   \n",
      "96  Penny Jane Burke made UNESCO chair in Equity, ...   \n",
      "97  Menstrual Health Education Standards Draft Pro...   \n",
      "98  ChatGPT In Schools: Here’s Where It’s Banned—A...   \n",
      "99  Turkish Red Crescent Community-Based Migration...   \n",
      "\n",
      "                                         title_detail  \\\n",
      "0   {'type': 'text/plain', 'language': None, 'base...   \n",
      "1   {'type': 'text/plain', 'language': None, 'base...   \n",
      "2   {'type': 'text/plain', 'language': None, 'base...   \n",
      "3   {'type': 'text/plain', 'language': None, 'base...   \n",
      "4   {'type': 'text/plain', 'language': None, 'base...   \n",
      "..                                                ...   \n",
      "95  {'type': 'text/plain', 'language': None, 'base...   \n",
      "96  {'type': 'text/plain', 'language': None, 'base...   \n",
      "97  {'type': 'text/plain', 'language': None, 'base...   \n",
      "98  {'type': 'text/plain', 'language': None, 'base...   \n",
      "99  {'type': 'text/plain', 'language': None, 'base...   \n",
      "\n",
      "                                                links  \\\n",
      "0   [{'rel': 'alternate', 'type': 'text/html', 'hr...   \n",
      "1   [{'rel': 'alternate', 'type': 'text/html', 'hr...   \n",
      "2   [{'rel': 'alternate', 'type': 'text/html', 'hr...   \n",
      "3   [{'rel': 'alternate', 'type': 'text/html', 'hr...   \n",
      "4   [{'rel': 'alternate', 'type': 'text/html', 'hr...   \n",
      "..                                                ...   \n",
      "95  [{'rel': 'alternate', 'type': 'text/html', 'hr...   \n",
      "96  [{'rel': 'alternate', 'type': 'text/html', 'hr...   \n",
      "97  [{'rel': 'alternate', 'type': 'text/html', 'hr...   \n",
      "98  [{'rel': 'alternate', 'type': 'text/html', 'hr...   \n",
      "99  [{'rel': 'alternate', 'type': 'text/html', 'hr...   \n",
      "\n",
      "                                                 link  \\\n",
      "0   https://news.google.com/rss/articles/CBMia2h0d...   \n",
      "1   https://news.google.com/rss/articles/CBMiLGh0d...   \n",
      "2   https://news.google.com/rss/articles/CBMiRmh0d...   \n",
      "3   https://news.google.com/rss/articles/CBMiSGh0d...   \n",
      "4   https://news.google.com/rss/articles/CBMib2h0d...   \n",
      "..                                                ...   \n",
      "95  https://news.google.com/rss/articles/CBMiswFod...   \n",
      "96  https://news.google.com/rss/articles/CBMicGh0d...   \n",
      "97  https://news.google.com/rss/articles/CBMiS2h0d...   \n",
      "98  https://news.google.com/rss/articles/CBMijAFod...   \n",
      "99  https://news.google.com/rss/articles/CBMi4AFod...   \n",
      "\n",
      "                                                   id  guidislink  \\\n",
      "0   CBMia2h0dHBzOi8vd3d3Lm9oY2hyLm9yZy9lbi9wcmVzcy...       False   \n",
      "1   CBMiLGh0dHBzOi8vbmV3cy51bi5vcmcvZW4vc3RvcnkvMj...       False   \n",
      "2   CBMiRmh0dHBzOi8vZWMuZXVyb3BhLmV1L2NvbW1pc3Npb2...       False   \n",
      "3   CBMiSGh0dHBzOi8vd3d3LnVuZXNjby5vcmcvZW4vYXJ0aW...       False   \n",
      "4   CBMib2h0dHBzOi8vd3d3LnVuaWNlZi5vcmcvcHJlc3Mtcm...       False   \n",
      "..                                                ...         ...   \n",
      "95  CBMiswFodHRwczovL3d3dy5nb3YuaWUvZW4vcHJlc3Mtcm...       False   \n",
      "96  CBMicGh0dHBzOi8vd3d3LmFiYy5uZXQuYXUvbmV3cy8yMD...       False   \n",
      "97  CBMiS2h0dHBzOi8vb3NzZS5kYy5nb3YvcGFnZS9tZW5zdH...       False   \n",
      "98  CBMijAFodHRwczovL3d3dy5mb3JiZXMuY29tL3NpdGVzL2...       False   \n",
      "99  CBMi4AFodHRwczovL3JlbGllZndlYi5pbnQvcmVwb3J0L3...       False   \n",
      "\n",
      "                        published                     published_parsed  \\\n",
      "0   Mon, 23 Jan 2023 08:00:00 GMT     (2023, 1, 23, 8, 0, 0, 0, 23, 0)   \n",
      "1   Tue, 24 Jan 2023 08:00:00 GMT     (2023, 1, 24, 8, 0, 0, 1, 24, 0)   \n",
      "2   Mon, 23 Jan 2023 08:00:00 GMT     (2023, 1, 23, 8, 0, 0, 0, 23, 0)   \n",
      "3   Wed, 18 Jan 2023 08:00:00 GMT     (2023, 1, 18, 8, 0, 0, 2, 18, 0)   \n",
      "4   Tue, 24 Jan 2023 08:00:00 GMT     (2023, 1, 24, 8, 0, 0, 1, 24, 0)   \n",
      "..                            ...                                  ...   \n",
      "95  Thu, 05 Jan 2023 08:00:00 GMT       (2023, 1, 5, 8, 0, 0, 3, 5, 0)   \n",
      "96  Mon, 30 Jan 2023 08:00:00 GMT     (2023, 1, 30, 8, 0, 0, 0, 30, 0)   \n",
      "97  Tue, 24 Jan 2023 20:18:37 GMT  (2023, 1, 24, 20, 18, 37, 1, 24, 0)   \n",
      "98  Wed, 18 Jan 2023 08:00:00 GMT     (2023, 1, 18, 8, 0, 0, 2, 18, 0)   \n",
      "99  Thu, 05 Jan 2023 08:00:00 GMT       (2023, 1, 5, 8, 0, 0, 3, 5, 0)   \n",
      "\n",
      "                                              summary  \\\n",
      "0   <a href=\"https://news.google.com/rss/articles/...   \n",
      "1   <a href=\"https://news.google.com/rss/articles/...   \n",
      "2   <a href=\"https://news.google.com/rss/articles/...   \n",
      "3   <a href=\"https://news.google.com/rss/articles/...   \n",
      "4   <a href=\"https://news.google.com/rss/articles/...   \n",
      "..                                                ...   \n",
      "95  <a href=\"https://news.google.com/rss/articles/...   \n",
      "96  <a href=\"https://news.google.com/rss/articles/...   \n",
      "97  <a href=\"https://news.google.com/rss/articles/...   \n",
      "98  <a href=\"https://news.google.com/rss/articles/...   \n",
      "99  <a href=\"https://news.google.com/rss/articles/...   \n",
      "\n",
      "                                       summary_detail  \\\n",
      "0   {'type': 'text/html', 'language': None, 'base'...   \n",
      "1   {'type': 'text/html', 'language': None, 'base'...   \n",
      "2   {'type': 'text/html', 'language': None, 'base'...   \n",
      "3   {'type': 'text/html', 'language': None, 'base'...   \n",
      "4   {'type': 'text/html', 'language': None, 'base'...   \n",
      "..                                                ...   \n",
      "95  {'type': 'text/html', 'language': None, 'base'...   \n",
      "96  {'type': 'text/html', 'language': None, 'base'...   \n",
      "97  {'type': 'text/html', 'language': None, 'base'...   \n",
      "98  {'type': 'text/html', 'language': None, 'base'...   \n",
      "99  {'type': 'text/html', 'language': None, 'base'...   \n",
      "\n",
      "                                               source sub_articles  \n",
      "0   {'href': 'https://www.ohchr.org', 'title': 'OH...           []  \n",
      "1   {'href': 'https://news.un.org', 'title': 'UN N...           []  \n",
      "2   {'href': 'https://ec.europa.eu', 'title': 'Eur...           []  \n",
      "3   {'href': 'https://www.unesco.org', 'title': 'U...           []  \n",
      "4   {'href': 'https://www.unicef.org', 'title': 'U...           []  \n",
      "..                                                ...          ...  \n",
      "95  {'href': 'https://www.gov.ie', 'title': 'Gov.ie'}           []  \n",
      "96  {'href': 'https://www.abc.net.au', 'title': 'A...           []  \n",
      "97  {'href': 'https://osse.dc.gov', 'title': 'Offi...           []  \n",
      "98  {'href': 'https://www.forbes.com', 'title': 'F...           []  \n",
      "99  {'href': 'https://reliefweb.int', 'title': 'Re...           []  \n",
      "\n",
      "[100 rows x 12 columns]\n"
     ]
    }
   ],
   "source": [
    "feed_data = s.get('feed', {})\n",
    "entries_data = s.get('entries', [])\n",
    "df_entries = pd.DataFrame(entries_data)\n",
    "print(\"Entries DataFrame:\")\n",
    "print(df_entries)"
   ]
  },
  {
   "cell_type": "markdown",
   "metadata": {},
   "source": [
    "**Storing in an Excel File**"
   ]
  },
  {
   "cell_type": "code",
   "execution_count": 9,
   "metadata": {},
   "outputs": [],
   "source": [
    "df_entries.to_excel(\"C:\\\\Users\\\\Vineet Trivedi\\\\OneDrive\\\\Desktop\\\\College\\\\Capstone\\\\Code\\\\Data\\\\First_success.xlsx\", index=False)\n"
   ]
  }
 ],
 "metadata": {
  "kernelspec": {
   "display_name": "project",
   "language": "python",
   "name": "python3"
  },
  "language_info": {
   "codemirror_mode": {
    "name": "ipython",
    "version": 3
   },
   "file_extension": ".py",
   "mimetype": "text/x-python",
   "name": "python",
   "nbconvert_exporter": "python",
   "pygments_lexer": "ipython3",
   "version": "3.11.2"
  },
  "orig_nbformat": 4
 },
 "nbformat": 4,
 "nbformat_minor": 2
}
