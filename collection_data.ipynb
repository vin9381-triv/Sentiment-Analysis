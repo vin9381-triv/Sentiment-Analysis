{
 "cells": [
  {
   "cell_type": "markdown",
   "metadata": {},
   "source": [
    "# **Step-1(Testing)**\n",
    "\n",
    "**Data Collection**"
   ]
  },
  {
   "cell_type": "markdown",
   "metadata": {},
   "source": [
    "**Importing Libraries**"
   ]
  },
  {
   "cell_type": "code",
   "execution_count": 1,
   "metadata": {},
   "outputs": [],
   "source": [
    "from pygooglenews import GoogleNews\n",
    "import datetime as dt\n",
    "import time\n",
    "import openpyxl\n",
    "import pandas as pd"
   ]
  },
  {
   "cell_type": "markdown",
   "metadata": {},
   "source": [
    "**Defining Keyword - Socio Economic**"
   ]
  },
  {
   "cell_type": "code",
   "execution_count": 2,
   "metadata": {},
   "outputs": [],
   "source": [
    "socio_economic_keywords = [\n",
    "    \"Poverty\"\n",
    "]\n"
   ]
  },
  {
   "cell_type": "markdown",
   "metadata": {},
   "source": [
    "**Fetching News using GoogleNews**"
   ]
  },
  {
   "cell_type": "code",
   "execution_count": 3,
   "metadata": {},
   "outputs": [],
   "source": [
    "news = GoogleNews(country = 'in')\n",
    "start_date = start_date = dt.date(2021, 1, 1)\n",
    "end_date = end_date = dt.date(2021, 1, 30)\n",
    "\n",
    "all_results = []\n",
    "\n",
    "for keyword in socio_economic_keywords:\n",
    "  sdate = start_date\n",
    "  while sdate<= end_date:\n",
    "    edate = sdate + dt.timedelta(days=30)\n",
    "    i = sdate.strftime('%Y-%m-%d')\n",
    "    j = edate.strftime('%Y-%m-%d')\n",
    "    result = news.search(keyword, from_ = i , to_= j)\n",
    "    time.sleep(5)\n",
    "    sdate = edate + dt.timedelta(days=30)\n",
    "\n",
    "\n",
    "\n",
    "\n",
    "\n"
   ]
  },
  {
   "cell_type": "code",
   "execution_count": 4,
   "metadata": {},
   "outputs": [
    {
     "name": "stdout",
     "output_type": "stream",
     "text": [
      "How China is Fighting Against Extreme Rural Poverty - BORGEN - Borgen Project\n",
      "Budget 2021: Overcome poverty, battle inequality - Hindustan Times\n",
      "The Basic Facts About Children in Poverty - Center For American Progress\n",
      "Five Ideas That Can Change the Conversation about Poverty - WTTW\n",
      "How the Coffee Industry is Addressing Global Poverty - BORGEN - Borgen Project\n",
      "COVID-19 exacerbates women's time poverty - East Asia Forum\n",
      "China sheds light on global poverty eradication - Global Times\n",
      "A Third of U.S. Families Face a Different Kind of Poverty - Duke University\n",
      "3 Organizations Fighting Poverty in Tanzania - BORGEN - Borgen Project\n",
      "Extreme poverty trebled in 2020 - Dhaka Tribune\n",
      "A Show About Poverty Alleviation Is Getting Historically High Reviews - Sixth Tone\n",
      "EU must place social justice 'at its core' to lift people out of poverty - UN News\n",
      "'Digital poverty' could lead to lost generation of university students, vice-chancellors say - The Guardian\n",
      "About two million Israelis live below the poverty line - report - The Jerusalem Post\n",
      "FIRSTHAND Talks | FIRSTHAND: Living in Poverty - WTTW\n",
      "Focus must be on economic growth to curb poverty | Mint - Mint\n",
      "World Bank: 1.5m fell into poverty - Bangkok Post\n",
      "A Bold Proposal to Ease Child Poverty Is the Essence of Bidenomics - The New Yorker\n",
      "For a single parent in poverty, pressures keep piling up - Joseph Rowntree Foundation\n",
      "COVID-19 is hitting poor countries the hardest. Here's how World ... - World Bank\n",
      "US$246 Million to Support Poor and Vulnerable Lebanese ... - World Bank Group\n",
      "COVID-19 pandemic expands poverty in Turkey - Al-Monitor\n",
      "Poverty As A Social Policy Domain: The Intersections Between ... - The Organization for World Peace\n",
      "Jack Monroe on food poverty and fury: 'I just wake up, look at the news, and get angry' - The Guardian\n",
      "We must loosen poverty's grip on Black, Asian and ethnic minority ... - Joseph Rowntree Foundation\n",
      "Spiralling poverty in Iran adds to pressure on regime - Financial Times\n",
      "Period poverty and mental health implications among college-aged ... - BioMed Central\n",
      "Tony Blair backs cross-party calls for new child poverty strategy - The Guardian\n",
      "FIRSTHAND: Living in Poverty – Preview & Discussion - WTTW\n",
      "The Informal Economy and its Relation to Global Poverty - BORGEN - Borgen Project\n",
      "Food | United Nations - United Nations\n",
      "Poverty in Honduras and How to Help - BORGEN - Borgen Project\n",
      "Born to Specially-Abled Farm Labourers, IRS Officer Braved Extreme Poverty to Fulfil His Dream - The Better India\n",
      "Biden claims his $1.9 trillion Covid relief plan will cut child poverty in half — here's how - CNBC\n",
      "U.S. Suffers Sharpest Rise in Poverty Rate in More Than 50 Years - Bloomberg\n",
      "Mega-rich recoup COVID-losses in record-time yet billions will live in ... - Oxfam International\n",
      "Raw Data: Poverty in the US – Mother Jones - Mother Jones\n",
      "Boris Johnson says girls' education key to ending poverty - BBC\n",
      "With Extreme Poverty Rising Amid Covid-19 Pandemic, More Action ... - ReliefWeb\n",
      "Childhood poverty is three times more common than we thought - MarketWatch\n",
      "The path to poverty in Thailand - Bangkok Post\n",
      "The problem is poverty, however we label it - The Guardian\n",
      "Pandemic reveals hidden poverty in wealthy Japan - The Jakarta Post - The Jakarta Post\n",
      "Children | United Nations - United Nations\n",
      "Melissa Fonseca | Stories | FIRSTHAND: Living in Poverty - WTTW\n",
      "Trapped in poverty by a mean Tory mindset - The Guardian\n",
      "Setting goals is first step in reducing poverty in Leon County | Bart ... - Tallahassee Democrat\n",
      "IMF: 90m people to enter extreme poverty in 2021 - TheCable\n",
      "The BINP: Fighting Poverty in Uganda by Saving Gorillas - BORGEN - Borgen Project\n",
      "Report: South Carolina poverty rate ranks among highest in nation - ABC NEWS 4\n",
      "COVID has worsened inequality even as the rich thrive: Oxfam - Al Jazeera English\n",
      "Biden’s plan to cut child poverty could also boost schools - Chalkbeat\n",
      "Jobs, houses and cows: China's costly drive to erase extreme poverty - Moneycontrol\n",
      "Jane Goodall: To fix the environment, fix poverty - Al Jazeera English\n",
      "Free market capitalism can allow for the end of poverty - The Banker\n",
      "5 South African Celebrities Tackling Period Poverty - Global Citizen\n",
      "Economists Explore the Relationships Between Poverty and Mental ... - Mad in America\n",
      "'Bed poverty' charity has surge of requests for help - BBC\n",
      "‘Stop Glorifying Poverty’ People React To Video Of Poor Man Carrying Bike On His Head - Storypick\n",
      "Tigers stalk as storms, poverty force Indians deep into mangrove forests - The Indian Express\n",
      "The new COVID-19 poor and the neglected tropical diseases ... - Infectious Diseases of Poverty - BioMed Central\n",
      "“We Should Recognise One Another As Human Beings”: Anti ... - British Vogue\n",
      "Let’s adopt Chinese model to tackle poverty— Sagagi, expert in global economics - Vanguard\n",
      "Japan's middle class slowly sinking into poverty - Japan Today\n",
      "Millions of families have no financial cushion to last three months - MarketWatch\n",
      "Buffalo-Niagara Falls’ concentrated poverty rate is the highest in all of New York - The Center Square\n",
      "Amid surging worldwide poverty, planet's 500 wealthiest got $1.8 ... - Salon\n",
      "Column: Poverty amid COVID fuels students' desire to help - The Columbus Dispatch\n",
      "COVID-19 expected to leave 150 million more people in extreme poverty worldwide - Yahoo Sports\n",
      "I went below poverty line in 2020 - Vanguard\n",
      "Prison of Poverty: Agri Workers’ Wages Have Barely Increased in Modi Years - NewsClick\n",
      "We need a cross-party poverty strategy that addresses the needs of ... - PoliticsHome\n",
      "Trenton’s concentrated poverty rate highest in New Jersey - The Center Square\n",
      "Jeremiah Program aims to break the cycle of poverty for families - MSR News Online\n",
      "Urgent, Effective Action Required to Quell the Impact of COVID-19 ... - World Bank Group\n",
      "Beirut blast six months on: Thousands still homeless with poverty on ... - ReliefWeb\n",
      "Efforts to mitigate the economic impact of the COVID-19 pandemic ... - Infectious Diseases of Poverty - BioMed Central\n",
      "The poverty alleviation App - Pakistan Today\n",
      "Flint's concentrated poverty rate is the highest in all of Michigan - The Center Square\n",
      "Children’s education: Poverty determines the outcome - The Himalayan Times\n",
      "Andino Medina | Stories | FIRSTHAND: Living in Poverty - WTTW\n",
      "A Complex Systems Theorist Explains Why the Poor Aren't to Blame ... - VICE\n",
      "Billionaires' Wealth Skyrockets While Millions Of Americans ... - The Organization for World Peace\n",
      "Revolving funds under Poverty Alleviation Fund to be transformed ... - The Kathmandu Post\n",
      "Forty per cent of Kenyans live in extreme poverty - World Bank - The Star Kenya\n",
      "Pandemic tips more into extreme poverty in Nigeria's Lagos - FRANCE 24 English\n",
      "Almost quarter of Yorkshire residents are living in poverty, charity ... - The Yorkshire Post\n",
      "World Bank predicts extreme poverty and depressed economies in Africa - Africanews English\n",
      "'The budget fell short of the action we need to tackle poverty' - Neil ... - The Scotsman\n",
      "Study of SC poverty rates show high evictions, food insecurity and childhood poverty - Live 5 News WCSC\n",
      "Health is about more than just health care - MSR News Online\n",
      "Special Olympic gold medallist dies in poverty - Victim of government apathy - The Bridge\n",
      "COVID-19 Pushes 1.2 Million People into Poverty in Nepal - Nepali Sansar\n",
      "Non-regular worker's sudden plunge into poverty exposes Japan's ... - The Mainichi\n",
      "State lawmakers looking to repeal CT’s ‘poverty tax’, calling it a ‘dream crusher’ - WTNH.com\n",
      "Mustafa Kamal terms SANEM findings on poverty impractical - newagebd.net\n",
      "America's billionaires have grown $1.1 trillion richer during the ... - CNN\n"
     ]
    }
   ],
   "source": [
    "newsitem = result['entries']\n",
    "for item in newsitem:\n",
    "    print(item.title)"
   ]
  },
  {
   "cell_type": "code",
   "execution_count": 5,
   "metadata": {},
   "outputs": [
    {
     "name": "stdout",
     "output_type": "stream",
     "text": [
      "Data has been saved to C:\\Users\\Vineet Trivedi\\OneDrive\\Desktop\\College\\Capstone\\Code\\Data\\articles_india.csv\n"
     ]
    }
   ],
   "source": [
    "import csv\n",
    "\n",
    "\n",
    "newsitem = result['entries']\n",
    "titles = []\n",
    "links = []\n",
    "dates = []\n",
    "\n",
    "for item in newsitem:\n",
    "    title = item.get('title', '')\n",
    "    link = item.get('link', '')\n",
    "    date = item.get('published', '')\n",
    "    \n",
    "    titles.append(title)\n",
    "    links.append(link)\n",
    "    dates.append(date)\n",
    "\n",
    "\n",
    "csv_file_path = 'C:\\\\Users\\\\Vineet Trivedi\\\\OneDrive\\\\Desktop\\\\College\\\\Capstone\\\\Code\\\\Data\\\\articles_india.csv'\n",
    "\n",
    "rows = zip(titles, links, dates)\n",
    "with open(csv_file_path, mode='w', newline='', encoding='utf-8') as file:\n",
    "    writer = csv.writer(file)  \n",
    "    writer.writerow(['Title', 'Link', 'Date'])\n",
    "    writer.writerows(rows)\n",
    "\n",
    "print(\"Data has been saved to\", csv_file_path)"
   ]
  },
  {
   "cell_type": "markdown",
   "metadata": {},
   "source": [
    "# **Step-2 (Testing)**\n",
    "\n",
    "**Article Summarizing and Keyword Extraction**"
   ]
  },
  {
   "cell_type": "markdown",
   "metadata": {},
   "source": [
    "**Importing Libraries**"
   ]
  },
  {
   "cell_type": "code",
   "execution_count": 6,
   "metadata": {},
   "outputs": [],
   "source": [
    "from newspaper import Article\n",
    "from rake_nltk import Rake\n",
    "import nltk\n"
   ]
  },
  {
   "cell_type": "code",
   "execution_count": 7,
   "metadata": {},
   "outputs": [
    {
     "name": "stderr",
     "output_type": "stream",
     "text": [
      "[nltk_data] Downloading package stopwords to C:\\Users\\Vineet\n",
      "[nltk_data]     Trivedi\\AppData\\Roaming\\nltk_data...\n",
      "[nltk_data]   Package stopwords is already up-to-date!\n",
      "[nltk_data] Downloading package punkt to C:\\Users\\Vineet\n",
      "[nltk_data]     Trivedi\\AppData\\Roaming\\nltk_data...\n",
      "[nltk_data]   Package punkt is already up-to-date!\n"
     ]
    },
    {
     "data": {
      "text/plain": [
       "True"
      ]
     },
     "execution_count": 7,
     "metadata": {},
     "output_type": "execute_result"
    }
   ],
   "source": [
    "nltk.download('stopwords')\n",
    "nltk.download('punkt')"
   ]
  },
  {
   "cell_type": "markdown",
   "metadata": {},
   "source": [
    "**Testing Library functions**"
   ]
  },
  {
   "cell_type": "code",
   "execution_count": 8,
   "metadata": {},
   "outputs": [
    {
     "name": "stdout",
     "output_type": "stream",
     "text": [
      "Title: 13-year-old girl abducted, raped by 9 men in MP; 7 arrested\n",
      "Authors ['Var Template_Content', 'Sso_Login_Box', 'Xwelcome Backorenter The Email Address Or Mobile Number Associated With Your Account To Sign In. Show Passwordsign Innew To The Indian Express Signupxcreate Your Account It Is Quick', 'Easy.Or Show Passwordnextvalidate Otpregisteralready Have An Account', 'Signin', 'Sso_Social_Box', 'Sign In Withgmailfacebookapple', 'Var Follow_Widget_Data', 'Af_Article_Count', 'Ie_Mobile_Check']\n"
     ]
    }
   ],
   "source": [
    "url = 'https://news.google.com/rss/articles/CBMiamh0dHBzOi8vaW5kaWFuZXhwcmVzcy5jb20vYXJ0aWNsZS9pbmRpYS8xMy15ZWFyLW9sZC1naXJsLWFiZHVjdGVkLXJhcGVkLWJ5LTktbWVuLWluLW1wLTctYXJyZXN0ZWQtNzE1MDE4My_SAW9odHRwczovL2luZGlhbmV4cHJlc3MuY29tL2FydGljbGUvaW5kaWEvMTMteWVhci1vbGQtZ2lybC1hYmR1Y3RlZC1yYXBlZC1ieS05LW1lbi1pbi1tcC03LWFycmVzdGVkLTcxNTAxODMvbGl0ZS8?oc=5'\n",
    "my_article = Article(url, language = 'en')\n",
    "my_article.download()\n",
    "my_article.parse()\n",
    "print('Title:',my_article.title)\n",
    "print('Authors',my_article.authors)"
   ]
  },
  {
   "cell_type": "code",
   "execution_count": 9,
   "metadata": {},
   "outputs": [
    {
     "name": "stdout",
     "output_type": "stream",
     "text": [
      "Summary: The girl was lured and abducted from a market place by a person known to her on January 4.\n",
      "(Representational)A 13-year-old girl has been allegedly raped by nine men on separate occasions after being abducted twice in Madhya Pradesh’s Umaria city earlier this month, a police official said on Sunday.\n",
      "The girl’s mother lodged a police complaint on January 14 following which seven of the accused were arrested on Friday.\n",
      "The girl was lured and abducted from a market place by a person known to her on January 4.\n",
      "She was taken to a secluded spot where the person and six others allegedly raped her and later released on January 5, the police official said.\n"
     ]
    },
    {
     "data": {
      "text/plain": [
       "str"
      ]
     },
     "execution_count": 9,
     "metadata": {},
     "output_type": "execute_result"
    }
   ],
   "source": [
    "my_article.nlp()\n",
    "summ = my_article.summary\n",
    "print('Summary:', summ)\n",
    "type(my_article.summary)"
   ]
  },
  {
   "cell_type": "markdown",
   "metadata": {},
   "source": [
    "**Keyword Extraction**"
   ]
  },
  {
   "cell_type": "code",
   "execution_count": 10,
   "metadata": {},
   "outputs": [
    {
     "name": "stdout",
     "output_type": "stream",
     "text": [
      "Keyword: six others allegedly raped, Score: 14.0\n",
      "Keyword: umaria city earlier, Score: 9.0\n",
      "Keyword: police official said, Score: 8.666666666666666\n",
      "Keyword: police official said, Score: 8.666666666666666\n",
      "Keyword: madhya pradesh ’, Score: 8.5\n",
      "Keyword: january 14 following, Score: 8.25\n",
      "Keyword: allegedly raped, Score: 6.0\n",
      "Keyword: police complaint, Score: 4.666666666666666\n",
      "Keyword: january 5, Score: 4.25\n",
      "Keyword: january 4, Score: 4.25\n",
      "Keyword: january 4, Score: 4.25\n",
      "Keyword: separate occasions, Score: 4.0\n",
      "Keyword: secluded spot, Score: 4.0\n",
      "Keyword: nine men, Score: 4.0\n",
      "Keyword: mother lodged, Score: 4.0\n",
      "Keyword: market place, Score: 4.0\n",
      "Keyword: market place, Score: 4.0\n",
      "Keyword: later released, Score: 4.0\n",
      "Keyword: girl ’, Score: 4.0\n",
      "Keyword: person known, Score: 3.666666666666667\n",
      "Keyword: person known, Score: 3.666666666666667\n",
      "Keyword: old girl, Score: 3.5\n",
      "Keyword: abducted twice, Score: 3.333333333333333\n",
      "Keyword: person, Score: 1.6666666666666667\n",
      "Keyword: girl, Score: 1.5\n",
      "Keyword: girl, Score: 1.5\n",
      "Keyword: abducted, Score: 1.3333333333333333\n",
      "Keyword: abducted, Score: 1.3333333333333333\n",
      "Keyword: year, Score: 1.0\n",
      "Keyword: taken, Score: 1.0\n",
      "Keyword: sunday, Score: 1.0\n",
      "Keyword: seven, Score: 1.0\n",
      "Keyword: representational, Score: 1.0\n",
      "Keyword: month, Score: 1.0\n",
      "Keyword: lured, Score: 1.0\n",
      "Keyword: lured, Score: 1.0\n",
      "Keyword: friday, Score: 1.0\n",
      "Keyword: arrested, Score: 1.0\n",
      "Keyword: accused, Score: 1.0\n",
      "Keyword: 13, Score: 1.0\n"
     ]
    }
   ],
   "source": [
    "r = Rake()\n",
    "r.extract_keywords_from_text(summ)\n",
    "keywords_with_scores = r.get_ranked_phrases_with_scores()\n",
    "\n",
    "# Print the keywords and scores\n",
    "for score, keyword in keywords_with_scores:\n",
    "    print(f\"Keyword: {keyword}, Score: {score}\")\n",
    "\n"
   ]
  },
  {
   "cell_type": "markdown",
   "metadata": {},
   "source": [
    "# **Step-3(Testing)**\n",
    "\n",
    "**Fetching News based on extracted keywords** "
   ]
  },
  {
   "cell_type": "code",
   "execution_count": 30,
   "metadata": {},
   "outputs": [],
   "source": [
    "gn = GoogleNews(country = 'in')\n",
    "q = 'six others allegedly raped , abducted twice'\n",
    "s = gn.search(q )"
   ]
  },
  {
   "cell_type": "code",
   "execution_count": 31,
   "metadata": {},
   "outputs": [
    {
     "name": "stdout",
     "output_type": "stream",
     "text": [
      "Scores of women and girls were sexually assaulted after peace deal in Ethiopia's Tigray, study shows - ABC News\n",
      "Rajasthan rape horrors continue; Bhilwara minor girl gang-raped, killed; her body burnt in furnace - Recipes\n",
      "Married woman allegedly gang-raped by six men in Rajasthan's Bharatpur for two months; case registered - ETV Bharat\n",
      "'We are citizens of Myanmar; they must accept it' - The Daily Star\n",
      "New details emerge in mass shooting at popular Southern California bar that left 3 dead, 6 injured - Yahoo Canada Sports\n",
      "3 Int’l Groups: ‘Rights abuses’ figure high in reports to UN - The Daily Star\n",
      "Manipur’s silent suffering and the broken promises of ‘peace’ - Frontline\n",
      "The Most Notorious Criminals in Each State’s History - 24/7 Wall St.\n",
      "The whole-life prisoners currently behind bars serving the same sentence as Lucy Letby - Sky News\n",
      "Iran Will Keep Taking Hostages If the Money Keeps Flowing - The Atlantic\n",
      "Refugee Camps: Killings, narco crimes on rise - The Daily Star\n",
      "Man accused of holding woman in cinder block ‘dungeon’ in Oregon tries to escape from jail - Fox 12 Oregon\n",
      "Verdict in case against Odhikar officials Sept 7 - The Daily Star\n",
      "Six Arrested For Raping Two Minor Cousins In UP's Fatehpur - Outlook India\n",
      "6 American mayors who were convicted of crimes - WJHL-TV News Channel 11\n",
      "Two Met officers arrested after woman allegedly kidnapped and raped - BBC\n",
      "Weekend court roll – toilet sex attackers and a 'dirty beast' caged - The Press & Journal\n",
      "In Manipur Horror, 2 Women Paraded Naked On Camera, Allegedly Gang-Raped - NDTV\n",
      "Six persons arrested for rape and murder of two girls in Lakhimpur Kheri - The Hindu\n",
      "13-year-old girl allegedly abducted twice, raped by 9 men multiple times, says MP Police - ThePrint\n",
      "Jan Broberg Wasn't the First Girl that Robert 'B' Berchtold Targeted ... - Showbiz Cheat Sheet\n",
      "Child Abuse (non-sexual) - The Crown Prosecution Service\n",
      "Abducted in Plain Sight: Terrifying Tale of Child Rape, Abduction - PEOPLE\n",
      "Ekiti: Police parade suspected killer of FUOYE student, six other alleged criminals - Daily Post Nigeria\n",
      "Jaycee Dugard Found After 18 Years, Kidnap Suspect Allegedly Fathered Her Kids - ABC News\n",
      "Six months after girls abducted, Nigerians protest near president's ... - Reuters\n",
      "25 horror movies that were based on true stories - Yardbarker\n",
      "Abu Sayyaf militants behead kidnapped Philippine soldier: army - Reuters\n",
      "Bottle-Feeding Past Age 1 Leads to Childhood Obesity, Study Says - Fox News\n"
     ]
    }
   ],
   "source": [
    "newsitem2 = s['entries']\n",
    "for item in newsitem2:\n",
    "  print(item.title)"
   ]
  },
  {
   "cell_type": "code",
   "execution_count": null,
   "metadata": {},
   "outputs": [],
   "source": []
  }
 ],
 "metadata": {
  "kernelspec": {
   "display_name": "project",
   "language": "python",
   "name": "python3"
  },
  "language_info": {
   "codemirror_mode": {
    "name": "ipython",
    "version": 3
   },
   "file_extension": ".py",
   "mimetype": "text/x-python",
   "name": "python",
   "nbconvert_exporter": "python",
   "pygments_lexer": "ipython3",
   "version": "3.11.2"
  },
  "orig_nbformat": 4
 },
 "nbformat": 4,
 "nbformat_minor": 2
}
