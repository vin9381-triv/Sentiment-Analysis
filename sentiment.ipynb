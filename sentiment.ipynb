{
 "cells": [
  {
   "cell_type": "markdown",
   "metadata": {},
   "source": [
    "**Importing Modules**"
   ]
  },
  {
   "cell_type": "code",
   "execution_count": 13,
   "metadata": {},
   "outputs": [],
   "source": [
    "from GoogleNews import GoogleNews\n",
    "import re\n",
    "import nltk\n",
    "from string import punctuation\n",
    "from nltk.tokenize import word_tokenize\n",
    "from nltk.corpus import stopwords\n",
    "from nltk.corpus import wordnet as wn\n",
    "from nltk.corpus import sentiwordnet as swn\n",
    "from vaderSentiment.vaderSentiment import SentimentIntensityAnalyzer\n",
    "from textblob import TextBlob\n",
    "import datetime as dt\n",
    "import openpyxl\n",
    "import pandas as pd"
   ]
  },
  {
   "cell_type": "markdown",
   "metadata": {},
   "source": [
    "**Importing NLTK feature**"
   ]
  },
  {
   "cell_type": "code",
   "execution_count": 14,
   "metadata": {},
   "outputs": [
    {
     "data": {
      "text/plain": [
       "\"\\nnltk.download('stopwords')\\nnltk.download('punkt')\\nnltk.download('sentiwordnet')\\nnltk.download('wordnet')\\nnltk.download('omw-1.4')\\nnltk.download('averaged_perceptron_tagger')\\n\""
      ]
     },
     "execution_count": 14,
     "metadata": {},
     "output_type": "execute_result"
    }
   ],
   "source": [
    "'''\n",
    "nltk.download('stopwords')\n",
    "nltk.download('punkt')\n",
    "nltk.download('sentiwordnet')\n",
    "nltk.download('wordnet')\n",
    "nltk.download('omw-1.4')\n",
    "nltk.download('averaged_perceptron_tagger')\n",
    "'''"
   ]
  },
  {
   "cell_type": "markdown",
   "metadata": {},
   "source": [
    "Defining Keywords for Socio Economic Causes"
   ]
  },
  {
   "cell_type": "code",
   "execution_count": 15,
   "metadata": {},
   "outputs": [],
   "source": [
    "socio_economic_keywords = [\n",
    "    \"Poverty\",\n",
    "    \"Inequality\",\n",
    "    \"Unemployment\",\n",
    "    \"Economic disparity\",\n",
    "    \"Social justice\",\n",
    "    \"Wealth gap\",\n",
    "    \"Income inequality\",\n",
    "    \"Education access\",\n",
    "    \"Healthcare access\",\n",
    "    \"Housing crisis\",\n",
    "    \"Labor rights\",\n",
    "    \"Minimum wage\",\n",
    "    \"Economic empowerment\",\n",
    "    \"Gender pay gap\",\n",
    "    \"Racial discrimination\",\n",
    "    \"Access to resources\",\n",
    "    \"Food security\",\n",
    "    \"Social mobility\",\n",
    "    \"Economic development\",\n",
    "    \"Wealth distribution\"\n",
    "]\n"
   ]
  },
  {
   "cell_type": "markdown",
   "metadata": {},
   "source": [
    "Fetching News "
   ]
  },
  {
   "cell_type": "code",
   "execution_count": 16,
   "metadata": {},
   "outputs": [
    {
     "name": "stdout",
     "output_type": "stream",
     "text": [
      "01/01/2016 08/08/2023\n",
      "Poverty \"Inequality \"Unemployment \"Economic disparity \"Social justice \"Wealth gap \"Income inequality \"Education access \"Healthcare access \"Housing crisis \"Labor rights \"Minimum wage \"Economic empowerment \"Gender pay gap \"Racial discrimination \"Access to resources \"Food security \"Social mobility \"Economic development \"Wealth distribution \n",
      "                                                  title  \\\n",
      "0     Cleanology launches latest fundraiser to fight...   \n",
      "1     Top 10 poorest countries in the world by GDP p...   \n",
      "2     President Tinubu Establishes Ministries of Pov...   \n",
      "3     Congress removed poor instead of poverty, says...   \n",
      "4     How the richest country in the world has allow...   \n",
      "...                                                 ...   \n",
      "1255  Income Inequality, Social Mobility, and the De...   \n",
      "1256           Thailand's inequality remains entrenched   \n",
      "1257  Mendelian randomization evidence for the causa...   \n",
      "1258     Address Economic Inequality – Kashmir Observer   \n",
      "1259  Opinion: The root cause of homelessness is eco...   \n",
      "\n",
      "                        media         date                   datetime desc  \\\n",
      "0      Cleaning & Maintenance   1 hour ago 2023-08-17 13:50:45.873059        \n",
      "1                Forbes India  2 hours ago 2023-08-17 12:50:45.881057        \n",
      "2          The Nigerian Voice  3 hours ago 2023-08-17 11:50:45.889057        \n",
      "3              The Hans India  5 hours ago 2023-08-17 09:50:45.896057        \n",
      "4                   The Hindu  6 hours ago 2023-08-17 08:50:45.903566        \n",
      "...                       ...          ...                        ...  ...   \n",
      "1255    Brookings Institution  1 month ago 2023-07-17 14:50:49.632111        \n",
      "1256             Bangkok Post  1 month ago 2023-07-17 14:50:49.623518        \n",
      "1257                   Nature  1 month ago 2023-07-17 14:50:49.615962        \n",
      "1258         Kashmir Observer  1 month ago 2023-07-17 14:50:49.608039        \n",
      "1259  San Diego Union-Tribune  1 month ago 2023-07-17 14:50:49.599101        \n",
      "\n",
      "                                                   link  \\\n",
      "0     /url?esrc=s&q=&rct=j&sa=U&url=https://cleaning...   \n",
      "1     /url?esrc=s&q=&rct=j&sa=U&url=https://www.forb...   \n",
      "2     /url?esrc=s&q=&rct=j&sa=U&url=https://www.then...   \n",
      "3     /url?esrc=s&q=&rct=j&sa=U&url=https://www.theh...   \n",
      "4     /url?esrc=s&q=&rct=j&sa=U&url=https://www.theh...   \n",
      "...                                                 ...   \n",
      "1255  /url?esrc=s&q=&rct=j&sa=U&url=https://www.broo...   \n",
      "1256  /url?esrc=s&q=&rct=j&sa=U&url=https://www.bang...   \n",
      "1257  /url?esrc=s&q=&rct=j&sa=U&url=https://www.natu...   \n",
      "1258  /url?esrc=s&q=&rct=j&sa=U&url=https://kashmiro...   \n",
      "1259  /url?esrc=s&q=&rct=j&sa=U&url=https://www.sand...   \n",
      "\n",
      "                                                    img  \n",
      "0     data:image/gif;base64,R0lGODlhAQABAIAAAP//////...  \n",
      "1     data:image/gif;base64,R0lGODlhAQABAIAAAP//////...  \n",
      "2     data:image/gif;base64,R0lGODlhAQABAIAAAP//////...  \n",
      "3     data:image/gif;base64,R0lGODlhAQABAIAAAP//////...  \n",
      "4     data:image/gif;base64,R0lGODlhAQABAIAAAP//////...  \n",
      "...                                                 ...  \n",
      "1255  data:image/gif;base64,R0lGODlhAQABAIAAAP//////...  \n",
      "1256  data:image/gif;base64,R0lGODlhAQABAIAAAP//////...  \n",
      "1257  data:image/gif;base64,R0lGODlhAQABAIAAAP//////...  \n",
      "1258  data:image/gif;base64,R0lGODlhAQABAIAAAP//////...  \n",
      "1259  data:image/gif;base64,R0lGODlhAQABAIAAAP//////...  \n",
      "\n",
      "[1260 rows x 7 columns]\n"
     ]
    }
   ],
   "source": [
    "news = GoogleNews(lang='en', region='IN')\n",
    "news.set_lang('en')\n",
    "news.set_encode('utf-8')\n",
    "\n",
    "start_date = dt.date(2023, 1, 1)\n",
    "end_date = dt.date(2023, 5, 1)\n",
    "current_date = start_date\n",
    "search_query = '\"' + '\" \"'.join(socio_economic_keywords) + '\"'\n",
    "\n",
    "while current_date <= end_date:\n",
    "    period_end_date = current_date + dt.timedelta(days=30)\n",
    "    if period_end_date > end_date:\n",
    "        period_end_date = end_date\n",
    "    \n",
    "    while current_date <= period_end_date:\n",
    "        sdate = current_date.strftime('%Y-%m-%d')\n",
    "        edate = (current_date + dt.timedelta(days=30)).strftime('%Y-%m-%d')\n",
    "        \n",
    "        all_results = [] \n",
    "        \n",
    "        for keyword in search_query:\n",
    "            time.sleep(10)\n",
    "            news.search(keyword)\n",
    "            results = news.results(sort=True)\n",
    "            all_results.extend(results)\n",
    "\n",
    "        if all_results:\n",
    "            time.sleep(11)\n",
    "            df = pd.DataFrame(all_results)\n",
    "            \n",
    "        current_date += dt.timedelta(days=30)\n",
    "     \n",
    "    if current_date <= end_date:\n",
    "        time.sleep(10) "
   ]
  },
  {
   "cell_type": "code",
   "execution_count": null,
   "metadata": {},
   "outputs": [],
   "source": []
  }
 ],
 "metadata": {
  "kernelspec": {
   "display_name": "project",
   "language": "python",
   "name": "python3"
  },
  "language_info": {
   "codemirror_mode": {
    "name": "ipython",
    "version": 3
   },
   "file_extension": ".py",
   "mimetype": "text/x-python",
   "name": "python",
   "nbconvert_exporter": "python",
   "pygments_lexer": "ipython3",
   "version": "3.11.2"
  },
  "orig_nbformat": 4
 },
 "nbformat": 4,
 "nbformat_minor": 2
}
