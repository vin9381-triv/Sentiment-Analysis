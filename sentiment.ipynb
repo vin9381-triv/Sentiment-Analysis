{
 "cells": [
  {
   "cell_type": "markdown",
   "metadata": {},
   "source": [
    "**Importing Modules**"
   ]
  },
  {
   "cell_type": "code",
   "execution_count": 4,
   "metadata": {},
   "outputs": [],
   "source": [
    "from GoogleNews import GoogleNews\n",
    "import re\n",
    "import nltk\n",
    "from string import punctuation\n",
    "from nltk.tokenize import word_tokenize\n",
    "from nltk.corpus import stopwords\n",
    "from nltk.corpus import wordnet as wn\n",
    "from nltk.corpus import sentiwordnet as swn\n",
    "from vaderSentiment.vaderSentiment import SentimentIntensityAnalyzer\n",
    "from textblob import TextBlob\n",
    "import datetime as dt\n",
    "import openpyxl\n",
    "import pandas as pd"
   ]
  },
  {
   "cell_type": "markdown",
   "metadata": {},
   "source": [
    "**Importing NLTK feature**"
   ]
  },
  {
   "cell_type": "code",
   "execution_count": 5,
   "metadata": {},
   "outputs": [
    {
     "data": {
      "text/plain": [
       "\"\\nnltk.download('stopwords')\\nnltk.download('punkt')\\nnltk.download('sentiwordnet')\\nnltk.download('wordnet')\\nnltk.download('omw-1.4')\\nnltk.download('averaged_perceptron_tagger')\\n\""
      ]
     },
     "execution_count": 5,
     "metadata": {},
     "output_type": "execute_result"
    }
   ],
   "source": [
    "'''\n",
    "nltk.download('stopwords')\n",
    "nltk.download('punkt')\n",
    "nltk.download('sentiwordnet')\n",
    "nltk.download('wordnet')\n",
    "nltk.download('omw-1.4')\n",
    "nltk.download('averaged_perceptron_tagger')\n",
    "'''"
   ]
  },
  {
   "cell_type": "markdown",
   "metadata": {},
   "source": [
    "Defining Keywords for Socio Economic Causes"
   ]
  },
  {
   "cell_type": "code",
   "execution_count": 6,
   "metadata": {},
   "outputs": [],
   "source": [
    "socio_economic_keywords = [\n",
    "    \"Poverty\",\n",
    "    \"Inequality\",\n",
    "    \"Unemployment\",\n",
    "    \"Economic disparity\",\n",
    "    \"Social justice\",\n",
    "    \"Wealth gap\",\n",
    "    \"Income inequality\",\n",
    "    \"Education access\",\n",
    "    \"Healthcare access\",\n",
    "    \"Housing crisis\",\n",
    "    \"Labor rights\",\n",
    "    \"Minimum wage\",\n",
    "    \"Economic empowerment\",\n",
    "    \"Gender pay gap\",\n",
    "    \"Racial discrimination\",\n",
    "    \"Access to resources\",\n",
    "    \"Food security\",\n",
    "    \"Social mobility\",\n",
    "    \"Economic development\",\n",
    "    \"Wealth distribution\"\n",
    "]\n"
   ]
  },
  {
   "cell_type": "markdown",
   "metadata": {},
   "source": [
    "Fetching News "
   ]
  },
  {
   "cell_type": "code",
   "execution_count": 10,
   "metadata": {},
   "outputs": [
    {
     "name": "stdout",
     "output_type": "stream",
     "text": [
      "01/01/2016 08/08/2023\n",
      "Poverty \"Inequality \"Unemployment \"Economic disparity \"Social justice \"Wealth gap \"Income inequality \"Education access \"Healthcare access \"Housing crisis \"Labor rights \"Minimum wage \"Economic empowerment \"Gender pay gap \"Racial discrimination \"Access to resources \"Food security \"Social mobility \"Economic development \"Wealth distribution \n",
      "                                                  title  \\\n",
      "0     Cleanology launches latest fundraiser to fight...   \n",
      "1     Top 10 poorest countries in the world by GDP p...   \n",
      "2     President Tinubu Establishes Ministries of Pov...   \n",
      "3     Congress removed poor instead of poverty, says...   \n",
      "4     How the richest country in the world has allow...   \n",
      "...                                                 ...   \n",
      "1255  Income Inequality, Social Mobility, and the De...   \n",
      "1256           Thailand's inequality remains entrenched   \n",
      "1257  Mendelian randomization evidence for the causa...   \n",
      "1258     Address Economic Inequality – Kashmir Observer   \n",
      "1259  Opinion: The root cause of homelessness is eco...   \n",
      "\n",
      "                        media         date                   datetime desc  \\\n",
      "0      Cleaning & Maintenance   1 hour ago 2023-08-17 13:45:45.154538        \n",
      "1                Forbes India  2 hours ago 2023-08-17 12:45:45.163538        \n",
      "2          The Nigerian Voice  3 hours ago 2023-08-17 11:45:45.171538        \n",
      "3              The Hans India  5 hours ago 2023-08-17 09:45:45.179538        \n",
      "4                   The Hindu  6 hours ago 2023-08-17 08:45:45.188538        \n",
      "...                       ...          ...                        ...  ...   \n",
      "1255    Brookings Institution  1 month ago 2023-07-17 14:45:49.191069        \n",
      "1256             Bangkok Post  1 month ago 2023-07-17 14:45:49.182072        \n",
      "1257                   Nature  1 month ago 2023-07-17 14:45:49.173069        \n",
      "1258         Kashmir Observer  1 month ago 2023-07-17 14:45:49.165069        \n",
      "1259  San Diego Union-Tribune  1 month ago 2023-07-17 14:45:49.156068        \n",
      "\n",
      "                                                   link  \\\n",
      "0     /url?esrc=s&q=&rct=j&sa=U&url=https://cleaning...   \n",
      "1     /url?esrc=s&q=&rct=j&sa=U&url=https://www.forb...   \n",
      "2     /url?esrc=s&q=&rct=j&sa=U&url=https://www.then...   \n",
      "3     /url?esrc=s&q=&rct=j&sa=U&url=https://www.theh...   \n",
      "4     /url?esrc=s&q=&rct=j&sa=U&url=https://www.theh...   \n",
      "...                                                 ...   \n",
      "1255  /url?esrc=s&q=&rct=j&sa=U&url=https://www.broo...   \n",
      "1256  /url?esrc=s&q=&rct=j&sa=U&url=https://www.bang...   \n",
      "1257  /url?esrc=s&q=&rct=j&sa=U&url=https://www.natu...   \n",
      "1258  /url?esrc=s&q=&rct=j&sa=U&url=https://kashmiro...   \n",
      "1259  /url?esrc=s&q=&rct=j&sa=U&url=https://www.sand...   \n",
      "\n",
      "                                                    img  \n",
      "0     data:image/gif;base64,R0lGODlhAQABAIAAAP//////...  \n",
      "1     data:image/gif;base64,R0lGODlhAQABAIAAAP//////...  \n",
      "2     data:image/gif;base64,R0lGODlhAQABAIAAAP//////...  \n",
      "3     data:image/gif;base64,R0lGODlhAQABAIAAAP//////...  \n",
      "4     data:image/gif;base64,R0lGODlhAQABAIAAAP//////...  \n",
      "...                                                 ...  \n",
      "1255  data:image/gif;base64,R0lGODlhAQABAIAAAP//////...  \n",
      "1256  data:image/gif;base64,R0lGODlhAQABAIAAAP//////...  \n",
      "1257  data:image/gif;base64,R0lGODlhAQABAIAAAP//////...  \n",
      "1258  data:image/gif;base64,R0lGODlhAQABAIAAAP//////...  \n",
      "1259  data:image/gif;base64,R0lGODlhAQABAIAAAP//////...  \n",
      "\n",
      "[1260 rows x 7 columns]\n"
     ]
    }
   ],
   "source": [
    "news =  GoogleNews(lang='en',region='IN')\n",
    "news.set_lang('en')\n",
    "news.set_encode('utf-8')\n",
    "s= start_date = dt.date(2016,1,1)\n",
    "e= end_date = dt.date(2023,8,8)\n",
    "sdate = start_date.strftime('%m/%d/%Y')\n",
    "edate = end_date.strftime('%m/%d/%Y')  \n",
    "print(sdate,edate)\n",
    "news.set_time_range(sdate,edate)\n",
    "search_query = ' \"'.join(socio_economic_keywords)+\" \"\n",
    "print(search_query)\n",
    "\n",
    "all_results = []\n",
    "\n",
    "\n",
    "for keyword in socio_economic_keywords:\n",
    "    news.search(keyword)  \n",
    "    results = news.results(sort=True)  \n",
    "    all_results.extend(results)  \n",
    "\n",
    "df = pd.DataFrame(all_results)\n",
    "\n",
    "print(df)"
   ]
  },
  {
   "cell_type": "code",
   "execution_count": 11,
   "metadata": {},
   "outputs": [],
   "source": [
    "excel_name = 'new_file.xlsx'\n",
    "df.to_excel(excel_name,index = False)"
   ]
  },
  {
   "cell_type": "code",
   "execution_count": 12,
   "metadata": {},
   "outputs": [
    {
     "name": "stdout",
     "output_type": "stream",
     "text": [
      "Hello World\n"
     ]
    }
   ],
   "source": [
    "print(\"Hello World\")"
   ]
  }
 ],
 "metadata": {
  "kernelspec": {
   "display_name": "project",
   "language": "python",
   "name": "python3"
  },
  "language_info": {
   "codemirror_mode": {
    "name": "ipython",
    "version": 3
   },
   "file_extension": ".py",
   "mimetype": "text/x-python",
   "name": "python",
   "nbconvert_exporter": "python",
   "pygments_lexer": "ipython3",
   "version": "3.11.2"
  },
  "orig_nbformat": 4
 },
 "nbformat": 4,
 "nbformat_minor": 2
}
