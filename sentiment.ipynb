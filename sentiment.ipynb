{
 "cells": [
  {
   "cell_type": "markdown",
   "metadata": {},
   "source": [
    "**Importing Modules**"
   ]
  },
  {
   "cell_type": "code",
   "execution_count": 3,
   "metadata": {},
   "outputs": [],
   "source": [
    "from GoogleNews import GoogleNews\n",
    "import re\n",
    "import nltk\n",
    "from string import punctuation\n",
    "from nltk.tokenize import word_tokenize\n",
    "from nltk.corpus import stopwords\n",
    "from nltk.corpus import wordnet as wn\n",
    "from nltk.corpus import sentiwordnet as swn\n",
    "from vaderSentiment.vaderSentiment import SentimentIntensityAnalyzer\n",
    "from textblob import TextBlob\n",
    "import datetime as dt\n",
    "import openpyxl\n",
    "import pandas as pd"
   ]
  },
  {
   "cell_type": "markdown",
   "metadata": {},
   "source": [
    "**Importing NLTK feature**"
   ]
  },
  {
   "cell_type": "code",
   "execution_count": null,
   "metadata": {},
   "outputs": [
    {
     "ename": "",
     "evalue": "",
     "output_type": "error",
     "traceback": [
      "\u001b[1;31mRunning cells with 'project' requires the ipykernel package.\n",
      "\u001b[1;31mRun the following command to install 'ipykernel' into the Python environment. \n",
      "\u001b[1;31mCommand: '\"c:/Users/Vineet Trivedi/OneDrive/Desktop/College/Capstone/Codes/project/Scripts/python.exe\" -m pip install ipykernel -U --force-reinstall'"
     ]
    }
   ],
   "source": [
    "'''\n",
    "nltk.download('stopwords')\n",
    "nltk.download('punkt')\n",
    "nltk.download('sentiwordnet')\n",
    "nltk.download('wordnet')\n",
    "nltk.download('omw-1.4')\n",
    "nltk.download('averaged_perceptron_tagger')\n",
    "'''"
   ]
  },
  {
   "cell_type": "markdown",
   "metadata": {},
   "source": [
    "Defining Keywords for Socio Economic Causes"
   ]
  },
  {
   "cell_type": "code",
   "execution_count": null,
   "metadata": {},
   "outputs": [
    {
     "ename": "",
     "evalue": "",
     "output_type": "error",
     "traceback": [
      "\u001b[1;31mRunning cells with 'project' requires the ipykernel package.\n",
      "\u001b[1;31mRun the following command to install 'ipykernel' into the Python environment. \n",
      "\u001b[1;31mCommand: '\"c:/Users/Vineet Trivedi/OneDrive/Desktop/College/Capstone/Codes/project/Scripts/python.exe\" -m pip install ipykernel -U --force-reinstall'"
     ]
    }
   ],
   "source": [
    "socio_economic_keywords = [\n",
    "    \"Poverty\",\n",
    "    \"Inequality\",\n",
    "    \"Unemployment\",\n",
    "    \"Economic disparity\",\n",
    "    \"Social justice\",\n",
    "    \"Wealth gap\",\n",
    "    \"Income inequality\",\n",
    "    \"Education access\",\n",
    "    \"Healthcare access\",\n",
    "    \"Housing crisis\",\n",
    "    \"Labor rights\",\n",
    "    \"Minimum wage\",\n",
    "    \"Economic empowerment\",\n",
    "    \"Gender pay gap\",\n",
    "    \"Racial discrimination\",\n",
    "    \"Access to resources\",\n",
    "    \"Food security\",\n",
    "    \"Social mobility\",\n",
    "    \"Economic development\",\n",
    "    \"Wealth distribution\"\n",
    "]\n"
   ]
  },
  {
   "cell_type": "markdown",
   "metadata": {},
   "source": [
    "Fetching News "
   ]
  },
  {
   "cell_type": "code",
   "execution_count": null,
   "metadata": {},
   "outputs": [
    {
     "ename": "",
     "evalue": "",
     "output_type": "error",
     "traceback": [
      "\u001b[1;31mRunning cells with 'project' requires the ipykernel package.\n",
      "\u001b[1;31mRun the following command to install 'ipykernel' into the Python environment. \n",
      "\u001b[1;31mCommand: '\"c:/Users/Vineet Trivedi/OneDrive/Desktop/College/Capstone/Codes/project/Scripts/python.exe\" -m pip install ipykernel -U --force-reinstall'"
     ]
    }
   ],
   "source": [
    "news =  GoogleNews(lang='en',region='in')\n",
    "news.set_lang('en')\n",
    "news.set_encode('utf-8')\n",
    "s= start_date = dt.date(2016,1,1)\n",
    "e= end_date = dt.date(2023,8,8)\n",
    "sdate = start_date.strftime('%m/%d/%Y')\n",
    "edate = end_date.strftime('%m/%d/%Y')  \n",
    "print(sdate,edate)\n",
    "news.set_time_range(sdate,edate)\n",
    "search_query = ' \"'.join(socio_economic_keywords)+\" \"\n",
    "print(search_query)\n",
    "\n",
    "all_results = []\n",
    "\n",
    "# Loop through keywords and fetch articles\n",
    "for keyword in socio_economic_keywords:\n",
    "    news.search(keyword)  # Perform the search\n",
    "    results = news.results(sort=True)  # Get the results for the search\n",
    "    all_results.extend(results)  # Extend the all_results list with current keyword's results\n",
    "\n",
    "# Create a DataFrame from the collected articles\n",
    "df = pd.DataFrame(all_results)\n",
    "\n",
    "# Print the DataFrame\n",
    "print(df)"
   ]
  },
  {
   "cell_type": "code",
   "execution_count": null,
   "metadata": {},
   "outputs": [
    {
     "ename": "",
     "evalue": "",
     "output_type": "error",
     "traceback": [
      "\u001b[1;31mRunning cells with 'project' requires the ipykernel package.\n",
      "\u001b[1;31mRun the following command to install 'ipykernel' into the Python environment. \n",
      "\u001b[1;31mCommand: '\"c:/Users/Vineet Trivedi/OneDrive/Desktop/College/Capstone/Codes/project/Scripts/python.exe\" -m pip install ipykernel -U --force-reinstall'"
     ]
    }
   ],
   "source": [
    "excel_name = 'new_file.xlsx'\n",
    "df.to_excel(excel_name,index = False)"
   ]
  },
  {
   "cell_type": "markdown",
   "metadata": {},
   "source": [
    "1241f850fbe24bbea3491e8c96cafb65"
   ]
  },
  {
   "cell_type": "code",
   "execution_count": null,
   "metadata": {},
   "outputs": [
    {
     "ename": "",
     "evalue": "",
     "output_type": "error",
     "traceback": [
      "\u001b[1;31mRunning cells with 'project' requires the ipykernel package.\n",
      "\u001b[1;31mRun the following command to install 'ipykernel' into the Python environment. \n",
      "\u001b[1;31mCommand: '\"c:/Users/Vineet Trivedi/OneDrive/Desktop/College/Capstone/Codes/project/Scripts/python.exe\" -m pip install ipykernel -U --force-reinstall'"
     ]
    }
   ],
   "source": [
    "print(df.head)"
   ]
  },
  {
   "cell_type": "code",
   "execution_count": null,
   "metadata": {},
   "outputs": [
    {
     "ename": "",
     "evalue": "",
     "output_type": "error",
     "traceback": [
      "\u001b[1;31mRunning cells with 'project' requires the ipykernel package.\n",
      "\u001b[1;31mRun the following command to install 'ipykernel' into the Python environment. \n",
      "\u001b[1;31mCommand: '\"c:/Users/Vineet Trivedi/OneDrive/Desktop/College/Capstone/Codes/project/Scripts/python.exe\" -m pip install ipykernel -U --force-reinstall'"
     ]
    }
   ],
   "source": []
  }
 ],
 "metadata": {
  "kernelspec": {
   "display_name": "project",
   "language": "python",
   "name": "python3"
  },
  "language_info": {
   "codemirror_mode": {
    "name": "ipython",
    "version": 3
   },
   "file_extension": ".py",
   "mimetype": "text/x-python",
   "name": "python",
   "nbconvert_exporter": "python",
   "pygments_lexer": "ipython3",
   "version": "3.11.2"
  },
  "orig_nbformat": 4
 },
 "nbformat": 4,
 "nbformat_minor": 2
}
